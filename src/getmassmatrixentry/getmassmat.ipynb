{
 "cells": [
  {
   "cell_type": "code",
   "execution_count": 1,
   "id": "8018d203",
   "metadata": {},
   "outputs": [],
   "source": [
    "import numpy as np\n",
    "#import time\n",
    "#import matplotlib.pyplot as plt\n",
    "\n",
    "from ngsolve import *\n",
    "\n",
    "from ngsolve.meshes import *\n",
    "#from ngsolve.solvers import *\n",
    "#from netgen.geom2d import unit_square\n",
    "\n",
    "from ngsolve.webgui import Draw"
   ]
  },
  {
   "cell_type": "code",
   "execution_count": 2,
   "id": "4c993bef",
   "metadata": {},
   "outputs": [
    {
     "name": "stdout",
     "output_type": "stream",
     "text": [
      "compile it\n",
      "called lgt_module\n"
     ]
    }
   ],
   "source": [
    "from pathlib import Path\n",
    "from ngsolve.fem import CompilePythonModule\n",
    "\n",
    "lgtcpp_path = \"getmassmatrixentry.cpp\" \n",
    "\n",
    "if True:\n",
    "    print(\"compile it\")\n",
    "    m = CompilePythonModule(Path(lgtcpp_path), init_function_name=\"lgt_module\")\n",
    "else:\n",
    "    print(\"load it\")\n",
    "    #import lgt_module as m"
   ]
  },
  {
   "cell_type": "code",
   "execution_count": 3,
   "id": "52658331-2084-4d6f-8030-d61e457b46e9",
   "metadata": {},
   "outputs": [
    {
     "data": {
      "application/vnd.jupyter.widget-view+json": {
       "model_id": "8c4a74672a964708b6e9d6c92dbcaefa",
       "version_major": 2,
       "version_minor": 0
      },
      "text/plain": [
       "WebGuiWidget(layout=Layout(height='50vh', width='100%'), value={'gui_settings': {}, 'ngsolve_version': '6.2.23…"
      ]
     },
     "metadata": {},
     "output_type": "display_data"
    },
    {
     "data": {
      "text/plain": [
       "BaseWebGuiScene"
      ]
     },
     "execution_count": 3,
     "metadata": {},
     "output_type": "execute_result"
    }
   ],
   "source": [
    "ne=5\n",
    "#mesh = MakeStructured2DMesh(quads=True, nx=ne, ny=ne, periodic_x=True, periodic_y=True)\n",
    "mesh = MakeStructured2DMesh(quads=True, nx=ne, ny=ne, periodic_x=False, periodic_y=False)\n",
    "#mesh = MakeStructured2DMesh(quads=False, nx=ne, ny=ne, periodic_x=False, periodic_y=False)\n",
    "\n",
    "#mesh = Mesh(unit_square.GenerateMesh(maxh=0.1))\n",
    "\n",
    "#mesh = unit_square.GenerateMesh(maxh=0.1)\n",
    "\n",
    "Draw(mesh)"
   ]
  },
  {
   "cell_type": "code",
   "execution_count": null,
   "id": "4a01bd7e",
   "metadata": {},
   "outputs": [],
   "source": [
    "m.CalcMassMat(mesh)"
   ]
  },
  {
   "cell_type": "code",
   "execution_count": null,
   "id": "b7b43f5b",
   "metadata": {},
   "outputs": [],
   "source": []
  },
  {
   "cell_type": "code",
   "execution_count": null,
   "id": "490f9dfd",
   "metadata": {},
   "outputs": [],
   "source": []
  },
  {
   "cell_type": "code",
   "execution_count": null,
   "id": "65b6e398-298a-40ff-bdbc-9b1f5a235375",
   "metadata": {},
   "outputs": [],
   "source": []
  },
  {
   "cell_type": "code",
   "execution_count": null,
   "id": "c8c5adfc-8253-4f31-ada9-a44a4d2db147",
   "metadata": {},
   "outputs": [],
   "source": []
  },
  {
   "cell_type": "code",
   "execution_count": null,
   "id": "2008432c-d808-43ef-afec-eaf2f7313381",
   "metadata": {},
   "outputs": [],
   "source": []
  }
 ],
 "metadata": {
  "kernelspec": {
   "display_name": "Python 3 (ipykernel)",
   "language": "python",
   "name": "python3"
  },
  "language_info": {
   "codemirror_mode": {
    "name": "ipython",
    "version": 3
   },
   "file_extension": ".py",
   "mimetype": "text/x-python",
   "name": "python",
   "nbconvert_exporter": "python",
   "pygments_lexer": "ipython3",
   "version": "3.10.12"
  }
 },
 "nbformat": 4,
 "nbformat_minor": 5
}
