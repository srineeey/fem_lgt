{
 "cells": [
  {
   "cell_type": "markdown",
   "id": "a27ced7f",
   "metadata": {},
   "source": [
    "# Leap Frog Time Stepping for Yang Mills\n",
    "\n",
    "See work of Christiansen, Winther\n",
    "https://epubs.siam.org/doi/pdf/10.1137/040616887\n",
    "\n",
    "Srinath Bulusu, Joachim Schöberl"
   ]
  },
  {
   "cell_type": "code",
   "execution_count": 1,
   "id": "46169aac",
   "metadata": {},
   "outputs": [],
   "source": [
    "from ngsolve import *\n",
    "\n",
    "from ngsolve.meshes import *\n",
    "\n",
    "from ngsolve.solvers import *\n",
    "from ngsolve.webgui import Draw\n",
    "\n",
    "import matplotlib.pyplot as plt\n",
    "\n",
    "from su2_yangmills import *\n",
    "\n",
    "import numpy as np\n",
    "import json"
   ]
  },
  {
   "cell_type": "code",
   "execution_count": 2,
   "id": "a8975c2a",
   "metadata": {},
   "outputs": [],
   "source": [
    "ne=40\n",
    "#mesh = MakeStructured2DMesh(quads=False, nx=ne, ny=ne, periodic_x=True, periodic_y=True)\n",
    "mesh = MakeStructured2DMesh(quads=True, nx=ne, ny=ne, periodic_x=True, periodic_y=True)\n",
    "#mesh = MakeStructured2DMesh(quads=False, nx=ne, ny=ne, periodic_x=False, periodic_y=False)\n",
    "#Draw(mesh)"
   ]
  },
  {
   "cell_type": "markdown",
   "id": "14020c14",
   "metadata": {},
   "source": [
    "Function spaces of Interest are Lie algebra valued p-forms $\\Lambda^p(M,\\mathfrak{g})$. In two dimensions $p=0,1,2$\n",
    "\n",
    "The Lie algebra $\\mathfrak{g} = su(2)$ can be spanned by three basis vectors (Pauli matrices $\\sigma_k$ for example). We will from now on only work with coefficients in the basis $\\frac{1}{2i} \\sigma_k$, hence $\\mathbb{R}^3$-valued p-forms $\\Lambda^p(M,\\mathbb{R}^3)$. The advantage of this basis, is that the Lie Bracket corresponds to the cross product of coefficients!"
   ]
  },
  {
   "cell_type": "code",
   "execution_count": 3,
   "id": "6127c715",
   "metadata": {},
   "outputs": [],
   "source": [
    "order=6\n",
    "fesC = Periodic(L2(mesh, order=order-1))**3 # for su2 charge\n",
    "fesA = Periodic(HCurl(mesh, order=order))**3 # for su2 gauge potential\n",
    "fesAz = Periodic(H1(mesh, order=order))**3 # for su2 gauge potential z component\n",
    "fesA3D = fesA*fesAz\n",
    "fesA3DC = fesA3D*fesC"
   ]
  },
  {
   "cell_type": "markdown",
   "id": "65a8af6a",
   "metadata": {},
   "source": [
    "The connection is a map $\\mathrm{d}_A: \\Lambda^p(M,\\mathfrak{g}) \\rightarrow \\Lambda^{p+1}(M,\\mathfrak{g})$ and acts as $v \\mapsto \\mathrm{d}_A v := \\mathrm{d}v + [A \\wedge v]$\n",
    "\n",
    "The exterior derivative in $\\mathbb{R}^2$ can be interpreted as gradient and curl\n",
    "$H1 \\simeq \\Lambda^0 \\stackrel{\\nabla}{\\rightarrow} Hc \\simeq \\Lambda^1 \\stackrel{\\nabla \\times}{\\rightarrow} L2 \\simeq \\Lambda^2$\n",
    "\n",
    "The wedge Bracket $[A \\wedge B]$ is the linear extension of $[\\mathrm{d}x^\\mu \\otimes \\sigma_k \\wedge \\mathrm{d}x^\\nu \\otimes \\sigma_l] = \\mathrm{d}x^\\mu \\wedge \\mathrm{d}x^\\nu \\otimes [\\sigma_k, \\sigma_l]$\n",
    "\n",
    "The Lie Bracket cna be expressed in terms of structure constants $[\\sigma_k, \\sigma_l] = f_{klm} \\sigma_m$ which in the case of $su(2)$ are the fully antisymmetric Levi Civita symbol $f_{klm}=\\epsilon_{klm}$, and we can use the $\\mathbb{R}^3$-Cross product for coefficients.\n",
    "\n",
    "the inner product of two basis matrices is $\\langle \\sigma_k, \\sigma_l \\rangle = \\mathrm{Tr}(\\sigma_k \\sigma_l^\\top)$ which in the case of $su(2)$ is $\\langle \\sigma_k, \\sigma_l \\rangle = \\delta_{kl}$, and we can use the $\\mathbb{R}^3$-Inner Product for coefficients."
   ]
  },
  {
   "cell_type": "code",
   "execution_count": 4,
   "id": "c660f39e",
   "metadata": {},
   "outputs": [],
   "source": [
    "A, Az = fesA3D.TrialFunction()\n",
    "E, Ez = fesA3D.TrialFunction()\n",
    "B, Bz = fesA3D.TrialFunction()\n",
    "\n",
    "Ap, Azp = fesA3D.TestFunction()\n",
    "Ep, Ezp = fesA3D.TestFunction()\n",
    "Bp, Bzp = fesA3D.TestFunction()\n",
    "\n",
    "C = fesC.TrialFunction()\n",
    "Cp = fesC.TestFunction()\n",
    "\n",
    "\n",
    "gfA3D = GridFunction(fesA3D)\n",
    "gfE3D = GridFunction(fesA3D)\n",
    "gfC = GridFunction(fesC)\n",
    "gfB3D = GridFunction(fesA3D)\n",
    "\n",
    "gfA3Dg = GridFunction(fesA3D)\n",
    "gfE3Dg = GridFunction(fesA3D)\n",
    "gfCg = GridFunction(fesC)\n",
    "gfB3Dg = GridFunction(fesA3D)"
   ]
  },
  {
   "cell_type": "code",
   "execution_count": 5,
   "id": "5b06534f",
   "metadata": {},
   "outputs": [],
   "source": [
    "# matrices for E-A leapfrog time stepping\n",
    "m = BilinearForm(fesA3D)\n",
    "m += LieInnerProduct(E,Ep)*dx\n",
    "m += LieInnerProduct(Ez,Ezp)*dx\n",
    "#m += LieInnerProduct(E3D,E3Dp)*dx\n",
    "\n",
    "m.Assemble()\n",
    "minv = m.mat.Inverse(fesA3D.FreeDofs(), inverse=\"sparsecholesky\")\n",
    "\n",
    "covdiv_F = BilinearForm(fesA3D, nonassemble=True)\n",
    "curl_A_2Dz_CF = curl_A_2Dz(A, Az, Ep, Ezp)\n",
    "F_A_2Dz_CF = F_A_2Dz(A, Az)\n",
    "covdiv_F += InnerProduct(F_A_2Dz_CF, curl_A_2Dz_CF)*dx(bonus_intorder=2*order)\n",
    "\n",
    "\n",
    "covdiv = BilinearForm(fesA3D, nonassemble=True)\n",
    "curl_A_Ep_CF = curl_A_2Dz(gfA3D.components[0], gfA3D.components[1], Ep, Ezp)\n",
    "# TODO: B in Hdiv?\n",
    "covdiv += InnerProduct(gVector_3DCF(B,Bz), curl_A_Ep_CF)*dx(bonus_intorder=order)\n",
    "\n",
    "covgrad = BilinearForm(trialspace=fesC, testspace=fesA3D, nonassemble=True)\n",
    "grad_A_2Dz_C_CF = grad_A_2Dz(gfA3D.components[0], gfA3D.components[1], C)\n",
    "covgrad += InnerProduct(grad_A_2Dz_C_CF, gVector_3DCF(Ep,Ezp))*dx(bonus_intorder=order)\n",
    "\n",
    "\n",
    "\n",
    "curv = BilinearForm(fesA3D, nonassemble=True)\n",
    "F_A_2Dz_CF = F_A_2Dz(A, Az)\n",
    "curv += InnerProduct(F_A_2Dz_CF, gVector_3DCF(Bp, Bzp))*dx(bonus_intorder=order)\n",
    "\n",
    "\n",
    "\n",
    "covdivg = BilinearForm(fesA3D, nonassemble=True)\n",
    "curl_A_Ep_CFg = curl_A_2Dz(gfA3Dg.components[0], gfA3Dg.components[1], Ep, Ezp)\n",
    "covdivg += InnerProduct(gVector_3DCF(B,Bz), curl_A_Ep_CFg)*dx(bonus_intorder=order)\n",
    "\n",
    "covgradg = BilinearForm(trialspace=fesC, testspace=fesA3D, nonassemble=True)\n",
    "grad_A_2Dz_C_CFg = grad_A_2Dz(gfA3Dg.components[0], gfA3Dg.components[1], C)\n",
    "covgradg += InnerProduct(grad_A_2Dz_C_CFg, gVector_3DCF(Ep,Ezp))*dx(bonus_intorder=order)"
   ]
  },
  {
   "cell_type": "code",
   "execution_count": null,
   "id": "ee7d1529",
   "metadata": {},
   "outputs": [],
   "source": []
  },
  {
   "cell_type": "code",
   "execution_count": 6,
   "id": "a4475b66",
   "metadata": {},
   "outputs": [],
   "source": [
    "# matrices for evaluating charge\n",
    "mC = BilinearForm(fesC)\n",
    "mC += LieInnerProduct(C,Cp)*dx\n",
    "\n",
    "mC.Assemble()\n",
    "mCinv = mC.mat.Inverse(fesC.FreeDofs(), inverse=\"sparsecholesky\")\n",
    "\n",
    "\n",
    "covdivC = BilinearForm(trialspace=fesA3D, testspace=fesC, nonassemble=True)\n",
    "grad_A_2Dz_Cp_CF = grad_A_2Dz(gfA3D.components[0], gfA3D.components[1], Cp)\n",
    "covdivC += LieInnerProduct(gVector_3DCF(E,Ez), grad_A_2Dz_Cp_CF)*dx(bonus_intorder=order)\n",
    "\n",
    "covdivCg = BilinearForm(trialspace=fesA3D, testspace=fesC, nonassemble=True)\n",
    "grad_A_2Dz_Cp_CFg = grad_A_2Dz(gfA3Dg.components[0], gfA3Dg.components[1], Cp)\n",
    "covdivCg += LieInnerProduct(gVector_3DCF(E,Ez), grad_A_2Dz_Cp_CFg)*dx(bonus_intorder=order)"
   ]
  },
  {
   "cell_type": "markdown",
   "id": "4b811fb1",
   "metadata": {},
   "source": [
    "Functions transform under gauge transformations $g: M \\rightarrow G = SU(2)$ via\n",
    "\n",
    "$\n",
    "E \\mapsto g E g^{-1}\n",
    "$\n",
    "\n",
    "$\n",
    "A \\mapsto g A g^{-1} - \\mathrm{d} g g^{-1}\n",
    "$\n",
    "\n",
    "For $SU(2)$ some operations can be implemented using quaternions $\\mathbb{H}$."
   ]
  },
  {
   "cell_type": "code",
   "execution_count": 7,
   "id": "026306b4",
   "metadata": {},
   "outputs": [
    {
     "data": {
      "application/vnd.jupyter.widget-view+json": {
       "model_id": "d04e2fab2fa1425b945c54b4b392db20",
       "version_major": 2,
       "version_minor": 0
      },
      "text/plain": [
       "WebGuiWidget(layout=Layout(height='50vh', width='100%'), value={'gui_settings': {}, 'ngsolve_version': '6.2.23…"
      ]
     },
     "metadata": {},
     "output_type": "display_data"
    },
    {
     "name": "stdout",
     "output_type": "stream",
     "text": [
      "ungauged gfEz conf:\n"
     ]
    },
    {
     "data": {
      "application/vnd.jupyter.widget-view+json": {
       "model_id": "b6f29c4edc0842baa99206d4a0c96003",
       "version_major": 2,
       "version_minor": 0
      },
      "text/plain": [
       "WebGuiWidget(layout=Layout(height='50vh', width='100%'), value={'gui_settings': {}, 'ngsolve_version': '6.2.23…"
      ]
     },
     "metadata": {},
     "output_type": "display_data"
    },
    {
     "name": "stdout",
     "output_type": "stream",
     "text": [
      "gauged Ez conf:\n"
     ]
    },
    {
     "data": {
      "application/vnd.jupyter.widget-view+json": {
       "model_id": "9fc7732e94264654b151568a73da6767",
       "version_major": 2,
       "version_minor": 0
      },
      "text/plain": [
       "WebGuiWidget(layout=Layout(height='50vh', width='100%'), value={'gui_settings': {}, 'ngsolve_version': '6.2.23…"
      ]
     },
     "metadata": {},
     "output_type": "display_data"
    },
    {
     "name": "stdout",
     "output_type": "stream",
     "text": [
      "norm_diff\n"
     ]
    },
    {
     "data": {
      "application/vnd.jupyter.widget-view+json": {
       "model_id": "f08bc52aac58490ba6aaa285f9377ceb",
       "version_major": 2,
       "version_minor": 0
      },
      "text/plain": [
       "WebGuiWidget(layout=Layout(height='50vh', width='100%'), value={'gui_settings': {}, 'ngsolve_version': '6.2.23…"
      ]
     },
     "metadata": {},
     "output_type": "display_data"
    },
    {
     "name": "stdout",
     "output_type": "stream",
     "text": [
      "\n",
      "\n",
      "[<ngsolve.fem.CoefficientFunction object at 0x7f2afdc6b970>, <ngsolve.comp.ComponentGridFunction object at 0x7f2afdc8c9f0>, <ngsolve.comp.ComponentGridFunction object at 0x7f2afdc8c860>]\n"
     ]
    },
    {
     "data": {
      "text/plain": [
       "'gaugetrafo/vtk/vtk_snap'"
      ]
     },
     "execution_count": 7,
     "metadata": {},
     "output_type": "execute_result"
    }
   ],
   "source": [
    "sigma2 = 0.003\n",
    "mu0 = [0.5, 0.5]\n",
    "mu1 = [0.7, 0.5]\n",
    "mu2 = [0.3, 0.5]\n",
    "mu3 = [0.5, 0.3]\n",
    "\n",
    "E_init_CF = CF( (0,0 ,0,0 ,0,0) ).Reshape((3,2))\n",
    "#Ez_init_CF = CF( (gaussxyper([0.5, 0.5], 2*sigma2) ,0 ,0) ).Reshape((3,1))\n",
    "#Ez_init_CF = CF( (sin(4*pi*x) ,0 ,0) ).Reshape((3,1))\n",
    "#Ez_init_CF = CF( (sin(4*pi*x + 4*pi*y) ,0 ,0) ).Reshape((3,1))\n",
    "#Ez_init_CF = CF( (gaussxyper(mu1, sigma2) ,gaussxyper(mu2, sigma2) ,0) ).Reshape((3,1))\n",
    "\n",
    "#Ez_init_CF = CF( (gaussxyper(mu1, sigma2) + gaussxyper(mu2, sigma2), 0 ,0) ).Reshape((3,1))\n",
    "\n",
    "scale = 0.001\n",
    "Ez_init_CF = CF( (gaussxyper(mu1, sigma2) ,gaussxyper(mu2, sigma2) ,0) ).Reshape((3,1))\n",
    "Ez_init_CF = scale*CF( (gaussxyper(mu1, sigma2) ,gaussxyper(mu2, sigma2) ,0) ).Reshape((3,1))\n",
    "\n",
    "\n",
    "#Ez_init_CF = CF( (0,0 ,0,0 ,0,0) ).Reshape((3,2))\n",
    "\n",
    "A_init_CF = CF( (0,0 ,0,0 ,0,0) ).Reshape((3,2))\n",
    "Az_init_CF = CF( (0 ,0 ,0) ).Reshape((3,1))\n",
    "\n",
    "# phi*n_k is are the Lie Algebra coefficients in the same basis as E,A ([.,.] becomes Cross!)\n",
    "#phi_CF = CF( 0.25*pi )\n",
    "\n",
    "r = lambda mu: [(x-mu[0]),(y-mu[1])]\n",
    "bubble = lambda mu: 16*(r(mu)[0]+0.5)*(r(mu)[0]+0.5-1)*(r(mu)[1]+0.5)*(r(mu)[1]+0.5-1)\n",
    "#bubble = lambda mu: 16*(r(mu)[0]-0.5)*(r(mu)[0]-0.5-1)*(r(mu)[1]-0.5)*(r(mu)[1]-0.5-1)\n",
    "\n",
    "#phi_CF = lambda mu: CF( 0 )\n",
    "#phi_CF = lambda mu: CF( 0.5*pi )\n",
    "#phi_CF = lambda mu: CF( 2*pi*r(mu)[1] )\n",
    "#phi_CF = lambda mu: CF( 0.5*pi*r(mu)[1] )\n",
    "#phi_CF = lambda mu: CF( 0.5*pi*r(mu)[0] )\n",
    "#phi_CF = lambda mu: CF( 0.00353*gaussxy(mu1, 7*sigma2) )\n",
    "#phi_CF = lambda mu: CF( 1 )\n",
    "\n",
    "# rotate both peaks into the same color space\n",
    "#phi_CF = lambda mu: CF( IfPos(sin(2*pi*r(mu)[0]), 0.5*pi * (sin(2*pi*r(mu)[0]))**(1./6.), 0.) )\n",
    "\n",
    "## THIS IS not so SEVERE\n",
    "#phi_CF = lambda mu: CF( 2*pi*sin(4*pi*r(mu)[1]) )\n",
    "#phi_CF = lambda mu: CF( 2*pi*sin(4*pi*r(mu)[0]) )\n",
    "#phi_CF = lambda mu: CF( pi*sin(4*pi*r(mu)[1]) )\n",
    "#phi_CF = lambda mu: CF( pi*sin(4*pi*r(mu)[0]) )\n",
    "#phi_CF = lambda mu: CF( 2*pi*sin( 4*pi*r(mu)[0] + 4*pi*r(mu)[1] ) )\n",
    "\n",
    "## THIS IS SEVERE!!!\n",
    "#phi_CF = lambda mu: CF( pi*sin( 4*pi*r(mu)[0] + 4*pi*r(mu)[1] ) )\n",
    "\n",
    "## THIS IS SEVERE!!!\n",
    "#phi_CF = lambda mu: CF( pi*sin(4*pi*r(mu)[0])*sin(4*pi*r(mu)[1]) )\n",
    "\n",
    "phi_CF = lambda mu: 0.05*gaussxyper(mu1, sigma2) - 0.05*gaussxyper(mu2, sigma2)\n",
    "\n",
    "#phi_CF = lambda mu: CF( 2*pi*sin(4*pi*r(mu)[0]) )\n",
    "#phi_CF = lambda mu: CF( 2*pi*sin( 4*pi*( (r(mu)[0])**2 + (r(mu)[1])**2) )  )\n",
    "\n",
    "#phi_CF = lambda mu: CF( r(mu)[0]*(r(mu)[0]-1)*r(mu)[1]*(r(mu)[1]-1)*8*pi*sin(8*pi*r(mu)[1]) )\n",
    "#phi_CF = lambda mu: CF( pi*sin(pi*(y-mu[1]) ) )\n",
    "#phi_CF = lambda mu: CF( pi*sin(pi*(y-mu[1])+ pi*(x-mu[0])) )\n",
    "#phi_CF = lambda mu: CF( pi*cos( pi*sqrt((y-mu[1])**2+(x-mu[0])**2) )  )\n",
    "#phi_CF = lambda mu: CF( pi*cos( pi*sqrt((y-mu[1])**2+(x-mu[0])**2) ) + 0.1*pi*sin(2*pi*y) )\n",
    "#phi_CF = lambda mu: (1./(6.1*1000))*gaussxy([mu[0],mu[1]], sigma2)\n",
    "#phi_CF = lambda mu: sin(4*pi*(x-mu[0]))*(1./(6.1*1000))*gaussxy([mu[0],mu[1]], sigma2)\n",
    "\n",
    "#phi_CF = square_per_func(phi_CF, x0=[0.5,0.5], zones=([1,0],[0,1],[1,1],[1,-1]))\n",
    "#phi_CF = square_per_func(phi_CF, x0=[mu1[0],mu1[1]], zones=([1,0],[0,1],[1,1],[1,-1]))\n",
    "\n",
    "#phi_CF = bubble([0,0])*phi_CF([0,0])\n",
    "#phi_CF = bubble([0,0])*phi_CF(mu1)\n",
    "#phi_CF = bubble([0.5,0.5])*phi_CF([0.5, 0.5])\n",
    "phi_CF = phi_CF(mu0)\n",
    "Draw(phi_CF, mesh)\n",
    "#phi_CF = phi_CF([0,0])\n",
    "\n",
    "#n_CF = CF( (0.01,(x-0.5), (y-0.5)) )\n",
    "n_CF = CF( (0,0,1) )\n",
    "#norm_n = Norm(n_CF)\n",
    "#if Integrate(sqrt(norm_n*norm_n), mesh) < 0.001:\n",
    "#    norm_n += 0.001   \n",
    "#n_CF = 1/norm_n * n_CF\n",
    "\n",
    "\n",
    "E_gauged_CF = gauge_1f(E_init_CF, phi_CF, n_CF)\n",
    "Ez_gauged_CF = gauge_0f(Ez_init_CF, phi_CF, n_CF)\n",
    "\n",
    "#gAginv should remain 0 ...\n",
    "# the dz(g) ginv term is missing due to z symmetry\n",
    "A_gauged_CF = gauge_A(A_init_CF, phi_CF, n_CF)\n",
    "Az_gauged_CF = gauge_0f(Az_init_CF, phi_CF, n_CF)\n",
    "\n",
    "#TODO:index order\n",
    "gfA3D.components[0].Set(A_init_CF)\n",
    "gfA3D.components[1].Set(Az_init_CF)\n",
    "\n",
    "gfE3D.components[0].Set(E_init_CF)\n",
    "gfE3D.components[1].Set(Ez_init_CF)\n",
    "\n",
    "\n",
    "gfA3Dg.components[0].Set(A_gauged_CF)\n",
    "gfA3Dg.components[1].Set(Az_gauged_CF)\n",
    "\n",
    "gfE3Dg.components[0].Set(E_gauged_CF)\n",
    "gfE3Dg.components[1].Set(Ez_gauged_CF)\n",
    "\n",
    "\n",
    "#Remark: the norm in Lie Algebra space should be invariant under gauges!\n",
    "#gauge_Ez_dict = {\"ungauged Ez conf:\": (Ez_init_CF, {}), \"gauged Ez conf:\": (Ez_gauged_CF, {}), \"norm_diff\": (Norm(Ez_init_CF) - Norm(Ez_gauged_CF), {})}\n",
    "gauge_Ez_dict = {\"ungauged gfEz conf:\": (gfE3D.components[1], {}), \"gauged Ez conf:\": (gfE3Dg.components[1], {}), \"norm_diff\": (Norm(gfE3D.components[1]) - Norm(gfE3Dg.components[1]), {})}\n",
    "generate_scenes(gauge_Ez_dict, mesh=mesh)\n",
    "\n",
    "\n",
    "gsnap_gfs = {}\n",
    "gsnap_gfs[\"phi\"] = phi_CF\n",
    "gsnap_gfs[\"Ez\"] = gfE3D.components[1]\n",
    "gsnap_gfs[\"Ezg\"] = gfE3Dg.components[1]\n",
    "\n",
    "\n",
    "gfigfolder_name = \"gaugetrafo\"\n",
    "\n",
    "if not os.path.exists(f\"{gfigfolder_name}/vtk\"):\n",
    "    os.makedirs(f\"{gfigfolder_name}/vtk\")\n",
    "\n",
    "print([gsnap_gfs[key] for key in gsnap_gfs])\n",
    "\n",
    "#vtk = VTKOutput(mesh, coefs=gsnap_gfs, names=snap_names,filename=f\"{gfigfolder_name}/vtk/vtk_snap\",subdivision=2)\n",
    "gvtk = VTKOutput(mesh, coefs=[gsnap_gfs[key] for key in gsnap_gfs], names=[gf_name for gf_name in gsnap_gfs.keys()],filename=f\"{gfigfolder_name}/vtk/vtk_snap\",subdivision=2)\n",
    "gvtk.Do()"
   ]
  },
  {
   "cell_type": "code",
   "execution_count": 8,
   "id": "92c58dea",
   "metadata": {},
   "outputs": [],
   "source": [
    "A_dict = {\"Ax\": (gfA3D.components[0][:,0], {}),\n",
    "          \"Ay\": (gfA3D.components[0][:,1], {}),\n",
    "          \"Az\": (gfA3D.components[1], {})\n",
    "         }\n",
    "\n",
    "E_dict = {\"Ex\": (gfE3D.components[0][:,0], {}),\n",
    "          \"Ey\": (gfE3D.components[0][:,1], {}),\n",
    "          \"Ez\": (gfE3D.components[1], {})\n",
    "         }\n",
    "\n",
    "#generate_scenes(A_dict, mesh=mesh)\n",
    "#generate_scenes(E_dict, mesh=mesh)"
   ]
  },
  {
   "cell_type": "code",
   "execution_count": 9,
   "id": "aeaf1c36",
   "metadata": {},
   "outputs": [
    {
     "data": {
      "text/plain": [
       "<ngsolve.comp.GridFunction at 0x7f2afdc3a840>"
      ]
     },
     "execution_count": 9,
     "metadata": {},
     "output_type": "execute_result"
    }
   ],
   "source": [
    "def calc_charge(gfE3D, gfC, temp_div_A_E, covdivC):\n",
    "    temp_div_A_E[:] = 0.\n",
    "    covdivC.Apply(gfE3D.vec, temp_div_A_E)\n",
    "    gfC.vec.data = mCinv * temp_div_A_E\n",
    "    return gfC\n",
    "\n",
    "#caclulate initial charge\n",
    "gfC0 = GridFunction(fesC)\n",
    "gfC0g = GridFunction(fesC)\n",
    "\n",
    "temp_div_A_E0 = gfC0.vec.CreateVector()\n",
    "temp_div_A_E0g = gfC0g.vec.CreateVector()\n",
    "\n",
    "calc_charge(gfE3D, gfC0, temp_div_A_E0, covdivC)\n",
    "calc_charge(gfE3Dg, gfC0g, temp_div_A_E0g, covdivCg)\n",
    "#Draw (gfC0[:], mesh )"
   ]
  },
  {
   "cell_type": "code",
   "execution_count": 10,
   "id": "e53b2633",
   "metadata": {},
   "outputs": [],
   "source": [
    "temp_div_A_F = gfA3D.vec.CreateVector()\n",
    "gfdiv_A_F = GridFunction(fesA3D)\n",
    "temp_div_A_F[:] = 0.\n",
    "\n",
    "def calc_B3D(gfA3D, gfB3D):\n",
    "    curv.Apply(gfA3D.vec, temp_div_A_F)\n",
    "    gfB3D.vec.data = minv * temp_div_A_F\n",
    "\n",
    "def calc_energies(gfA3D, gfE3D, gfB3D, gfH_dict=None):\n",
    "    to_return = False\n",
    "    if gfH_dict == None:\n",
    "        gfH_dict = {\"HEL\": None, \"HET\": None, \"HBL\": None, \"HBT\": None}\n",
    "        to_return = True\n",
    "    #gfH_dict = {\"HEL\": None, \"HET\": None}\n",
    "    \n",
    "    gfHET = LieInnerProduct(gfE3D.components[0], gfE3D.components[0])\n",
    "    gfHEL = LieInnerProduct(gfE3D.components[1], gfE3D.components[1])\n",
    "\n",
    "    # if gfB3D==None:\n",
    "    #     gfB3D = GridFunction(fesA3D)\n",
    "    \n",
    "    calc_B3D(gfA3D, gfB3D)\n",
    "        \n",
    "    gfHBT = LieInnerProduct(gfB3D.components[0], gfB3D.components[0])\n",
    "    gfHBL = LieInnerProduct(gfB3D.components[1], gfB3D.components[1])\n",
    "    \n",
    "    gfH_dict[\"HET\"] = gfHET\n",
    "    gfH_dict[\"HEL\"] = gfHEL\n",
    "    gfH_dict[\"HBT\"] = gfHBT\n",
    "    gfH_dict[\"HBL\"] = gfHBL\n",
    "\n",
    "    if to_return == True:\n",
    "        return gfH_dict\n",
    "\n",
    "#gfH0_dict = calc_energies(gfA3D, gfE3D)\n",
    "#Draw(gfH0_dict['HEL'], mesh)"
   ]
  },
  {
   "cell_type": "code",
   "execution_count": 11,
   "id": "6996a72f",
   "metadata": {},
   "outputs": [
    {
     "name": "stdout",
     "output_type": "stream",
     "text": [
      "1200\n"
     ]
    }
   ],
   "source": [
    "#tend = 4.\n",
    "#tend = 1.00\n",
    "#tend = 0.7\n",
    "tend = 0.6\n",
    "#tend = 0.5\n",
    "#tend = 0.3\n",
    "#dt = 0.0001\n",
    "dt = 0.0005\n",
    "#dt = 0.001\n",
    "t = 0.\n",
    "n_steps = int(tend/dt)\n",
    "print(n_steps)"
   ]
  },
  {
   "cell_type": "code",
   "execution_count": 12,
   "id": "7e2e0da8",
   "metadata": {},
   "outputs": [
    {
     "name": "stdout",
     "output_type": "stream",
     "text": [
      "C\n"
     ]
    },
    {
     "data": {
      "application/vnd.jupyter.widget-view+json": {
       "model_id": "8d870e71f9e0468f8d106dfbfba09826",
       "version_major": 2,
       "version_minor": 0
      },
      "text/plain": [
       "WebGuiWidget(layout=Layout(height='50vh', width='100%'), value={'gui_settings': {}, 'ngsolve_version': '6.2.23…"
      ]
     },
     "metadata": {},
     "output_type": "display_data"
    },
    {
     "name": "stdout",
     "output_type": "stream",
     "text": [
      "Cg\n"
     ]
    },
    {
     "data": {
      "application/vnd.jupyter.widget-view+json": {
       "model_id": "8c7493b2aa2c4518875ba5155b38ec0e",
       "version_major": 2,
       "version_minor": 0
      },
      "text/plain": [
       "WebGuiWidget(layout=Layout(height='50vh', width='100%'), value={'gui_settings': {}, 'ngsolve_version': '6.2.23…"
      ]
     },
     "metadata": {},
     "output_type": "display_data"
    },
    {
     "name": "stdout",
     "output_type": "stream",
     "text": [
      "|C|-|Cg|\n"
     ]
    },
    {
     "data": {
      "application/vnd.jupyter.widget-view+json": {
       "model_id": "8cfd156d2a904f37aef894feb529de0b",
       "version_major": 2,
       "version_minor": 0
      },
      "text/plain": [
       "WebGuiWidget(layout=Layout(height='50vh', width='100%'), value={'gui_settings': {}, 'ngsolve_version': '6.2.23…"
      ]
     },
     "metadata": {},
     "output_type": "display_data"
    },
    {
     "name": "stdout",
     "output_type": "stream",
     "text": [
      "C-Cg\n"
     ]
    },
    {
     "data": {
      "application/vnd.jupyter.widget-view+json": {
       "model_id": "533b67164a8a4ec69ac3c92ac044caf6",
       "version_major": 2,
       "version_minor": 0
      },
      "text/plain": [
       "WebGuiWidget(layout=Layout(height='50vh', width='100%'), value={'gui_settings': {}, 'ngsolve_version': '6.2.23…"
      ]
     },
     "metadata": {},
     "output_type": "display_data"
    },
    {
     "name": "stdout",
     "output_type": "stream",
     "text": [
      "gfHELg\n"
     ]
    },
    {
     "data": {
      "application/vnd.jupyter.widget-view+json": {
       "model_id": "ee8ec44423934f5c8ae8e003015c1d8b",
       "version_major": 2,
       "version_minor": 0
      },
      "text/plain": [
       "WebGuiWidget(layout=Layout(height='50vh', width='100%'), value={'gui_settings': {}, 'ngsolve_version': '6.2.23…"
      ]
     },
     "metadata": {},
     "output_type": "display_data"
    },
    {
     "name": "stdout",
     "output_type": "stream",
     "text": [
      "gfHEL\n"
     ]
    },
    {
     "data": {
      "application/vnd.jupyter.widget-view+json": {
       "model_id": "c6f1af704a554d7782ae41a53bcb210d",
       "version_major": 2,
       "version_minor": 0
      },
      "text/plain": [
       "WebGuiWidget(layout=Layout(height='50vh', width='100%'), value={'gui_settings': {}, 'ngsolve_version': '6.2.23…"
      ]
     },
     "metadata": {},
     "output_type": "display_data"
    },
    {
     "name": "stdout",
     "output_type": "stream",
     "text": [
      "gfHETg\n"
     ]
    },
    {
     "data": {
      "application/vnd.jupyter.widget-view+json": {
       "model_id": "c8264e48e1cd44e894e3d9f15a8d23de",
       "version_major": 2,
       "version_minor": 0
      },
      "text/plain": [
       "WebGuiWidget(layout=Layout(height='50vh', width='100%'), value={'gui_settings': {}, 'ngsolve_version': '6.2.23…"
      ]
     },
     "metadata": {},
     "output_type": "display_data"
    },
    {
     "name": "stdout",
     "output_type": "stream",
     "text": [
      "gfHET\n"
     ]
    },
    {
     "data": {
      "application/vnd.jupyter.widget-view+json": {
       "model_id": "b7ac65470f1d48b699d68513fe9e6837",
       "version_major": 2,
       "version_minor": 0
      },
      "text/plain": [
       "WebGuiWidget(layout=Layout(height='50vh', width='100%'), value={'gui_settings': {}, 'ngsolve_version': '6.2.23…"
      ]
     },
     "metadata": {},
     "output_type": "display_data"
    },
    {
     "name": "stdout",
     "output_type": "stream",
     "text": [
      "gfHBLg\n"
     ]
    },
    {
     "data": {
      "application/vnd.jupyter.widget-view+json": {
       "model_id": "b9882c0bcd284f92812b5f6bec5afe91",
       "version_major": 2,
       "version_minor": 0
      },
      "text/plain": [
       "WebGuiWidget(layout=Layout(height='50vh', width='100%'), value={'gui_settings': {}, 'ngsolve_version': '6.2.23…"
      ]
     },
     "metadata": {},
     "output_type": "display_data"
    },
    {
     "name": "stdout",
     "output_type": "stream",
     "text": [
      "gfHBL\n"
     ]
    },
    {
     "data": {
      "application/vnd.jupyter.widget-view+json": {
       "model_id": "a1153fb6febe4b1cb36a7e559cde4ba3",
       "version_major": 2,
       "version_minor": 0
      },
      "text/plain": [
       "WebGuiWidget(layout=Layout(height='50vh', width='100%'), value={'gui_settings': {}, 'ngsolve_version': '6.2.23…"
      ]
     },
     "metadata": {},
     "output_type": "display_data"
    },
    {
     "name": "stdout",
     "output_type": "stream",
     "text": [
      "gfHBTg\n"
     ]
    },
    {
     "data": {
      "application/vnd.jupyter.widget-view+json": {
       "model_id": "bdcdb1f46a554247b457975b16bd4035",
       "version_major": 2,
       "version_minor": 0
      },
      "text/plain": [
       "WebGuiWidget(layout=Layout(height='50vh', width='100%'), value={'gui_settings': {}, 'ngsolve_version': '6.2.23…"
      ]
     },
     "metadata": {},
     "output_type": "display_data"
    },
    {
     "name": "stdout",
     "output_type": "stream",
     "text": [
      "gfHBT\n"
     ]
    },
    {
     "data": {
      "application/vnd.jupyter.widget-view+json": {
       "model_id": "15d49df8561e42f98892d2def6f07e3f",
       "version_major": 2,
       "version_minor": 0
      },
      "text/plain": [
       "WebGuiWidget(layout=Layout(height='50vh', width='100%'), value={'gui_settings': {}, 'ngsolve_version': '6.2.23…"
      ]
     },
     "metadata": {},
     "output_type": "display_data"
    },
    {
     "name": "stdout",
     "output_type": "stream",
     "text": [
      "HEL-HELg\n"
     ]
    },
    {
     "data": {
      "application/vnd.jupyter.widget-view+json": {
       "model_id": "7f8df4991fe84fc392b55a30fd521db2",
       "version_major": 2,
       "version_minor": 0
      },
      "text/plain": [
       "WebGuiWidget(layout=Layout(height='50vh', width='100%'), value={'gui_settings': {}, 'ngsolve_version': '6.2.23…"
      ]
     },
     "metadata": {},
     "output_type": "display_data"
    },
    {
     "name": "stdout",
     "output_type": "stream",
     "text": [
      "HET-HETg\n"
     ]
    },
    {
     "data": {
      "application/vnd.jupyter.widget-view+json": {
       "model_id": "ffb5160730eb4df9b8f40501b66dae16",
       "version_major": 2,
       "version_minor": 0
      },
      "text/plain": [
       "WebGuiWidget(layout=Layout(height='50vh', width='100%'), value={'gui_settings': {}, 'ngsolve_version': '6.2.23…"
      ]
     },
     "metadata": {},
     "output_type": "display_data"
    },
    {
     "name": "stdout",
     "output_type": "stream",
     "text": [
      "HBL-HBLg\n"
     ]
    },
    {
     "data": {
      "application/vnd.jupyter.widget-view+json": {
       "model_id": "f21062b5167443f88fc449df444b9641",
       "version_major": 2,
       "version_minor": 0
      },
      "text/plain": [
       "WebGuiWidget(layout=Layout(height='50vh', width='100%'), value={'gui_settings': {}, 'ngsolve_version': '6.2.23…"
      ]
     },
     "metadata": {},
     "output_type": "display_data"
    },
    {
     "name": "stdout",
     "output_type": "stream",
     "text": [
      "HBT-HBTg\n"
     ]
    },
    {
     "data": {
      "application/vnd.jupyter.widget-view+json": {
       "model_id": "bea1e96a5e1c422bac9f08d181ac6dab",
       "version_major": 2,
       "version_minor": 0
      },
      "text/plain": [
       "WebGuiWidget(layout=Layout(height='50vh', width='100%'), value={'gui_settings': {}, 'ngsolve_version': '6.2.23…"
      ]
     },
     "metadata": {},
     "output_type": "display_data"
    },
    {
     "name": "stdout",
     "output_type": "stream",
     "text": [
      "\n",
      "\n",
      " 0.55049999999999484"
     ]
    }
   ],
   "source": [
    "temp_div_A_F = gfA3D.vec.CreateVector()\n",
    "gfdiv_A_F = GridFunction(fesA3D)\n",
    "temp_div_A_F[:] = 0.\n",
    "\n",
    "temp_div_A_E = gfC.vec.CreateVector()\n",
    "temp_div_A_Eg = gfCg.vec.CreateVector()\n",
    "temp_div_A_E[:] = 0.\n",
    "\n",
    "\n",
    "def time_step(gfA3D, gfE3D, temp_div_A_F, covdiv_F):\n",
    "    \n",
    "    gfA3D.vec.data -= dt * gfE3D.vec\n",
    "    \n",
    "    temp_div_A_F[:] = 0.\n",
    "    covdiv_F.Apply(gfA3D.vec, temp_div_A_F)\n",
    "    #temp_div_A_F += f.vec\n",
    "    gfE3D.vec.data += dt * minv * temp_div_A_F\n",
    "    \n",
    "\n",
    "\n",
    "dq =[]\n",
    "dqg =[]\n",
    "dqmdqg = []\n",
    "H = {\"HEL\": [], \"HET\": [], \"HBL\": [], \"HBT\": []}\n",
    "Hg = {\"HEL\": [], \"HET\": [], \"HBL\": [], \"HBT\": []}\n",
    "\n",
    "\n",
    "#gfH_dict = calc_energies(gfA3D, gfE3D, gfB3D, curv)\n",
    "#gfHg_dict = calc_energies(gfA3Dg, gfE3Dg, gfB3Dg, curv)\n",
    "\n",
    "gfH_dict = calc_energies(gfA3D, gfE3D, gfB3D)\n",
    "gfHg_dict = calc_energies(gfA3Dg, gfE3Dg, gfB3Dg)\n",
    "\n",
    "\n",
    "#draw_kwargs = {\"autoscale\":False, \"min\":0, \"max\":2000}\n",
    "\n",
    "scenes_dict = {}\n",
    "\n",
    "# scenes_dict = {\n",
    "#     \"C\": (gfC, {})\n",
    "#     ,\"Az\": (gfA3D.components[1], {}),\n",
    "#     \"Ez\": (gfE3D.components[1], draw_kwargs),\n",
    "#     #\"Axyc3\": (gfA3D.components[0][2,:], {}),\n",
    "#     #\"Exyc3\": (gfE3D.components[0][2,:], {}),\n",
    "# }\n",
    "\n",
    "scenes_dict[\"C\"] = (gfC, {})\n",
    "scenes_dict[\"Cg\"] = (gfCg, {})\n",
    "scenes_dict[\"|C|-|Cg|\"] = (Norm(gfC) - Norm(gfCg), {})\n",
    "scenes_dict[\"C-Cg\"] = (CF(gfC) - gauge_0f(gfCg, -1*phi_CF, n_CF), {})\n",
    "\n",
    "scenes_dict[\"gfHELg\"] = (gfHg_dict[\"HEL\"], {})\n",
    "scenes_dict[\"gfHEL\"] = (gfH_dict[\"HEL\"], {})\n",
    "\n",
    "scenes_dict[\"gfHETg\"] = (gfHg_dict[\"HET\"], {})\n",
    "scenes_dict[\"gfHET\"] = (gfH_dict[\"HET\"], {})\n",
    "\n",
    "scenes_dict[\"gfHBLg\"] = (gfHg_dict[\"HBL\"], {})\n",
    "scenes_dict[\"gfHBL\"] = (gfH_dict[\"HBL\"], {})\n",
    "\n",
    "scenes_dict[\"gfHBTg\"] = (gfHg_dict[\"HBT\"], {})\n",
    "scenes_dict[\"gfHBT\"] = (gfH_dict[\"HBT\"], {})\n",
    "\n",
    "#scenes_dict[\"C-Cg\"] = (gfC-gfCg, {})\n",
    "#scenes_dict[\"Az\"] = (gfA3D.components[1], {})\n",
    "#scenes_dict[\"Ez\"] = (gfE3D.components[1], draw_kwargs)\n",
    "#scenes_dict[\"Ez\"] = (gfE3D.components[1], {})\n",
    "#scenes_dict[\"Ezg\"] = (gfE3Dg.components[1], {})\n",
    "#scenes_dict[\"|Ez|-|Ezg|\"] = (Norm(gfE3D.components[1]) - Norm(gfE3Dg.components[1]), {})\n",
    "#scenes_dict[\"Ez-Ezg\"] = (gfE3D.components[1]-gfE3Dg.components[1], {})\n",
    "\n",
    "    \n",
    "\n",
    "#\"Axyc3\": (gfA3D.components[0][2,:], {})\n",
    "#\"Exyc3\": (gfE3D.components[0][2,:], {})\n",
    "\n",
    "\n",
    "for energy_name in gfH_dict:\n",
    "    #scenes_dict[energy_name] = (gfH_dict[energy_name], {})\n",
    "    #scenes_dict[energy_name+\"g\"] = (gfHg_dict[energy_name], {})\n",
    "    scenes_dict[energy_name+\"-\"+energy_name+\"g\"] = (gfH_dict[energy_name] - gfHg_dict[energy_name], {})\n",
    "\n",
    "snap_names = [name for name in scenes_dict.keys()]\n",
    "#snap_names = [\"C\", \"Cg\", \"|C|-|Cg|\", \"C-Cg\"]\n",
    "snap_gfs = [scenes_dict[name][0] for name in snap_names]\n",
    "#nt_snaps = list(range(0,n_steps,int(n_steps/10)))\n",
    "\n",
    "viz_steps = 10\n",
    "\n",
    "nt_snaps = [ i*int(n_steps/viz_steps) for i in range(viz_steps) ]\n",
    "#nt_snaps = list(range(0,n_steps,int(n_steps/viz_steps)))\n",
    "#nt_snaps = list(range(0,n_steps,int(n_steps)))\n",
    "#nt_snaps = [0, 10, 20]\n",
    "\n",
    "figfolder_name = f\"g_n{ne}_order{order}_dt{dt}_scale{scale}\"  \n",
    "\n",
    "if not os.path.exists(f\"{figfolder_name}/vtk\"):\n",
    "    os.makedirs(f\"{figfolder_name}/vtk\")\n",
    "vtk = VTKOutput(mesh, coefs=snap_gfs, names=snap_names,filename=f\"{figfolder_name}/vtk/vtk_snap\",subdivision=2)\n",
    "vtk.Do(time=0)\n",
    "\n",
    "scenes = generate_scenes(scenes_dict=scenes_dict, mesh=mesh)\n",
    "#scenes = []\n",
    "\n",
    "\n",
    "\n",
    "# visualize with trace-visualizer vite\n",
    "# https://docu.ngsolve.org/latest/i-tutorials/unit-1.9-taskmanager/taskmanager.html\n",
    "with TaskManager(): # pajetrace=10**8):\n",
    "    for n in range(n_steps):\n",
    "        #timestep\n",
    "        time_step(gfA3D, gfE3D, temp_div_A_F, covdiv_F)\n",
    "        time_step(gfA3Dg, gfE3Dg, temp_div_A_F, covdiv_F)\n",
    "        \n",
    "        if (n >= 0):\n",
    "            #solve for charge\n",
    "            dq.append(Integrate(Norm(calc_charge(gfE3D, gfC, temp_div_A_E, covdivC) - gfC0), mesh))\n",
    "            dqg.append(Integrate(Norm(calc_charge(gfE3Dg, gfCg, temp_div_A_Eg, covdivCg) - gfC0g), mesh))\n",
    "            dqmdqg.append(Integrate(Norm(gfCg - gfC), mesh))\n",
    "            \n",
    "        if (n >= 0):\n",
    "            # gfH_dict = calc_energies(gfA3D, gfE3D, gfB3D=gfB3D, curv=curv)\n",
    "            # gfHg_dict = calc_energies(gfA3Dg, gfE3Dg, gfB3D=gfB3Dg, curv=curv)\n",
    "            gfH_dict = calc_energies(gfA3D, gfE3D, gfB3D=gfB3D)\n",
    "            gfHg_dict = calc_energies(gfA3Dg, gfE3Dg, gfB3D=gfB3Dg)\n",
    "            \n",
    "            for energy_name in gfH_dict:\n",
    "                \n",
    "                #TODO: integrate over 2 dimensions\n",
    "                _H = Integrate(gfH_dict[energy_name], mesh)\n",
    "                H[energy_name].append(_H)\n",
    "                \n",
    "                _Hg = Integrate(gfHg_dict[energy_name], mesh)\n",
    "                Hg[energy_name].append(_Hg)\n",
    "\n",
    "        if (n in nt_snaps):\n",
    "            current_snaps = {}\n",
    "            for snap_name in snap_names:\n",
    "                #pass\n",
    "                # save vtk snapshots\n",
    "                vtk.Do(time=n*dt)\n",
    "            #vtk.Do(time=t)\n",
    "\n",
    "        #vtk.Do(time=n*dt)\n",
    "        \n",
    "        #input()\n",
    "        t += dt\n",
    "        if n % 100 == 0:\n",
    "        #if n % 10 == 0:\n",
    "            for scene in scenes:\n",
    "                scene.Redraw()\n",
    "            print (\"\\r\", t, end=\"\")\n"
   ]
  },
  {
   "cell_type": "code",
   "execution_count": 13,
   "id": "12cff40e-ed26-4368-a1c8-0d7d2fb0a166",
   "metadata": {},
   "outputs": [],
   "source": [
    "Emax = 1./(2*np.pi*sigma2)\n",
    "dEmax = 1./(2*np.pi*sigma2*np.sqrt(sigma2)*np.e*np.e)\n",
    "\n",
    "Emax *= scale\n",
    "dEmax *= scale"
   ]
  },
  {
   "cell_type": "code",
   "execution_count": 15,
   "id": "08fba86d",
   "metadata": {},
   "outputs": [
    {
     "name": "stdout",
     "output_type": "stream",
     "text": [
      "plotname: grho_t_n_40_order_6_dt_0.0005_h_0.025_scale0.001.pdf\n"
     ]
    },
    {
     "data": {
      "image/png": "[encoded data removed]",
      "text/plain": [
       "<Figure size 640x480 with 1 Axes>"
      ]
     },
     "metadata": {},
     "output_type": "display_data"
    }
   ],
   "source": [
    "obs_proc = lambda obs_: obs_/Emax\n",
    "\n",
    "fig = plt.figure()\n",
    "ax = fig.add_subplot()\n",
    "\n",
    "#plot_data = folder_dicts[i][\"obs\"][obs_name]\n",
    "plot_data = obs_proc(np.array(dq))\n",
    "#print(plot_data)\n",
    "graph = ax.plot([i*dt for i in range(len(plot_data))], plot_data, label=r\"$\\frac{1}{\\|E_{max} \\|_{\\mathfrak{g}}}\\int_M |\\rho(t)|$\")\n",
    "\n",
    "ax.set_xlabel(r\"t\")\n",
    "#ax.set_ylabel(r\"$\\frac{1}{|E_{max}^\\prime|}\\int_M |\\rho(t)|$\")\n",
    "\n",
    "ax.legend()\n",
    "\n",
    "\n",
    "plotname = f\"grho_t_n_{ne}_order_{order}_dt_{dt}_h_{1./ne}_scale{scale}\"\n",
    "\n",
    "plotname += \".pdf\"\n",
    "print(f\"plotname: {plotname}\")\n",
    "\n",
    "plt.savefig(f\"{figfolder_name}/{plotname}\", format='pdf')"
   ]
  },
  {
   "cell_type": "code",
   "execution_count": 18,
   "id": "a9b32230",
   "metadata": {},
   "outputs": [
    {
     "name": "stdout",
     "output_type": "stream",
     "text": [
      "plotname: rhomgrho_t_n_40_order_6_dt_0.0005_h_0.025_scale0.001.pdf\n"
     ]
    },
    {
     "data": {
      "image/png": "[encoded data removed]",
      "text/plain": [
       "<Figure size 640x480 with 1 Axes>"
      ]
     },
     "metadata": {},
     "output_type": "display_data"
    }
   ],
   "source": [
    "obs_proc = lambda obs_: obs_/Emax\n",
    "\n",
    "fig = plt.figure()\n",
    "ax = fig.add_subplot()\n",
    "\n",
    "#plot_data = folder_dicts[i][\"obs\"][obs_name]\n",
    "plot_data = obs_proc(np.array(dqmdqg))\n",
    "#print(plot_data)\n",
    "graph = ax.plot([i*dt for i in range(len(plot_data))], plot_data, label=r\"$\\frac{1}{\\|E_{max} \\|_{\\mathfrak{g}}}\\int_M \\|\\rho(t) - \\mathrm{Ad}_{g^{-1}} \\rho^{(g)}(t) \\|_{\\mathfrak{g}}$\")\n",
    "\n",
    "ax.set_xlabel(r\"t\")\n",
    "#ax.set_ylabel(r\"$\\frac{1}{|E_{max}^\\prime|}\\int_M |\\rho(t)|$\")\n",
    "\n",
    "ax.legend()\n",
    "\n",
    "\n",
    "plotname = f\"rhomgrho_t_n_{ne}_order_{order}_dt_{dt}_h_{1./ne}_scale{scale}\"\n",
    "\n",
    "plotname += \".pdf\"\n",
    "print(f\"plotname: {plotname}\")\n",
    "\n",
    "plt.savefig(f\"{figfolder_name}/{plotname}\", format='pdf')"
   ]
  },
  {
   "cell_type": "code",
   "execution_count": null,
   "id": "36542a8a",
   "metadata": {},
   "outputs": [],
   "source": [
    "q_plot_filename = f\"C_n{ne}_dt{dt}_order{order}_h_{1./ne}_scale{scale}\"\n",
    "\n",
    "#plt.savefig(f\"{figfolder_name}/{q_plot_filename}.png\")\n",
    "\n",
    "with open(f\"{figfolder_name}/{q_plot_filename}.json\", \"w\") as f:\n",
    "    json.dump(dq, f, indent=2)"
   ]
  },
  {
   "cell_type": "code",
   "execution_count": null,
   "id": "3108c911",
   "metadata": {},
   "outputs": [],
   "source": [
    "q_plot_filename = f\"gC_n{ne}_dt{dt}_order{order}_h_{1./ne}_scale{scale}\"\n",
    "\n",
    "#plt.savefig(f\"{figfolder_name}/{q_plot_filename}.png\")\n",
    "\n",
    "with open(f\"{figfolder_name}/{q_plot_filename}.json\", \"w\") as f:\n",
    "    json.dump(dqg, f, indent=2)"
   ]
  },
  {
   "cell_type": "code",
   "execution_count": null,
   "id": "678cbd7a",
   "metadata": {},
   "outputs": [],
   "source": [
    "q_plot_filename = f\"gCmC_n{ne}_dt{dt}_order{order}_h_{1./ne}_scale{scale}\"\n",
    "\n",
    "#plt.savefig(f\"{figfolder_name}/{q_plot_filename}.png\")\n",
    "\n",
    "with open(f\"{figfolder_name}/{q_plot_filename}.json\", \"w\") as f:\n",
    "    json.dump(dqmdqg, f, indent=2)"
   ]
  },
  {
   "cell_type": "code",
   "execution_count": null,
   "id": "ad40899f",
   "metadata": {},
   "outputs": [],
   "source": []
  },
  {
   "cell_type": "code",
   "execution_count": null,
   "id": "44eceddc",
   "metadata": {},
   "outputs": [],
   "source": []
  },
  {
   "cell_type": "code",
   "execution_count": null,
   "id": "a3c6e17a",
   "metadata": {},
   "outputs": [],
   "source": []
  },
  {
   "cell_type": "code",
   "execution_count": null,
   "id": "3046797f",
   "metadata": {},
   "outputs": [],
   "source": []
  }
 ],
 "metadata": {
  "kernelspec": {
   "display_name": "Python 3 (ipykernel)",
   "language": "python",
   "name": "python3"
  },
  "language_info": {
   "codemirror_mode": {
    "name": "ipython",
    "version": 3
   },
   "file_extension": ".py",
   "mimetype": "text/x-python",
   "name": "python",
   "nbconvert_exporter": "python",
   "pygments_lexer": "ipython3",
   "version": "3.10.12"
  }
 },
 "nbformat": 4,
 "nbformat_minor": 5
}
