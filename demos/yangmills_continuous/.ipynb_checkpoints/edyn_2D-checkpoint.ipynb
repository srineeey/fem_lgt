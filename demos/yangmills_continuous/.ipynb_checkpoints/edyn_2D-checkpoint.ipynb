{
 "cells": [
  {
   "cell_type": "markdown",
   "id": "a27ced7f",
   "metadata": {},
   "source": [
    "# 2D Electrodynamics with FEM\n",
    "\n",
    "or rather Magnetostatics in 2D"
   ]
  },
  {
   "cell_type": "code",
   "execution_count": 13,
   "id": "46169aac",
   "metadata": {},
   "outputs": [],
   "source": [
    "from ngsolve import *\n",
    "\n",
    "from ngsolve.meshes import *\n",
    "\n",
    "from ngsolve.solvers import *\n",
    "from ngsolve.webgui import Draw\n",
    "\n",
    "import matplotlib.pyplot as plt\n",
    "\n",
    "import numpy as np\n",
    "\n",
    "import time\n",
    "\n",
    "import json"
   ]
  },
  {
   "cell_type": "markdown",
   "id": "b26cb2d4",
   "metadata": {},
   "source": [
    "Setting some parameters in the simulation\n",
    "including the folders name for saving results"
   ]
  },
  {
   "cell_type": "code",
   "execution_count": 14,
   "id": "2127a826",
   "metadata": {},
   "outputs": [],
   "source": [
    "parameters = {}\n",
    "#parameters[\"h\"] = 0.025\n",
    "#parameters[\"h\"] = 0.05\n",
    "#parameters[\"n\"] = int(1/parameters[\"h\"])\n",
    "parameters[\"n\"] = 10\n",
    "parameters[\"h\"] = 1./parameters[\"n\"]\n",
    "parameters[\"order\"] = 3\n",
    "#parameters[\"dt\"] = 0.001\n",
    "\n",
    "# figfolder_name = f\"n{parameters['n']}_order{parameters['order']}_dt{parameters['dt']}\"  \n",
    "# if not os.path.exists(figfolder_name):\n",
    "#     os.makedirs(figfolder_name)"
   ]
  },
  {
   "cell_type": "markdown",
   "id": "5f0995bc",
   "metadata": {},
   "source": [
    "Mesh generation with periodic boundary conditions"
   ]
  },
  {
   "cell_type": "code",
   "execution_count": 15,
   "id": "a8975c2a",
   "metadata": {
    "scrolled": true
   },
   "outputs": [
    {
     "data": {
      "application/vnd.jupyter.widget-view+json": {
       "model_id": "1e222c4d15074781aeb3c6b88e398ec1",
       "version_major": 2,
       "version_minor": 0
      },
      "text/plain": [
       "WebGuiWidget(layout=Layout(height='50vh', width='100%'), value={'gui_settings': {}, 'ngsolve_version': '6.2.23…"
      ]
     },
     "metadata": {},
     "output_type": "display_data"
    },
    {
     "data": {
      "text/plain": [
       "BaseWebGuiScene"
      ]
     },
     "execution_count": 15,
     "metadata": {},
     "output_type": "execute_result"
    }
   ],
   "source": [
    "ne=parameters[\"n\"]\n",
    "#mesh = MakeStructured2DMesh(quads=False, nx=ne, ny=ne, periodic_x=True, periodic_y=True)\n",
    "mesh = MakeStructured2DMesh(quads=True, nx=ne, ny=ne, periodic_x=True, periodic_y=True)\n",
    "#mesh = MakeStructured2DMesh(quads=False, nx=ne, ny=ne, periodic_x=False, periodic_y=False)\n",
    "\n",
    "Draw(mesh)"
   ]
  },
  {
   "cell_type": "markdown",
   "id": "06195eef-0d98-4bb0-bce6-475b68440f73",
   "metadata": {},
   "source": [
    "## de-Rham chain in 2D\n",
    "\n",
    "with $k$-forms $\\omega \\in \\Lambda^k(M;\\mathbb{R})$ and $k \\le 2$:\n",
    "\n",
    "$\\Lambda^0(M;\\mathbb{R}) \\stackrel{\\mathrm{d}_0}{\\rightarrow} \\Lambda^1(M;\\mathbb{R}) \\stackrel{\\mathrm{d}_1}{\\rightarrow} \\Lambda^2(M;\\mathbb{R}) \\stackrel{\\mathrm{d}_2}{\\rightarrow} 0$\n",
    "\n",
    "interpreted as vector fields using\n",
    "\n",
    "* weak differentiability (Sobolev spaces)\n",
    "* musical isomorphism  $TM^* \\stackrel{\\sharp}{\\rightarrow} TM$ ( $\\simeq$ \"raising and lowering of indices\" using metric)\n",
    "\n",
    "$H^1(M;\\mathbb{R}) \\stackrel{\\mathrm{grad}}{\\rightarrow} Hcurl(M;\\mathbb{R}) \\stackrel{\\mathrm{curl}}{\\rightarrow} Hdiv(M;\\mathbb{R}) \\stackrel{\\mathrm{div}}{\\rightarrow} 0$\n"
   ]
  },
  {
   "cell_type": "markdown",
   "id": "df802b6f",
   "metadata": {},
   "source": [
    "## Finite Element Spaces\n",
    "\n",
    "Exterior Finite Elements\n",
    "* $A \\in \\Lambda^1_h(M;\\mathbb{R}) \\subset Hcurl(M;\\mathbb{R})$\n",
    "* $J \\in \\Lambda^1_h(M;\\mathbb{R}) \\subset Hcurl(M;\\mathbb{R})$\n",
    "* $F \\in \\Lambda^2_h(M;\\mathbb{R}) \\subset Hdiv(M;\\mathbb{R})$\n"
   ]
  },
  {
   "cell_type": "code",
   "execution_count": 16,
   "id": "406045b0-9596-495b-8e99-2874829044d9",
   "metadata": {},
   "outputs": [],
   "source": [
    "#%pip install git+git://github.com/mkrphys/ipython-tikzmagic.git\n",
    "\n",
    "#%load_ext tikzmagic\n",
    "\n",
    "# %%tikz\n",
    "\n",
    "# \\[\n",
    "# \\begin{tikzcd}\n",
    "# H\\Lambda^k(\\mathcal{S}) \\arrow{r}{\\diff} \\arrow{d}{R^k} & H\\Lambda^{k+1}(\\mathcal{S}) \\arrow{d}{R^{k+1}} \\\\\n",
    "# C^k(\\mathcal{S}) \\arrow{r}{\\delta} & C^{k+1}(\\mathcal{S})\n",
    "# \\end{tikzcd}\n",
    "# \\]"
   ]
  },
  {
   "cell_type": "code",
   "execution_count": 17,
   "id": "6127c715",
   "metadata": {},
   "outputs": [],
   "source": [
    "order=parameters[\"order\"]\n",
    "\n",
    "#fesA = Periodic(HCurl(mesh, order=order))\n",
    "#fesF = Periodic(L2(mesh, order=order-1))\n",
    "\n",
    "fesA = HCurl(mesh, order=order)\n",
    "fesF = L2(mesh, order=order-1)\n"
   ]
  },
  {
   "cell_type": "code",
   "execution_count": 18,
   "id": "a6fec1b1-94ee-4d91-ae81-4b670e3b1802",
   "metadata": {
    "scrolled": true
   },
   "outputs": [],
   "source": [
    "def draw_basis_loop(fes):\n",
    "    print(fes)\n",
    "    mesh = fes.mesh\n",
    "    gfviz = GridFunction(fes)\n",
    "    gfviz.vec.data[:] = 0.\n",
    "    scene = Draw(gfviz, mesh)\n",
    "\n",
    "    for dof_i in range(len(gfviz.vec)):\n",
    "        gfviz.vec.data[:] = 0.\n",
    "        gfviz.vec.data[dof_i] = 1.\n",
    "        scene.Redraw()\n",
    "        print (\"\\mathbb{R}\", f\"fes basis function nr {dof_i}\", end=\"\")\n",
    "        time.sleep(1)\n",
    "\n",
    "#draw_basis_loop(fesA)\n",
    "#draw_basis_loop(fesF)"
   ]
  },
  {
   "cell_type": "markdown",
   "id": "33b5696b-e8c0-413f-910f-9f40654150be",
   "metadata": {
    "jp-MarkdownHeadingCollapsed": true
   },
   "source": [
    "## Maxwell's Equations\n",
    "\n",
    "* Given $J \\in \\Lambda^1(M;\\mathbb{R})$\n",
    "* Find $A \\in \\Lambda^1(M;\\mathbb{R})$:\n",
    "\n",
    "\\begin{align*}\n",
    "    &-\\int_M \\langle F(A), \\mathrm{d} A^\\prime \\rangle = \\int_M \\langle J, A^\\prime \\rangle \\quad \\forall A^\\prime \\in \\Lambda^1(M;\\mathbb{R}) \\\\\n",
    "    &-\\int_M \\langle \\mathrm{d} A, \\mathrm{d} A^\\prime \\rangle = \\int_M \\langle J, A^\\prime \\rangle \\quad \\forall A^\\prime \\in \\Lambda^1(M;\\mathbb{R})\n",
    "\\end{align*}\n",
    "\n",
    "## Discrete Maxwell's Equations\n",
    "\n",
    "* Given $J_h \\in \\Lambda^1_h(M;\\mathbb{R})$\n",
    "* Find $A_h \\in \\Lambda^1_h(M;\\mathbb{R})$:\n",
    "\n",
    "\\begin{align*}\n",
    "    &-\\int_M \\langle F(A_h), \\mathrm{d} A^\\prime_h \\rangle = \\int_M \\langle J_h, A^\\prime_h \\rangle \\quad \\forall A^\\prime_h \\in \\Lambda^1_h(M;\\mathbb{R}) \\\\\n",
    "    &-\\int_M \\langle \\mathrm{d} A_h, \\mathrm{d} A^\\prime_h \\rangle = \\int_M \\langle J_h, A^\\prime_h \\rangle \\quad \\forall A^\\prime_h \\in \\Lambda^1_h(M;\\mathbb{R})\n",
    "\\end{align*}"
   ]
  },
  {
   "cell_type": "markdown",
   "id": "fc02ac1d",
   "metadata": {
    "jp-MarkdownHeadingCollapsed": true
   },
   "source": [
    "## Matrix Assembly\n",
    "\n",
    "Creating symbolic TrialFunction and TestFunction for assembly of bilinear forms\n",
    "\n",
    "* Whitney $1$-forms $\\lambda_L$ \n",
    "* Mass Matrix $M_{L L^\\prime} = \\int_M \\langle \\lambda_L , \\lambda_{L^\\prime} \\rangle$\n",
    "* Stiffness Matrix $ D_{L L^\\prime} = -\\int_M \\langle \\mathrm{d} \\lambda_L , \\mathrm{d} \\lambda_{L^\\prime} \\rangle $"
   ]
  },
  {
   "cell_type": "code",
   "execution_count": 7,
   "id": "c660f39e",
   "metadata": {},
   "outputs": [
    {
     "data": {
      "text/plain": [
       "<ngsolve.comp.BilinearForm at 0x7f420b084bb0>"
      ]
     },
     "execution_count": 7,
     "metadata": {},
     "output_type": "execute_result"
    }
   ],
   "source": [
    "# TrialFunction = the unknown in the equation\n",
    "A = fesA.TrialFunction()\n",
    "# TestFunction = the variational direction in the equation\n",
    "Ap = fesA.TestFunction()\n",
    "\n",
    "# Create symbolic Bilinear forms\n",
    "M = BilinearForm(fesA)\n",
    "D = BilinearForm(fesA)\n",
    "# at the moment \"empty\"...\n",
    "\n",
    "# add the terms:\n",
    "M += InnerProduct(A,Ap)*dx\n",
    "D += -InnerProduct(curl(A),curl(Ap))*dx\n",
    "# at the moment the matrices are defined purely symbolically according to a calculation \"recipe\"\n",
    "\n",
    "# Assemble the matrices by a manual function call\n",
    "M.Assemble()\n",
    "D.Assemble()"
   ]
  },
  {
   "cell_type": "code",
   "execution_count": null,
   "id": "26f7f5c2-da92-49f6-bd2b-c232c97c5153",
   "metadata": {},
   "outputs": [],
   "source": []
  },
  {
   "cell_type": "markdown",
   "id": "3164c5e0-3c3a-4126-aa67-e44816497598",
   "metadata": {
    "jp-MarkdownHeadingCollapsed": true
   },
   "source": [
    "## Linear Form Assembly\n",
    "\n",
    "In practice current $J \\in \\Lambda^1(M;\\mathbb{R})$ is provided in the Bilinear form $ \\int_M \\langle J, A^\\prime \\rangle$\n",
    "\n",
    "it therefore is a linear form with fixed $J \\in \\Lambda^1(M;\\mathbb{R})$ and argument $A^\\prime \\in \\Lambda^1(M;\\mathbb{R})$\n",
    "\n",
    "Or in the discrete case:\n",
    "\n",
    "* Linear form $ \\int_M \\langle J_h, A^\\prime_h \\rangle$\n",
    "* fixed (interpolated) $I_h^1 J =  J_h \\in \\Lambda^1_h(M;\\mathbb{R})$\n",
    "* argument $A^\\prime_h \\in \\Lambda^1_h(M;\\mathbb{R})$"
   ]
  },
  {
   "cell_type": "code",
   "execution_count": 8,
   "id": "32b4284e-0464-49aa-bbcd-1cdf109abbb0",
   "metadata": {},
   "outputs": [
    {
     "data": {
      "text/plain": [
       "<ngsolve.comp.LinearForm at 0x7f420ad0c470>"
      ]
     },
     "execution_count": 8,
     "metadata": {},
     "output_type": "execute_result"
    }
   ],
   "source": [
    "# GridFunctions are discrete functions\n",
    "# represented by a vector of coefficients\n",
    "# in the Basis of Whitney $k$-forms\n",
    "gfJ = GridFunction(fesA)\n",
    "\n",
    "# symbolically define the current CoefficientFunction\n",
    "CFJ = CF((x,y))\n",
    "\n",
    "# Set the current value\n",
    "# by interpolating a (symbolically provided) CoefficientFunction\n",
    "gfJ.Set( CFJ )\n",
    "\n",
    "# Creat symbolic Linear form\n",
    "J = LinearForm(fesA)\n",
    "# at the moment \"empty\" ...\n",
    "\n",
    "# add the terms:\n",
    "J += InnerProduct(gfJ,Ap)*dx\n",
    "# at the moment the matrices are defined purely symbolically according to a calculation \"recipe\"\n",
    "\n",
    "# Assemble the matrices by a manual function call\n",
    "J.Assemble()"
   ]
  },
  {
   "cell_type": "markdown",
   "id": "381ae1f7-289a-471e-a342-1b25a8651afe",
   "metadata": {
    "jp-MarkdownHeadingCollapsed": true
   },
   "source": [
    "## Solving the Discrete Equation\n",
    "\n",
    "Invert the stiffness matrix and multiply with the linear form\n",
    "\n",
    "$D \\vec{A} = \\vec{J}^\\top$\n",
    "\n",
    "$\\vec{A} = D^{-1} \\vec{J}^\\top$"
   ]
  },
  {
   "cell_type": "code",
   "execution_count": 9,
   "id": "0f53fac6-6a86-4af4-8947-542416e18090",
   "metadata": {},
   "outputs": [],
   "source": [
    "gfA = GridFunction(fesA)\n",
    "gfF = GridFunction(fesF)\n",
    "\n",
    "\n",
    "# Invert the stiffness matrix\n",
    "# THIS WONT WORK!!!\n",
    "Dinv = D.mat.Inverse(fesA.FreeDofs(), inverse=\"sparsecholesky\")\n",
    "\n",
    "gfA.vec.data = Dinv * J.vec"
   ]
  },
  {
   "cell_type": "markdown",
   "id": "33862bac-ea39-42a7-9a1b-e0710e30f6ca",
   "metadata": {},
   "source": [
    "## Coulomb Gauge \n",
    "\n",
    "enforce additional constraint:\n",
    "\n",
    "$\\mathrm{div} A = 0$\n",
    "\n",
    "or in weak form\n",
    "\n",
    "\\begin{align*}\n",
    "    \\int_M \\langle A, \\mathrm{d} f^\\prime \\rangle = 0 \\quad \\forall f^\\prime \\in \\Lambda^0(M;\\mathbb{R}) \\\\\n",
    "\\end{align*}\n",
    "\n",
    "## Maxwell's Equations with Coulomb Gauge - Mixed Formulation\n",
    "\n",
    "* Given $J \\in \\Lambda^1(M;\\mathbb{R})$\n",
    "* Find $A \\in \\Lambda^1(M;\\mathbb{R})$\n",
    "*  Find $f \\in \\Lambda^0(M;\\mathbb{R})$\n",
    "\n",
    "\\begin{align*}\n",
    "    &-\\int_M \\langle \\mathrm{d} A, \\mathrm{d} A^\\prime \\rangle &+& \\int_M \\langle \\mathrm{d} f, A^\\prime \\rangle &=& \\int_M \\langle J, A^\\prime \\rangle &\\quad \\forall A^\\prime \\in \\Lambda^1(M;\\mathbb{R}) \\\\\n",
    "    &\\int_M \\langle A, \\mathrm{d} f^\\prime \\rangle &&  &=& 0 &\\quad \\forall f^\\prime \\in \\Lambda^0(M;\\mathbb{R}) \\\\\n",
    "\\end{align*}"
   ]
  },
  {
   "cell_type": "code",
   "execution_count": 20,
   "id": "9038ea98-d379-4f78-b015-7f483e8bd32a",
   "metadata": {},
   "outputs": [
    {
     "name": "stdout",
     "output_type": "stream",
     "text": [
      "<class 'ngsolve.comp.GridFunction'>\n"
     ]
    },
    {
     "data": {
      "application/vnd.jupyter.widget-view+json": {
       "model_id": "c07cb49c5dc443aaae51a7704336cd17",
       "version_major": 2,
       "version_minor": 0
      },
      "text/plain": [
       "WebGuiWidget(layout=Layout(height='50vh', width='100%'), value={'gui_settings': {}, 'ngsolve_version': '6.2.23…"
      ]
     },
     "metadata": {},
     "output_type": "display_data"
    },
    {
     "data": {
      "application/vnd.jupyter.widget-view+json": {
       "model_id": "eccd83957ef04b83a625be43173c80ba",
       "version_major": 2,
       "version_minor": 0
      },
      "text/plain": [
       "WebGuiWidget(layout=Layout(height='50vh', width='100%'), value={'gui_settings': {}, 'ngsolve_version': '6.2.23…"
      ]
     },
     "metadata": {},
     "output_type": "display_data"
    },
    {
     "data": {
      "text/plain": [
       "BaseWebGuiScene"
      ]
     },
     "execution_count": 20,
     "metadata": {},
     "output_type": "execute_result"
    }
   ],
   "source": [
    "#fesf = Periodic(H1(mesh,order=order))\n",
    "fesf = H1(mesh,order=order)\n",
    "fesAf = fesA*fesf\n",
    "\n",
    "A, f = fesAf.TrialFunction()\n",
    "Ap, fp = fesAf.TestFunction()\n",
    "\n",
    "Df = BilinearForm(fesAf)\n",
    "Jf = LinearForm(fesAf)\n",
    "\n",
    "Df += -InnerProduct(curl(A),curl(Ap))*dx\n",
    "Df += InnerProduct(grad(f),Ap)*dx\n",
    "Df += InnerProduct(A,grad(fp))*dx\n",
    "\n",
    "gfJ = GridFunction(fesA)\n",
    "#CFJ = CF((1,1))\n",
    "CFJ = CF((0,0))\n",
    "gfJ.Set( CFJ )\n",
    "Jf += InnerProduct(gfJ,Ap)*dx\n",
    "\n",
    "Df.Assemble()\n",
    "Jf.Assemble()\n",
    "\n",
    "Dfinv = Df.mat.Inverse(fesAf.FreeDofs(), inverse=\"sparsecholesky\")\n",
    "#Dfinv = Df.mat.Inverse(fesAf.FreeDofs())\n",
    "\n",
    "#print(Df.mat)\n",
    "#print(Dfinv)\n",
    "\n",
    "gfAf = GridFunction(fesAf)\n",
    "\n",
    "gfA = gfAf.components[0]\n",
    "gff = gfAf.components[1]\n",
    "\n",
    "# Draw(gfA, mesh)\n",
    "# Draw(gff, mesh)\n",
    "\n",
    "gfAf.vec.data[:] = Dfinv * Jf.vec\n",
    "\n",
    "print(type(gfAf))\n",
    "\n",
    "gfA = gfAf.components[0]\n",
    "gff = gfAf.components[1]\n",
    "Draw(gfA, mesh)\n",
    "Draw(gff, mesh)"
   ]
  },
  {
   "cell_type": "markdown",
   "id": "5fc2f419-19cb-4014-b7da-84bf544d2d06",
   "metadata": {},
   "source": [
    "Evaluating the field strength $F(A)$\n",
    "by solving the equation $F(A) = \\mathrm{d} A$ in weak form\n",
    "\n",
    "\\begin{align*}\n",
    "    \\int_M \\langle F(A), F^\\prime \\rangle = \\int_M \\langle \\mathrm{d} A, F^\\prime \\rangle \\quad \\forall F^\\prime \\in \\Lambda^2(M;\\mathbb{R})\n",
    "\\end{align*}\n",
    "\n",
    "discrete form:\n",
    "\n",
    "\\begin{align*}\n",
    "    \\int_M \\langle F(A_h), F^\\prime_h \\rangle = \\int_M \\langle \\mathrm{d} A_h, F^\\prime_h \\rangle \\quad \\forall F^\\prime_h \\in \\Lambda^2_h(M;\\mathbb{R})\n",
    "\\end{align*}\n",
    "\n",
    "\\begin{align*}\n",
    "    M_F \\vec{F} = \\vec{C}^\\top\n",
    "\\end{align*}"
   ]
  },
  {
   "cell_type": "code",
   "execution_count": null,
   "id": "88cd233e-f2e5-4167-a964-b4b8e285ea16",
   "metadata": {},
   "outputs": [],
   "source": [
    "F = fesF.TrialFunction()\n",
    "Fp = fesF.TestFunction()\n",
    "\n",
    "MF = BilinearForm(fesF)\n",
    "CA = BilinearForm(trialspace=fesA, testspace=fesF)\n",
    "\n",
    "MF += InnerProduct(F,Fp)*dx\n",
    "CA += InnerProduct(curl(A),Fp)*dx\n",
    "\n",
    "MF.Assemble()\n",
    "CA.Assemble()\n",
    "\n",
    "MFinv = MF.mat.Inverse(fesF.FreeDofs(), inverse=\"sparsecholesky\")\n",
    "\n",
    "gfF.vec.data = MFinv * (CA.mat * gfA.vec)"
   ]
  },
  {
   "cell_type": "markdown",
   "id": "2f5a3dd8-1493-4cb9-8df5-e145e29310ce",
   "metadata": {},
   "source": [
    "## Inspect the solution"
   ]
  },
  {
   "cell_type": "code",
   "execution_count": null,
   "id": "da281683-1d97-46b7-b8ae-13fda839db8b",
   "metadata": {},
   "outputs": [],
   "source": [
    "Jscene = Draw(gfJ, mesh)\n",
    "Ascene = Draw(gfA, mesh)\n",
    "Fscene = Draw(gfF, mesh)\n"
   ]
  },
  {
   "cell_type": "code",
   "execution_count": null,
   "id": "7cdfae66",
   "metadata": {},
   "outputs": [],
   "source": []
  },
  {
   "cell_type": "code",
   "execution_count": null,
   "id": "70521166",
   "metadata": {},
   "outputs": [],
   "source": []
  },
  {
   "cell_type": "code",
   "execution_count": null,
   "id": "f6f340c3",
   "metadata": {},
   "outputs": [],
   "source": []
  }
 ],
 "metadata": {
  "kernelspec": {
   "display_name": "Python 3 (ipykernel)",
   "language": "python",
   "name": "python3"
  },
  "language_info": {
   "codemirror_mode": {
    "name": "ipython",
    "version": 3
   },
   "file_extension": ".py",
   "mimetype": "text/x-python",
   "name": "python",
   "nbconvert_exporter": "python",
   "pygments_lexer": "ipython3",
   "version": "3.10.12"
  }
 },
 "nbformat": 4,
 "nbformat_minor": 5
}
