{
 "cells": [
  {
   "cell_type": "markdown",
   "id": "a27ced7f",
   "metadata": {},
   "source": [
    "# Leap Frog Time Stepping for Yang Mills\n",
    "\n",
    "See work of Christiansen, Winther\n",
    "https://epubs.siam.org/doi/pdf/10.1137/040616887\n",
    "\n",
    "Srinath Bulusu, Joachim Schöberl"
   ]
  },
  {
   "cell_type": "code",
   "execution_count": 1,
   "id": "46169aac",
   "metadata": {},
   "outputs": [],
   "source": [
    "from ngsolve import *\n",
    "\n",
    "from ngsolve.meshes import *\n",
    "\n",
    "from ngsolve.solvers import *\n",
    "from ngsolve.webgui import Draw\n",
    "\n",
    "import matplotlib.pyplot as plt\n",
    "\n",
    "from su2_yangmills import *\n",
    "\n",
    "import numpy as np\n",
    "import json"
   ]
  },
  {
   "cell_type": "markdown",
   "id": "b26cb2d4",
   "metadata": {},
   "source": [
    "Setting some parameters in the simulation\n",
    "including the folders name for saving results"
   ]
  },
  {
   "cell_type": "code",
   "execution_count": 2,
   "id": "2127a826",
   "metadata": {},
   "outputs": [],
   "source": [
    "parameters = {}\n",
    "parameters[\"h\"] = 0.025\n",
    "#parameters[\"h\"] = 0.05\n",
    "parameters[\"n\"] = int(1/parameters[\"h\"])\n",
    "parameters[\"order\"] = 3\n",
    "parameters[\"dt\"] = 0.001\n",
    "\n",
    "figfolder_name = f\"n{parameters['n']}_order{parameters['order']}_dt{parameters['dt']}\"  \n",
    "if not os.path.exists(figfolder_name):\n",
    "    os.makedirs(figfolder_name)"
   ]
  },
  {
   "cell_type": "markdown",
   "id": "5f0995bc",
   "metadata": {},
   "source": [
    "Mesh generation with periodic boundary conditions"
   ]
  },
  {
   "cell_type": "code",
   "execution_count": 3,
   "id": "a8975c2a",
   "metadata": {
    "scrolled": true
   },
   "outputs": [
    {
     "data": {
      "application/vnd.jupyter.widget-view+json": {
       "model_id": "0911daf65b8d4aef868b3a6055b18818",
       "version_major": 2,
       "version_minor": 0
      },
      "text/plain": [
       "WebGuiWidget(layout=Layout(height='50vh', width='100%'), value={'gui_settings': {}, 'ngsolve_version': '6.2.23…"
      ]
     },
     "metadata": {},
     "output_type": "display_data"
    },
    {
     "data": {
      "text/plain": [
       "BaseWebGuiScene"
      ]
     },
     "execution_count": 3,
     "metadata": {},
     "output_type": "execute_result"
    }
   ],
   "source": [
    "ne=parameters[\"n\"]\n",
    "#mesh = MakeStructured2DMesh(quads=False, nx=ne, ny=ne, periodic_x=True, periodic_y=True)\n",
    "mesh = MakeStructured2DMesh(quads=True, nx=ne, ny=ne, periodic_x=True, periodic_y=True)\n",
    "#mesh = MakeStructured2DMesh(quads=False, nx=ne, ny=ne, periodic_x=False, periodic_y=False)\n",
    "\n",
    "Draw(mesh)"
   ]
  },
  {
   "cell_type": "markdown",
   "id": "df802b6f",
   "metadata": {},
   "source": [
    "Finite Element Spaces\n",
    "su(2)-valued functions are represented by three dimensional (non-spatial!!!) vectors"
   ]
  },
  {
   "cell_type": "code",
   "execution_count": 4,
   "id": "6127c715",
   "metadata": {},
   "outputs": [],
   "source": [
    "order=parameters[\"order\"]\n",
    "\n",
    "# Would be in the regular 3D case\n",
    "#fesC = H1(mesh)**3 # for su2 charge\n",
    "#fesA = HCurl(mesh)**3 # for su2 gauge potential\n",
    "\n",
    "# spaces for z splitted functions\n",
    "#fesC = Periodic(H1(mesh, order=order))**3 # for su2 charge\n",
    "#fesC = Periodic(L2(mesh, order=order))**3 # for su2 charge\n",
    "fesC = Periodic(L2(mesh, order=order-1))**3 # for su2 charge\n",
    "fesA = Periodic(HCurl(mesh, order=order))**3 # for su2 gauge potential\n",
    "fesAz = Periodic(H1(mesh, order=order))**3 # for su2 gauge potential z component\n",
    "\n",
    "fesA3D = fesA*fesAz\n",
    "\n",
    "fesA3DC = fesA3D*fesC"
   ]
  },
  {
   "cell_type": "markdown",
   "id": "fc02ac1d",
   "metadata": {},
   "source": [
    "Creating Trial and Test Function for assembly of forms"
   ]
  },
  {
   "cell_type": "code",
   "execution_count": 5,
   "id": "c660f39e",
   "metadata": {},
   "outputs": [],
   "source": [
    "A, Az = fesA3D.TrialFunction()\n",
    "E, Ez = fesA3D.TrialFunction()\n",
    "B, Bz = fesA3D.TrialFunction()\n",
    "\n",
    "Ap, Azp = fesA3D.TestFunction()\n",
    "Ep, Ezp = fesA3D.TestFunction()\n",
    "Bp, Bzp = fesA3D.TestFunction()\n",
    "\n",
    "#A3D = fesA3D.TrialFunction()\n",
    "#E3D = fesA3D.TrialFunction()\n",
    "#B3D = fesA3D.TrialFunction()\n",
    "\n",
    "#A3D = fesA3D.TestFunction()\n",
    "#E3Dp = fesA3D.TestFunction()\n",
    "#B3Dp = fesA3D.TestFunction()\n",
    "\n",
    "C = fesC.TrialFunction()\n",
    "Cp = fesC.TestFunction()\n",
    "\n",
    "\n",
    "gfA3D = GridFunction(fesA3D)\n",
    "gfE3D = GridFunction(fesA3D)\n",
    "gfC = GridFunction(fesC)\n",
    "\n",
    "gfB3D = GridFunction(fesA3D)\n",
    "\n",
    "gfP = GridFunction(fesC)\n",
    "\n",
    "gfEdotP = GridFunction(fesA3DC)\n",
    "\n",
    "\n",
    "# no spatial current present in this scenario\n",
    "#gfJ3D = GridFunction(fesA3D)\n",
    "#gfJ3D.Set((0,0,0 ,0,0,0 ,0,0,0))\n",
    "\n",
    "#gfJ = GridFunction(fesA)\n",
    "#J_gf.Set((0,0 ,0,0 ,0,0))\n",
    "#gfJz = GridFunction(fesAz)\n",
    "#Jz_gf.Set((0 ,0 ,0))"
   ]
  },
  {
   "cell_type": "markdown",
   "id": "38d152e5",
   "metadata": {},
   "source": [
    "Forms used in time stepping of simulation"
   ]
  },
  {
   "cell_type": "code",
   "execution_count": 6,
   "id": "5b06534f",
   "metadata": {},
   "outputs": [
    {
     "data": {
      "text/plain": [
       "<ngsolve.comp.LinearForm at 0x7f5fafefc130>"
      ]
     },
     "execution_count": 6,
     "metadata": {},
     "output_type": "execute_result"
    }
   ],
   "source": [
    "# matrices for E-A leapfrog time stepping\n",
    "m = BilinearForm(fesA3D)\n",
    "m += LieInnerProduct(E,Ep)*dx\n",
    "m += LieInnerProduct(Ez,Ezp)*dx\n",
    "#m += LieInnerProduct(E3D,E3Dp)*dx\n",
    "\n",
    "m.Assemble()\n",
    "minv = m.mat.Inverse(fesA3D.FreeDofs(), inverse=\"sparsecholesky\")\n",
    "\n",
    "covdiv_F = BilinearForm(fesA3D, nonassemble=True)\n",
    "curl_A_2Dz_CF = curl_A_2Dz(A, Az, Ep, Ezp)\n",
    "F_A_2Dz_CF = F_A_2Dz(A, Az)\n",
    "covdiv_F += InnerProduct(F_A_2Dz_CF, curl_A_2Dz_CF)*dx(bonus_intorder=2*order)\n",
    "\n",
    "covdiv = BilinearForm(fesA3D, nonassemble=True)\n",
    "curl_A_Ep_CF = curl_A_2Dz(gfA3D.components[0], gfA3D.components[1], Ep, Ezp)\n",
    "# TODO: B in Hdiv?\n",
    "covdiv += InnerProduct(gVector_3DCF(B,Bz), curl_A_Ep_CF)*dx(bonus_intorder=order)\n",
    "\n",
    "covgrad = BilinearForm(trialspace=fesC, testspace=fesA3D, nonassemble=True)\n",
    "grad_A_2Dz_C_CF = grad_A_2Dz(gfA3D.components[0], gfA3D.components[1], C)\n",
    "covgrad += InnerProduct(grad_A_2Dz_C_CF, gVector_3DCF(Ep,Ezp))*dx(bonus_intorder=order)\n",
    "\n",
    "\n",
    "curv = BilinearForm(fesA3D, nonassemble=True)\n",
    "F_A_2Dz_CF = F_A_2Dz(A, Az)\n",
    "curv += InnerProduct(F_A_2Dz_CF, gVector_3DCF(Bp, Bzp))*dx(bonus_intorder=order)\n",
    "\n",
    "\n",
    "\n",
    "f = LinearForm(fesA3D)\n",
    "#f += InnerProduct(J_gf, Ep)*dx\n",
    "#f += InnerProduct(Jz_gf, Ezp)*dx\n",
    "f.Assemble()"
   ]
  },
  {
   "cell_type": "markdown",
   "id": "0f1d024f",
   "metadata": {},
   "source": [
    "Forms for evaluating the charge a posteriori"
   ]
  },
  {
   "cell_type": "code",
   "execution_count": 7,
   "id": "a4475b66",
   "metadata": {},
   "outputs": [],
   "source": [
    "# matrices for evaluating charge\n",
    "mC = BilinearForm(fesC)\n",
    "mC += LieInnerProduct(C,Cp)*dx\n",
    "\n",
    "mC.Assemble()\n",
    "mCinv = mC.mat.Inverse(fesC.FreeDofs(), inverse=\"sparsecholesky\")\n",
    "\n",
    "\n",
    "covdivC = BilinearForm(trialspace=fesA3D, testspace=fesC, nonassemble=True)\n",
    "grad_A_2Dz_Cp_CF = grad_A_2Dz(gfA3D.components[0], gfA3D.components[1], Cp)\n",
    "covdivC += LieInnerProduct(gVector_3DCF(E,Ez), grad_A_2Dz_Cp_CF)*dx(bonus_intorder=order)"
   ]
  },
  {
   "cell_type": "markdown",
   "id": "cd4a4b74",
   "metadata": {},
   "source": [
    "Setting the initial conditions for E and A for two spatially separated flux tubes\n",
    "Applying a su(2)-gauge transformation parametrized by scalar \"angle\" phi and \"rotation axis\" n (in quaternion space)\n",
    "The Coefficientfunctions are interpolated into FEM spaces"
   ]
  },
  {
   "cell_type": "code",
   "execution_count": 8,
   "id": "026306b4",
   "metadata": {},
   "outputs": [
    {
     "data": {
      "application/vnd.jupyter.widget-view+json": {
       "model_id": "1e455d7660b545708c301626138fbf0d",
       "version_major": 2,
       "version_minor": 0
      },
      "text/plain": [
       "WebGuiWidget(layout=Layout(height='50vh', width='100%'), value={'gui_settings': {}, 'ngsolve_version': '6.2.23…"
      ]
     },
     "metadata": {},
     "output_type": "display_data"
    }
   ],
   "source": [
    "# initial conditions\n",
    "\n",
    "sigma2 = 0.003\n",
    "mu1 = [0.7, 0.5]\n",
    "mu2 = [0.3, 0.5]\n",
    "mu3 = [0.5, 0.3]\n",
    "\n",
    "E_init_CF = CF( (0,0 ,0,0 ,0,0) ).Reshape((3,2))\n",
    "Ez_init_CF = CF( (gaussxyper(mu1, sigma2) ,gaussxyper(mu2, sigma2) ,0) ).Reshape((3,1))\n",
    "\n",
    "A_init_CF = CF( (0,0 ,0,0 ,0,0) ).Reshape((3,2))\n",
    "Az_init_CF = CF( (0 ,0 ,0) ).Reshape((3,1))\n",
    "\n",
    "\n",
    "# gauge transformations\n",
    "# phi*n_k is are the Lie Algebra coefficients in the same basis as E,A ([.,.] becomes Cross!)\n",
    "#phi_CF = CF( 0.25*pi )\n",
    "\n",
    "r = lambda mu: [(x-mu[0]),(y-mu[1])]\n",
    "# create gauge transformations that are 0 at border and therefore periodic\n",
    "bubble = lambda mu: 16*(r(mu)[0]+0.5)*(r(mu)[0]+0.5-1)*(r(mu)[1]+0.5)*(r(mu)[1]+0.5-1)\n",
    "#bubble = lambda mu: 16*(r(mu)[0]-0.5)*(r(mu)[0]-0.5-1)*(r(mu)[1]-0.5)*(r(mu)[1]-0.5-1)\n",
    "\n",
    "\n",
    "phi_CF = lambda mu: CF( 0 )\n",
    "\n",
    "phi_CF = bubble([0.5,0.5])*phi_CF([0.5, 0.5])\n",
    "#phi_CF = phi_CF(mu1)\n",
    "\n",
    "\n",
    "Draw(phi_CF, mesh)\n",
    "\n",
    "\n",
    "#n_CF = CF( (0.01,(x-0.5), (y-0.5)) )\n",
    "#norm_n = Norm(n_CF)\n",
    "#if Integrate(sqrt(norm_n*norm_n), mesh) < 0.001:\n",
    "#    norm_n += 0.001   \n",
    "#n_CF = 1/norm_n * n_CF\n",
    "n_CF = CF( (0,0,1) )\n",
    "\n",
    "# gauge the fields according to appropriate transformation behaviour\n",
    "\n",
    "# adjoint representation\n",
    "E_gauged_CF = gauge_1f(E_init_CF, phi_CF, n_CF)\n",
    "Ez_gauged_CF = gauge_0f(Ez_init_CF, phi_CF, n_CF)\n",
    "\n",
    "#gAginv should remain 0 ...\n",
    "# the dz(g) ginv term is missing due to z symmetry\n",
    "A_gauged_CF = gauge_A(A_init_CF, phi_CF, n_CF)\n",
    "Az_gauged_CF = gauge_0f(Az_init_CF, phi_CF, n_CF)\n",
    "\n",
    "gfA3D.components[0].Set(A_gauged_CF)\n",
    "gfA3D.components[1].Set(Az_gauged_CF)\n",
    "\n",
    "gfE3D.components[0].Set(E_gauged_CF)\n",
    "gfE3D.components[1].Set(Ez_gauged_CF)\n",
    "\n",
    "\n",
    "#the norm in Lie Algebra space should be invariant under gauges!\n",
    "gauge_Ez_dict = {\"ungauged Ez conf:\": (Ez_init_CF, {}), \"gauged Ez conf:\": (Ez_gauged_CF, {})}\n",
    "#generate_scenes(gauge_Ez_dict, mesh=mesh)"
   ]
  },
  {
   "cell_type": "code",
   "execution_count": 9,
   "id": "92c58dea",
   "metadata": {},
   "outputs": [],
   "source": [
    "# A_dict = {\"Ax\": (gfA3D.components[0][:,0], {}),\n",
    "#           \"Ay\": (gfA3D.components[0][:,1], {}),\n",
    "#           \"Az\": (gfA3D.components[1], {})\n",
    "#          }\n",
    "\n",
    "# E_dict = {\"Ex\": (gfE3D.components[0][:,0], {}),\n",
    "#           \"Ey\": (gfE3D.components[0][:,1], {}),\n",
    "#           \"Ez\": (gfE3D.components[1], {})\n",
    "#          }\n",
    "\n",
    "#generate_scenes(A_dict, mesh=mesh)\n",
    "#generate_scenes(E_dict, mesh=mesh)"
   ]
  },
  {
   "cell_type": "markdown",
   "id": "a8c287bf",
   "metadata": {},
   "source": [
    "Function to evaluate the charge at a timestep"
   ]
  },
  {
   "cell_type": "code",
   "execution_count": 10,
   "id": "aeaf1c36",
   "metadata": {
    "scrolled": true
   },
   "outputs": [
    {
     "data": {
      "text/plain": [
       "<ngsolve.comp.GridFunction at 0x7f5fafd86ac0>"
      ]
     },
     "execution_count": 10,
     "metadata": {},
     "output_type": "execute_result"
    }
   ],
   "source": [
    "def calc_charge(gfE3D, gfC, temp_div_A_E, covdivC=covdivC):\n",
    "    temp_div_A_E[:] = 0.\n",
    "    covdivC.Apply(gfE3D.vec, temp_div_A_E)\n",
    "    gfC.vec.data = mCinv * temp_div_A_E\n",
    "    return gfC\n",
    "\n",
    "#calculate initial charge\n",
    "gfC0 = GridFunction(fesC)\n",
    "temp_div_A_E0 = gfC0.vec.CreateVector()\n",
    "calc_charge(gfE3D, gfC0, temp_div_A_E0)\n",
    "#Draw (gfC0[:], mesh )"
   ]
  },
  {
   "cell_type": "markdown",
   "id": "0c016629",
   "metadata": {},
   "source": [
    "Functions to evaluate the energies"
   ]
  },
  {
   "cell_type": "code",
   "execution_count": 11,
   "id": "e53b2633",
   "metadata": {},
   "outputs": [],
   "source": [
    "temp_div_A_F = gfA3D.vec.CreateVector()\n",
    "gfdiv_A_F = GridFunction(fesA3D)\n",
    "temp_div_A_F[:] = 0.\n",
    "\n",
    "def calc_B3D(gfA3D, gfB3D):\n",
    "    curv.Apply(gfA3D.vec, temp_div_A_F)\n",
    "    gfB3D.vec.data = minv * temp_div_A_F\n",
    "\n",
    "def calc_energies(gfA3D, gfE3D, gfB3D, gfH_dict=None):\n",
    "    to_return = False\n",
    "    if gfH_dict == None:\n",
    "        gfH_dict = {\"HEL\": None, \"HET\": None, \"HBL\": None, \"HBT\": None}\n",
    "        to_return = True\n",
    "    #gfH_dict = {\"HEL\": None, \"HET\": None}\n",
    "    \n",
    "    gfHET = LieInnerProduct(gfE3D.components[0], gfE3D.components[0])\n",
    "    gfHEL = LieInnerProduct(gfE3D.components[1], gfE3D.components[1])\n",
    "\n",
    "    # if gfB3D==None:\n",
    "    #     gfB3D = GridFunction(fesA3D)\n",
    "    \n",
    "    calc_B3D(gfA3D, gfB3D)\n",
    "        \n",
    "    gfHBT = LieInnerProduct(gfB3D.components[0], gfB3D.components[0])\n",
    "    gfHBL = LieInnerProduct(gfB3D.components[1], gfB3D.components[1])\n",
    "    \n",
    "    gfH_dict[\"HET\"] = gfHET\n",
    "    gfH_dict[\"HEL\"] = gfHEL\n",
    "    gfH_dict[\"HBT\"] = gfHBT\n",
    "    gfH_dict[\"HBL\"] = gfHBL\n",
    "\n",
    "    if to_return == True:\n",
    "        return gfH_dict\n",
    "\n",
    "#gfH0_dict = calc_energies(gfA3D, gfE3D)\n",
    "#Draw(gfH0_dict['HEL'], mesh)"
   ]
  },
  {
   "cell_type": "markdown",
   "id": "2bf1073e",
   "metadata": {},
   "source": [
    "Define length of simulation"
   ]
  },
  {
   "cell_type": "code",
   "execution_count": 12,
   "id": "6996a72f",
   "metadata": {},
   "outputs": [
    {
     "name": "stdout",
     "output_type": "stream",
     "text": [
      "600\n"
     ]
    }
   ],
   "source": [
    "# 2. is good for visuals\n",
    "#tend = 2.\n",
    "#tend = 1.00\n",
    "# 0.6 is good for visuals\n",
    "tend = 0.6\n",
    "#tend = 0.5\n",
    "#tend = 0.3\n",
    "#dt = 0.00001\n",
    "dt = parameters[\"dt\"]\n",
    "t = 0.\n",
    "n_steps = int(tend/dt)\n",
    "print(n_steps)"
   ]
  },
  {
   "cell_type": "markdown",
   "id": "417d51a0",
   "metadata": {},
   "source": [
    "the time stepping loop including evaluation and tracking of observables"
   ]
  },
  {
   "cell_type": "code",
   "execution_count": 13,
   "id": "7e2e0da8",
   "metadata": {},
   "outputs": [
    {
     "name": "stdout",
     "output_type": "stream",
     "text": [
      "C\n"
     ]
    },
    {
     "data": {
      "application/vnd.jupyter.widget-view+json": {
       "model_id": "b49fce66b8bd49ddae1c44d5e8afc288",
       "version_major": 2,
       "version_minor": 0
      },
      "text/plain": [
       "WebGuiWidget(layout=Layout(height='50vh', width='100%'), value={'gui_settings': {}, 'ngsolve_version': '6.2.23…"
      ]
     },
     "metadata": {},
     "output_type": "display_data"
    },
    {
     "name": "stdout",
     "output_type": "stream",
     "text": [
      "A\n"
     ]
    },
    {
     "data": {
      "application/vnd.jupyter.widget-view+json": {
       "model_id": "b098ee4e665d4c66ae28c0592f914df7",
       "version_major": 2,
       "version_minor": 0
      },
      "text/plain": [
       "WebGuiWidget(layout=Layout(height='50vh', width='100%'), value={'gui_settings': {}, 'ngsolve_version': '6.2.23…"
      ]
     },
     "metadata": {},
     "output_type": "display_data"
    },
    {
     "name": "stdout",
     "output_type": "stream",
     "text": [
      "Az\n"
     ]
    },
    {
     "data": {
      "application/vnd.jupyter.widget-view+json": {
       "model_id": "aba5f4870d2344589f93d5d6743869c3",
       "version_major": 2,
       "version_minor": 0
      },
      "text/plain": [
       "WebGuiWidget(layout=Layout(height='50vh', width='100%'), value={'gui_settings': {}, 'ngsolve_version': '6.2.23…"
      ]
     },
     "metadata": {},
     "output_type": "display_data"
    },
    {
     "name": "stdout",
     "output_type": "stream",
     "text": [
      "B\n"
     ]
    },
    {
     "data": {
      "application/vnd.jupyter.widget-view+json": {
       "model_id": "fe52285b35c14f5385fcf2ce702a90b6",
       "version_major": 2,
       "version_minor": 0
      },
      "text/plain": [
       "WebGuiWidget(layout=Layout(height='50vh', width='100%'), value={'gui_settings': {}, 'ngsolve_version': '6.2.23…"
      ]
     },
     "metadata": {},
     "output_type": "display_data"
    },
    {
     "name": "stdout",
     "output_type": "stream",
     "text": [
      "Bz\n"
     ]
    },
    {
     "data": {
      "application/vnd.jupyter.widget-view+json": {
       "model_id": "80dea2e6be214f3882ba3d508ab0edcb",
       "version_major": 2,
       "version_minor": 0
      },
      "text/plain": [
       "WebGuiWidget(layout=Layout(height='50vh', width='100%'), value={'gui_settings': {}, 'ngsolve_version': '6.2.23…"
      ]
     },
     "metadata": {},
     "output_type": "display_data"
    },
    {
     "name": "stdout",
     "output_type": "stream",
     "text": [
      "E\n"
     ]
    },
    {
     "data": {
      "application/vnd.jupyter.widget-view+json": {
       "model_id": "16e6fe4be3bd4436bd3b50ec07075e96",
       "version_major": 2,
       "version_minor": 0
      },
      "text/plain": [
       "WebGuiWidget(layout=Layout(height='50vh', width='100%'), value={'gui_settings': {}, 'ngsolve_version': '6.2.23…"
      ]
     },
     "metadata": {},
     "output_type": "display_data"
    },
    {
     "name": "stdout",
     "output_type": "stream",
     "text": [
      "Ez\n"
     ]
    },
    {
     "data": {
      "application/vnd.jupyter.widget-view+json": {
       "model_id": "7b3a82f6b4e8466eb9ede4c14248ef18",
       "version_major": 2,
       "version_minor": 0
      },
      "text/plain": [
       "WebGuiWidget(layout=Layout(height='50vh', width='100%'), value={'gui_settings': {}, 'ngsolve_version': '6.2.23…"
      ]
     },
     "metadata": {},
     "output_type": "display_data"
    },
    {
     "name": "stdout",
     "output_type": "stream",
     "text": [
      "HEL\n"
     ]
    },
    {
     "data": {
      "application/vnd.jupyter.widget-view+json": {
       "model_id": "6cb6cf4aae894f80831e2f6e448e7438",
       "version_major": 2,
       "version_minor": 0
      },
      "text/plain": [
       "WebGuiWidget(layout=Layout(height='50vh', width='100%'), value={'gui_settings': {}, 'ngsolve_version': '6.2.23…"
      ]
     },
     "metadata": {},
     "output_type": "display_data"
    },
    {
     "name": "stdout",
     "output_type": "stream",
     "text": [
      "HET\n"
     ]
    },
    {
     "data": {
      "application/vnd.jupyter.widget-view+json": {
       "model_id": "7dffd4e9acf144b792c496d0a8ebe0d2",
       "version_major": 2,
       "version_minor": 0
      },
      "text/plain": [
       "WebGuiWidget(layout=Layout(height='50vh', width='100%'), value={'gui_settings': {}, 'ngsolve_version': '6.2.23…"
      ]
     },
     "metadata": {},
     "output_type": "display_data"
    },
    {
     "name": "stdout",
     "output_type": "stream",
     "text": [
      "HBL\n"
     ]
    },
    {
     "data": {
      "application/vnd.jupyter.widget-view+json": {
       "model_id": "4b208dce77404b2392c057e022949891",
       "version_major": 2,
       "version_minor": 0
      },
      "text/plain": [
       "WebGuiWidget(layout=Layout(height='50vh', width='100%'), value={'gui_settings': {}, 'ngsolve_version': '6.2.23…"
      ]
     },
     "metadata": {},
     "output_type": "display_data"
    },
    {
     "name": "stdout",
     "output_type": "stream",
     "text": [
      "HBT\n"
     ]
    },
    {
     "data": {
      "application/vnd.jupyter.widget-view+json": {
       "model_id": "6a78df83755c441a98e623525abb091d",
       "version_major": 2,
       "version_minor": 0
      },
      "text/plain": [
       "WebGuiWidget(layout=Layout(height='50vh', width='100%'), value={'gui_settings': {}, 'ngsolve_version': '6.2.23…"
      ]
     },
     "metadata": {},
     "output_type": "display_data"
    },
    {
     "name": "stdout",
     "output_type": "stream",
     "text": [
      "\n",
      "\n",
      " 0.591000000000000473\n",
      "simulation done\n",
      "\n"
     ]
    }
   ],
   "source": [
    "temp_div_A_F = gfA3D.vec.CreateVector()\n",
    "gfdiv_A_F = GridFunction(fesA3D)\n",
    "temp_div_A_F[:] = 0.\n",
    "\n",
    "temp_div_A_E = gfC.vec.CreateVector()\n",
    "temp_div_A_E[:] = 0.\n",
    "\n",
    "    \n",
    "def time_step(gfA3D, gfE3D, temp_div_A_F, covdiv_F=covdiv_F):\n",
    "    temp_div_A_F[:] = 0.\n",
    "    # A update\n",
    "    gfA3D.vec.data -= dt * gfE3D.vec\n",
    "    \n",
    "    # E update\n",
    "    covdiv_F.Apply(gfA3D.vec, temp_div_A_F)\n",
    "    #temp_div_A_F += f.vec\n",
    "    gfE3D.vec.data += dt * minv * temp_div_A_F\n",
    "\n",
    "\n",
    "q =[]\n",
    "dq2 =[]\n",
    "H = {\"HEL\": [], \"HET\": [], \"HBL\": [], \"HBT\": []}\n",
    "\n",
    "\n",
    "gfH_dict = calc_energies(gfA3D, gfE3D, gfB3D)\n",
    "#calc_energies(gfA3D, gfE3D, gfB3D)\n",
    "\n",
    "\n",
    "draw_kwargs = {\"autoscale\":False, \"min\":0, \"max\":2000}\n",
    "\n",
    "\n",
    "scenes_dict = {}\n",
    "scenes_dict[\"C\"] = (gfC, {})\n",
    "\n",
    "scenes_dict[\"A\"] = (gfA3D.components[0], {})\n",
    "scenes_dict[\"Az\"] = (gfA3D.components[1], {})\n",
    "\n",
    "calc_B3D(gfA3D, gfB3D)\n",
    "scenes_dict[\"B\"] = (gfB3D.components[0], {})\n",
    "scenes_dict[\"Bz\"] = (gfB3D.components[1], {})\n",
    "\n",
    "scenes_dict[\"E\"] = (gfE3D.components[0], {})\n",
    "#scenes_dict[\"Ez\"] = (gfE3D.components[1], draw_kwargs)\n",
    "scenes_dict[\"Ez\"] = (gfE3D.components[1], {})\n",
    "\n",
    "for energy_name in gfH_dict:\n",
    "    scenes_dict[energy_name] = (gfH_dict[energy_name], {})\n",
    "\n",
    "\n",
    "snap_names = [name for name in scenes_dict.keys()]\n",
    "snap_gfs = [scenes_dict[name][0] for name in scenes_dict.keys()]\n",
    "#nt_snaps = list(range(0,n_steps,int(n_steps/10)))\n",
    "\n",
    "viz_steps = 10\n",
    "\n",
    "nt_snaps = [ i*int(n_steps/viz_steps) for i in range(viz_steps) ]\n",
    "#nt_snaps = list(range(0,n_steps,int(n_steps/viz_steps)))\n",
    "#nt_snaps = list(range(0,n_steps,int(n_steps)))\n",
    "#nt_snaps = [0, 10, 20]\n",
    "\n",
    "if not os.path.exists(f\"{figfolder_name}/vtk\"):\n",
    "    os.makedirs(f\"{figfolder_name}/vtk\")\n",
    "vtk = VTKOutput(mesh, coefs=snap_gfs, names=snap_names,filename=f\"{figfolder_name}/vtk/vtk_snap\",subdivision=2)\n",
    "vtk.Do(time=0)\n",
    "        \n",
    "scenes = generate_scenes(scenes_dict=scenes_dict, mesh=mesh)\n",
    "#scenes = []\n",
    "\n",
    "\n",
    "\n",
    "# visualize with trace-visualizer vite\n",
    "# https://docu.ngsolve.org/latest/i-tutorials/unit-1.9-taskmanager/taskmanager.html\n",
    "with TaskManager(): # paketrace=10**8):\n",
    "    for n in range(n_steps):\n",
    "        #timestep\n",
    "        #time_step(gfA3D, gfE3D)\n",
    "        time_step(gfA3D, gfE3D, temp_div_A_F)\n",
    "\n",
    "        if (n >= 0):\n",
    "            #solve for charge\n",
    "            q_diff = Norm(calc_charge(gfE3D, gfC, temp_div_A_E)) - Norm(gfC0)\n",
    "            q.append(Integrate(q_diff, mesh))\n",
    "            dq2.append(Integrate(q_diff*q_diff, mesh) - Integrate(q_diff, mesh)**2)\n",
    "            \n",
    "            \n",
    "        if (n >= 0):\n",
    "            #gfH_dict = calc_energies(gfA3D, gfE3D, gfB3D=None, gfH_dict=gfH_dict)\n",
    "            calc_B3D(gfA3D, gfB3D)\n",
    "            calc_energies(gfA3D, gfE3D, gfB3D=gfB3D, gfH_dict=gfH_dict)\n",
    "            \n",
    "            for energy_name in gfH_dict:\n",
    "                \n",
    "                #TODO: integrate over 2 dimensions\n",
    "                _H = Integrate(gfH_dict[energy_name], mesh)\n",
    "                H[energy_name].append(_H)\n",
    "\n",
    "        if (n in nt_snaps):\n",
    "            current_snaps = {}\n",
    "            for snap_name in snap_names:\n",
    "                #pass\n",
    "                # save vtk snapshots\n",
    "                vtk.Do(time=n*dt)\n",
    "            #vtk.Do(time=t)\n",
    "\n",
    "        #vtk.Do(time=n*dt)\n",
    "                \n",
    "        #input()\n",
    "        t += dt\n",
    "        #if n % 100 == 0:\n",
    "        if n % 10 == 0:\n",
    "            for scene in scenes:\n",
    "                #pass\n",
    "                scene.Redraw()\n",
    "            print (\"\\r\", t, end=\"\")\n",
    "print(\"\\nsimulation done\\n\")"
   ]
  },
  {
   "cell_type": "code",
   "execution_count": 16,
   "id": "c2a30629-d821-43d8-8139-30c7f0fe381e",
   "metadata": {},
   "outputs": [
    {
     "data": {
      "text/plain": [
       "'n40_order3_dt0.001/vtk/vtk_snap_step00601'"
      ]
     },
     "execution_count": 16,
     "metadata": {},
     "output_type": "execute_result"
    }
   ],
   "source": [
    "vtk.Do(time=t)"
   ]
  },
  {
   "cell_type": "code",
   "execution_count": 14,
   "id": "fb6706a6",
   "metadata": {
    "scrolled": true
   },
   "outputs": [],
   "source": [
    "#plt.plot(range(0,len(dq)),dq)\n",
    "plt.loglog(range(0,len(q)),q, label=\"C\")\n",
    "plt.loglog(range(0,len(dq2)),dq2, label=r\"$\\Delta C^2$\")\n",
    "plt.legend()\n",
    "\n",
    "q_plot_filename = f\"C_n{ne}_dt{dt}_order{order}_timstep\"\n",
    "\n",
    "plt.savefig(f\"{figfolder_name}/{q_plot_filename}.png\")\n",
    "\n",
    "with open(f\"{figfolder_name}/{q_plot_filename}.json\", \"w\") as f:\n",
    "    json.dump(q, f, indent=2)\n",
    "\n",
    "dq2_plot_filename = f\"dq2_n{ne}_dt{dt}_order{order}_timstep\"\n",
    "\n",
    "#plt.savefig(f\"{figfolder_name}/{dq2_plot_filename}.png\")\n",
    "\n",
    "with open(f\"{figfolder_name}/{dq2_plot_filename}.json\", \"w\") as f:\n",
    "    json.dump(dq2, f, indent=2)\n",
    "    \n",
    "plt.close()"
   ]
  },
  {
   "cell_type": "code",
   "execution_count": 15,
   "id": "11936bc2",
   "metadata": {},
   "outputs": [
    {
     "name": "stdout",
     "output_type": "stream",
     "text": [
      "HEL\n",
      "HET\n",
      "HBL\n",
      "HBT\n",
      "HEL\n",
      "HET\n",
      "HBL\n",
      "HBT\n"
     ]
    },
    {
     "data": {
      "image/png": "[encoded data removed]",
      "text/plain": [
       "<Figure size 640x480 with 1 Axes>"
      ]
     },
     "metadata": {},
     "output_type": "display_data"
    }
   ],
   "source": [
    "for energy_name in H:\n",
    "    print(energy_name)\n",
    "    ts = [ float(i) * dt for i in range(0,len(H[energy_name])) ]\n",
    "    #plt.plot(range(0,len(H[energy_name])),H[energy_name], label=energy_name)\n",
    "    plt.plot(ts,H[energy_name], label=energy_name)\n",
    "\n",
    "\n",
    "sumH = np.sum([H[e] for e in H.keys()], axis=0)\n",
    "\n",
    "#plt.plot(range(0,len(H[energy_name])),sumH, label=\"H\")\n",
    "plt.plot(ts,sumH, label=\"H\")\n",
    "plt.legend()\n",
    "plt.savefig(f\"{figfolder_name}/H2Dz_n{ne}_dt{dt}_order{order}timestep.png\")\n",
    "\n",
    "\n",
    "H_plot_filename = f\"_n{ne}_dt{dt}_order{order}_timstep\"\n",
    "\n",
    "for energy_name in H:\n",
    "    print(energy_name)\n",
    "    with open(f\"{figfolder_name}/{energy_name}{H_plot_filename}.json\", \"w\") as f:\n",
    "        json.dump(H[energy_name], f, indent=2)\n",
    "        \n",
    "with open(f\"{figfolder_name}/H{H_plot_filename}.json\", \"w\") as f:\n",
    "    json.dump(list(sumH), f, indent=2)\n",
    "\n",
    "plt.show()\n",
    "plt.close()"
   ]
  },
  {
   "cell_type": "code",
   "execution_count": 17,
   "id": "7cdfae66",
   "metadata": {},
   "outputs": [
    {
     "data": {
      "text/plain": [
       "'n40_order3_dt0.001'"
      ]
     },
     "execution_count": 17,
     "metadata": {},
     "output_type": "execute_result"
    }
   ],
   "source": [
    "figfolder_name"
   ]
  },
  {
   "cell_type": "code",
   "execution_count": 18,
   "id": "70521166",
   "metadata": {},
   "outputs": [
    {
     "data": {
      "text/plain": [
       "10"
      ]
     },
     "execution_count": 18,
     "metadata": {},
     "output_type": "execute_result"
    }
   ],
   "source": [
    "len(nt_snaps)"
   ]
  },
  {
   "cell_type": "code",
   "execution_count": null,
   "id": "f6f340c3",
   "metadata": {},
   "outputs": [],
   "source": []
  }
 ],
 "metadata": {
  "kernelspec": {
   "display_name": "Python 3 (ipykernel)",
   "language": "python",
   "name": "python3"
  },
  "language_info": {
   "codemirror_mode": {
    "name": "ipython",
    "version": 3
   },
   "file_extension": ".py",
   "mimetype": "text/x-python",
   "name": "python",
   "nbconvert_exporter": "python",
   "pygments_lexer": "ipython3",
   "version": "3.10.12"
  }
 },
 "nbformat": 4,
 "nbformat_minor": 5
}
