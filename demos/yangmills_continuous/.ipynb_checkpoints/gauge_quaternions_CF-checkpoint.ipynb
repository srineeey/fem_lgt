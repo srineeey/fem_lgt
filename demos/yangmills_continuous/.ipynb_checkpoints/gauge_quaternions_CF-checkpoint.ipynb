{
 "cells": [
  {
   "cell_type": "code",
   "execution_count": null,
   "id": "3d57b546",
   "metadata": {},
   "outputs": [],
   "source": [
    "from ngsolve import *\n",
    "\n",
    "from ngsolve.meshes import *\n",
    "\n",
    "from ngsolve.solvers import *\n",
    "from ngsolve.webgui import Draw\n",
    "\n",
    "import matplotlib.pyplot as plt\n",
    "\n",
    "from su2_yangmills import *\n",
    "\n",
    "import numpy as np\n",
    "\n",
    "sys.path.insert(1, '../quaternion/')\n",
    "\n",
    "from quaternion_cf import *"
   ]
  },
  {
   "cell_type": "code",
   "execution_count": null,
   "id": "f2591185",
   "metadata": {},
   "outputs": [],
   "source": [
    "ne=50\n",
    "mesh = MakeStructured2DMesh(quads=True, nx=ne, ny=ne, periodic_x=True, periodic_y=True)\n",
    "#mesh = MakeStructured2DMesh(quads=False, nx=ne, ny=ne, periodic_x=False, periodic_y=False)\n",
    "#Draw(mesh)"
   ]
  },
  {
   "cell_type": "code",
   "execution_count": null,
   "id": "079cb7c5",
   "metadata": {},
   "outputs": [],
   "source": [
    "#fesC = H1(mesh)**3 # for su2 charge\n",
    "#fesA = HCurl(mesh)**3 # for su2 gauge potential\n",
    "order=4\n",
    "fesC = Periodic(L2(mesh, order=order))**3 # for su2 charge\n",
    "\n",
    "fesG = Periodic(L2(mesh, order=0))**4 # for gauge transformations"
   ]
  },
  {
   "cell_type": "code",
   "execution_count": null,
   "id": "c6b104d4",
   "metadata": {},
   "outputs": [],
   "source": [
    "# set gauge transform\n",
    "\n",
    "#phi1_CF = CF( gaussxyper([0,0], 1.) )\n",
    "qphi1_CF = CF( sin(8*pi*x)*sin(8*pi*y) )\n",
    "#qphi1_CF = CF( 0.5*pi )\n",
    "\n",
    "#n1_CF = CF( (0,0,1) )\n",
    "#n1_CF = CF( (0,1./sqrt(2),1./sqrt(2)) )\n",
    "#n1_CF = CF( (1./sqrt(2),0,1./sqrt(2)) )\n",
    "n1_CF = CF( (1./sqrt(2),1./sqrt(2),0) )\n",
    "\n",
    "\n",
    "#phi_CF = CF(pi*20* x*(1-x)*y*(1-y))\n",
    "phi_CF = CF(0)\n",
    "#theta_CF = CF(0.1*pi*y)\n",
    "theta_CF = CF(0)\n",
    "\n",
    "n_CF = CF( (sin(theta_CF)*cos(phi_CF),sin(theta_CF)*sin(phi_CF),cos(theta_CF)) )\n",
    "\n",
    "#phi2_CF = CF( 0 )\n",
    "#phi2_CF = -1.*phi1_CF\n",
    "qphi_CF = qphi1_CF\n",
    "\n",
    "gq_CF = get_rotqCF(qphi_CF, n_CF)\n",
    "\n",
    "\n",
    "gfg = GridFunction(fesG)\n",
    "\n",
    "gfg.Set(gq_CF)\n",
    "\n",
    "Draw(phi_CF, mesh)\n",
    "# should be 1\n",
    "Draw(Norm(gfg), mesh)\n",
    "# Can differ\n",
    "Draw(gfg[0], mesh)"
   ]
  },
  {
   "cell_type": "code",
   "execution_count": null,
   "id": "d693fc6e",
   "metadata": {},
   "outputs": [],
   "source": [
    "# set charge density\n",
    "#rhoCF = CF( (rho(), 0, 0) )\n",
    "rhoCF = CF( (CF(1), CF(0), 0) )\n",
    "\n",
    "gfrho = GridFunction(fesC)\n",
    "\n",
    "#gfrho.Set( rhoCF )\n",
    "for i in range(gfrho.dim):\n",
    "        gfrho.components[i].Set( rhoCF[i] )\n",
    "\n",
    "    \n",
    "#gfrho.vec.data[:] = 0.\n",
    "#gfrho.vec.data[77] = 1.\n",
    "\n",
    "    \n",
    "c = rhoCF\n",
    "gradc = CF( (c.Diff(x), c.Diff(y)) ).Reshape((2,3))\n",
    "\n",
    "\n",
    "def Norm_CF(cf):\n",
    "    return sqrt(sum( [cf[i]*cf[i] for i in range(cf.dim)] ))\n",
    "\n",
    "\n",
    "#Draw(Norm(c), mesh)\n",
    "#Draw(Norm(gfrho), mesh)\n",
    "#Draw(gfrho.components[0], mesh)\n",
    "Draw(gfrho, mesh)\n",
    "#Draw(Norm(gfrho), mesh)\n",
    "print(Integrate(Norm(gfrho), mesh))"
   ]
  },
  {
   "cell_type": "code",
   "execution_count": null,
   "id": "c5c092c6",
   "metadata": {},
   "outputs": [],
   "source": [
    "def gauge(f, _gfg):\n",
    "    #return qmulCF(qmulCF(_gfg, f), qconjCF(_gfg))\n",
    "    return vec_from_q( qmulCF(qmulCF(_gfg, q_from_vecCF( f )), qconjCF(_gfg)) )\n",
    " \n",
    "gfrho_gauged = GridFunction(fesC)\n",
    "gfrho_gauged.Set(gauge(gfrho, gfg))\n",
    "\n",
    "Draw(gfrho_gauged, mesh)\n",
    "#Draw(Norm(gfrho_gauged), mesh)\n",
    "print(Integrate(Norm(gfrho_gauged), mesh))"
   ]
  },
  {
   "cell_type": "code",
   "execution_count": null,
   "id": "7b78389b",
   "metadata": {},
   "outputs": [],
   "source": [
    "Draw(gfrho_gauged - gfrho, mesh)\n",
    "Draw(Norm(gfrho_gauged) - Norm(gfrho), mesh)"
   ]
  },
  {
   "cell_type": "code",
   "execution_count": null,
   "id": "5c491fd9",
   "metadata": {},
   "outputs": [],
   "source": [
    "_gfrho = GridFunction(fesC)\n",
    "_gfrho.Set(gauge(gfrho_gauged, qconjCF(gfg)))\n",
    "\n",
    "Draw(gfrho - _gfrho, mesh)\n",
    "Draw(Norm(gfrho) - Norm(_gfrho), mesh)"
   ]
  },
  {
   "cell_type": "code",
   "execution_count": null,
   "id": "ee539fa6",
   "metadata": {},
   "outputs": [],
   "source": []
  },
  {
   "cell_type": "code",
   "execution_count": null,
   "id": "eb039d5a",
   "metadata": {},
   "outputs": [],
   "source": []
  },
  {
   "cell_type": "code",
   "execution_count": null,
   "id": "89fa5f8a",
   "metadata": {},
   "outputs": [],
   "source": []
  }
 ],
 "metadata": {
  "kernelspec": {
   "display_name": "Python 3 (ipykernel)",
   "language": "python",
   "name": "python3"
  },
  "language_info": {
   "codemirror_mode": {
    "name": "ipython",
    "version": 3
   },
   "file_extension": ".py",
   "mimetype": "text/x-python",
   "name": "python",
   "nbconvert_exporter": "python",
   "pygments_lexer": "ipython3",
   "version": "3.10.6"
  }
 },
 "nbformat": 4,
 "nbformat_minor": 5
}
