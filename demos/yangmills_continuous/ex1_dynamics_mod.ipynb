{
 "cells": [
  {
   "cell_type": "markdown",
   "metadata": {},
   "source": [
    "Dynamics = Time-dependent Elasticity\n",
    "==="
   ]
  },
  {
   "cell_type": "code",
   "execution_count": 1,
   "metadata": {},
   "outputs": [],
   "source": [
    "from netgen.occ import *\n",
    "from ngsolve import *\n",
    "from ngsolve.webgui import Draw"
   ]
  },
  {
   "cell_type": "code",
   "execution_count": 2,
   "metadata": {
    "scrolled": true
   },
   "outputs": [
    {
     "data": {
      "application/vnd.jupyter.widget-view+json": {
       "model_id": "090f27eea65c4f31be1ced5656cfd521",
       "version_major": 2,
       "version_minor": 0
      },
      "text/plain": [
       "WebGuiWidget(value={'ngsolve_version': '6.2.2105-170-ge8fcd5755', 'mesh_dim': 2, 'order2d': 2, 'order3d': 2, '…"
      ]
     },
     "metadata": {},
     "output_type": "display_data"
    }
   ],
   "source": [
    "shape = MoveTo(0,-0.05).Rectangle(1,0.1).Face()\n",
    "shape = shape + Circle((1,0), 0.15).Face()\n",
    "shape.edges.Min(X).name=\"left\"\n",
    "shape.edges.Min(X).maxh=0.01\n",
    "\n",
    "mesh = Mesh(OCCGeometry(shape, dim=2).GenerateMesh(maxh=0.05)).Curve(3)\n",
    "\n",
    "Draw (mesh);"
   ]
  },
  {
   "cell_type": "markdown",
   "metadata": {},
   "source": [
    "Cauchy-Green tensor and hyperelastic energy density:"
   ]
  },
  {
   "cell_type": "code",
   "execution_count": 3,
   "metadata": {},
   "outputs": [],
   "source": [
    "E, nu = 210, 0.2\n",
    "mu  = E / 2 / (1+nu)\n",
    "lam = E * nu / ((1+nu)*(1-2*nu))\n",
    "\n",
    "def C(u):\n",
    "    F = Id(2) + Grad(u)\n",
    "    return F.trans * F\n",
    "\n",
    "def NeoHooke (C):\n",
    "    return 0.5*mu*(Trace(C-Id(2)) + 2*mu/lam*Det(C)**(-lam/2/mu)-1)"
   ]
  },
  {
   "cell_type": "markdown",
   "metadata": {},
   "source": [
    "energy functional\n",
    "$$\n",
    "J(u) = \\int W(C(u)) - f u\n",
    "$$\n",
    "\n",
    "equilibrium of forces in the time-independent (= stationary) case:\n",
    "\n",
    "$$\n",
    "\\left< J^\\prime(u), v \\right> = 0 \\qquad \\forall \\, v\n",
    "$$\n",
    "\n",
    "non-equilibrium leads to acceleration (Newton's law):\n",
    "\n",
    "$$\n",
    "\\int \\rho \\ddot u v = -\\left< J^\\prime(u), v \\right> \\qquad \\forall \\, v\n",
    "$$\n",
    "\n",
    "with acceleration $a := \\ddot u$, discretized Newton's law becomes\n",
    "\n",
    "$$\n",
    "M a = - J^\\prime(u)\n",
    "$$\n",
    "\n",
    "for displacement vector $u$, acceleration vector $a$, and mass matrix $M$"
   ]
  },
  {
   "cell_type": "markdown",
   "metadata": {},
   "source": [
    "## Newmark timestepping \n",
    "is trapezoidal rule for displacement $u$ and velocity $v$:\n",
    "\n",
    "\\begin{eqnarray*}\n",
    "\\frac{\\hat u- u}{\\tau} = \\tfrac{1}{2} (v + \\hat v) \\\\\n",
    "\\frac{\\hat v- v}{\\tau} = \\tfrac{1}{2} (a + \\hat a) \\\\\n",
    "\\end{eqnarray*}\n",
    "\n",
    "leads to\n",
    "\n",
    "$$\n",
    "\\hat u = u + \\tau v + \\frac{\\tau^2}{4} (a + \\hat a),\n",
    "$$\n",
    "\n",
    "or making $\\hat a$ explizit to \n",
    "\n",
    "$$\n",
    "\\hat a = \\frac{4}{\\tau^2} (\\hat u - u - \\tau v) - a\n",
    "$$\n",
    "\n",
    "Inserting Newton's law for the new time-step\n",
    "\n",
    "$$\n",
    "M (\\tfrac{4}{\\tau^2} (\\hat u - u - \\tau v) - a) = - J^\\prime(\\hat u)\n",
    "$$\n",
    "\n",
    "leads to the equation for the new displacement $\\hat u$."
   ]
  },
  {
   "cell_type": "code",
   "execution_count": 4,
   "metadata": {},
   "outputs": [],
   "source": [
    "#fes = H1(mesh, order=4, dirichlet=\"left\", dim=mesh.dim)\n",
    "# fes = H1(mesh, order=4, dim=mesh.dim)\n",
    "fes = VectorH1(mesh, order=4)\n",
    "\n",
    "#fes_f = NumberSpace(mesh, dim=mesh.dim) \n",
    "fes_f = NumberSpace(mesh) * NumberSpace(mesh)\n",
    "# Lagrange parameter space for enforcing hinge \n",
    "# (constraint: phi is rigid SO(2) rotation)\n",
    "#fes_f = NumberSpace(mesh) * NumberSpace(mesh) * NumberSpace(mesh) * NumberSpace(mesh) \n",
    "\n",
    "X = fes * fes_f\n",
    "# X = fes * NumberSpace(mesh) * NumberSpace(mesh)\n",
    "\n",
    "\n",
    "# fx, fy = fes_f.TrialFunction()\n",
    "# fxt, fyt = fes_f.TestFunction()\n",
    "\n",
    "gf = GridFunction(X)\n",
    "\n",
    "# gfu = GridFunction(fes)\n",
    "gfu = gf.components[0]\n",
    "\n",
    "gfvel = GridFunction(fes)\n",
    "gfacc = GridFunction(fes)\n",
    "\n",
    "# gfunew = GridFunction(fes)\n",
    "gfnew = GridFunction(X)\n",
    "\n",
    "gfunew = gfnew.components[0]\n",
    "\n",
    "gfaccnew = GridFunction(fes)"
   ]
  },
  {
   "cell_type": "code",
   "execution_count": 5,
   "metadata": {},
   "outputs": [],
   "source": [
    "# x_CF = CF((x,y))\n",
    "# Id_mat = CF(((1,0),(0,1)))\n",
    "\n",
    "# o_cond = (OuterProduct(u + x_CF, u + x_CF) - Id_mat)\n",
    "\n",
    "# o_cond[0,0]*fxx*ds(\"left\")\n",
    "# o_cond[0,1]*fxy*ds(\"left\")\n",
    "# o_cond[1,0]*fyx*ds(\"left\")\n",
    "# o_cond[1,1]*fyy*ds(\"left\")\n",
    "\n",
    "\n",
    "# (OuterProduct(u + x_CF, u + x_CF) - Id_mat)*(fx, fy)*ds(\"left\")\n",
    "# o_cond = (OuterProduct(u + x_CF, u + x_CF) - Id_mat)\n",
    "# o_cond = (OuterProduct(grad(u) + Id_mat, grad(u) + Id_mat) - Id_mat)\n",
    "\n",
    "# (u*u.trans + x_CF*u.trans + u*x_CF.trans + x_CF*x_CF.trans )*ds(\"left\")"
   ]
  },
  {
   "cell_type": "code",
   "execution_count": 6,
   "metadata": {},
   "outputs": [],
   "source": [
    "rho = 0.1\n",
    "force = CF( (0,-rho*9.81) )\n",
    "tau = 0.01\n",
    "\n",
    "# u,v = fes.TnT()\n",
    "u,fx,fy = X.TrialFunction()\n",
    "v,fxt, fyt = X.TestFunction()\n",
    "\n",
    "# u, fxx, fxy, fyx, fyy = X.TrialFunction()\n",
    "# v, fxxt, fxyt, fyxt, fyyt = X.TestFunction()\n",
    "\n",
    "acc = 4/(tau*tau)*(u-gfu-tau*gfvel) - gfacc\n",
    "\n",
    "#a = BilinearForm(fes)\n",
    "a = BilinearForm(X)\n",
    "a += rho*acc*v*dx\n",
    "a += Variation(NeoHooke(C(u))*dx)\n",
    "a += Variation(-force*u*dx)\n",
    "\n",
    "#phi = x + u\n",
    "# phi should be a rigid body motion on the left border:\n",
    "# (x+u)(x+u)^T = 1, det(x + u) = 1 ??\n",
    "# a += Variation((OuterProduct(u + x_CF, u + x_CF) - Id_mat)*(fx, fy)*ds(\"left\"))\n",
    "\n",
    "# x_CF = CF((x,y))\n",
    "# Id_mat = CF(((1,0),(0,1)))\n",
    "# o_cond = grad(u)*grad(u).trans + grad(u) + grad(u).trans\n",
    "\n",
    "# # Trace for gradient not defined because H1?\n",
    "# o_lagrange = o_cond[0,0]*fxx*ds(\"left\")\n",
    "# o_lagrange += o_cond[0,1]*fxy*ds(\"left\")\n",
    "# o_lagrange += o_cond[1,0]*fyx*ds(\"left\")\n",
    "# o_lagrange += o_cond[1,1]*fyy*ds(\"left\")\n",
    "# a += Variation(o_lagrange)\n",
    "\n",
    "# average force on hinge vanishes (replacement for dirichlet BC???)\n",
    "a += (1/0.1)*(u*CF((fxt,fyt)) + v*CF((fx,fy))) * ds(\"left\")"
   ]
  },
  {
   "cell_type": "markdown",
   "metadata": {},
   "source": [
    "a simple Newton solver, using automatic differentiation for residual and tangential stiffness:"
   ]
  },
  {
   "cell_type": "code",
   "execution_count": 7,
   "metadata": {},
   "outputs": [],
   "source": [
    "# def SolveNewton(gfu):\n",
    "def SolveNewton(gf):\n",
    "#     res = gfu.vec.CreateVector()\n",
    "#     w = gfu.vec.CreateVector()\n",
    "    \n",
    "    res = gf.vec.CreateVector()\n",
    "    w = gf.vec.CreateVector()\n",
    "    \n",
    "    for it in range(10):\n",
    "#         a.Apply(gfu.vec, res)\n",
    "#         a.AssembleLinearization(gfu.vec)\n",
    "        a.Apply(gf.vec, res)\n",
    "        a.AssembleLinearization(gf.vec)\n",
    "        \n",
    "        inv = a.mat.Inverse(fes.FreeDofs(), inverse=\"sparsecholesky\") \n",
    "        w.data = inv*res\n",
    "#         gfu.vec.data -= w\n",
    "        gf.vec.data -= w\n",
    "        \n",
    "        # print (\"it\", it, \"Norm w = \", Norm(w))"
   ]
  },
  {
   "cell_type": "code",
   "execution_count": 8,
   "metadata": {},
   "outputs": [
    {
     "data": {
      "application/vnd.jupyter.widget-view+json": {
       "model_id": "f902ac5d7c334565a71316fa8a2cff46",
       "version_major": 2,
       "version_minor": 0
      },
      "text/plain": [
       "WebGuiWidget(value={'ngsolve_version': '6.2.2105-170-ge8fcd5755', 'mesh_dim': 2, 'order2d': 2, 'order3d': 2, '…"
      ]
     },
     "metadata": {},
     "output_type": "display_data"
    }
   ],
   "source": [
    "scene = Draw (C(gfunew)[0,0], mesh, deformation=gfu)\n",
    "\n",
    "res = gf.vec.CreateVector()\n",
    "w = gf.vec.CreateVector()\n",
    "\n",
    "a.Apply(gf.vec, res)\n",
    "a.AssembleLinearization(gf.vec)\n",
    "\n",
    "inv = a.mat.Inverse(fes.FreeDofs(), inverse=\"sparsecholesky\") \n",
    "w.data = inv*res\n",
    "\n",
    "gf.vec.data -= w"
   ]
  },
  {
   "cell_type": "code",
   "execution_count": 9,
   "metadata": {},
   "outputs": [],
   "source": [
    "scene.Redraw()"
   ]
  },
  {
   "cell_type": "code",
   "execution_count": null,
   "metadata": {
    "scrolled": false
   },
   "outputs": [
    {
     "data": {
      "application/vnd.jupyter.widget-view+json": {
       "model_id": "3cef2808e88e44e8956be3f34055d911",
       "version_major": 2,
       "version_minor": 0
      },
      "text/plain": [
       "WebGuiWidget(value={'ngsolve_version': '6.2.2105-170-ge8fcd5755', 'mesh_dim': 2, 'order2d': 2, 'order3d': 2, '…"
      ]
     },
     "metadata": {},
     "output_type": "display_data"
    }
   ],
   "source": [
    "# scene = Draw (C(gfunew)[0,0], mesh, deformation=gfu)\n",
    "\n",
    "scene = Draw (C(gfunew)[0,0], mesh, deformation=gfu)\n",
    "\n",
    "t = 0\n",
    "tend = 10\n",
    "while t < tend:\n",
    "#     SolveNewton(gfunew)\n",
    "    SolveNewton(gfnew)\n",
    "    \n",
    "    gfaccnew.vec.data = 4/tau**2 * (gfunew.vec-gfu.vec-tau*gfvel.vec) \\\n",
    "        - gfacc.vec\n",
    "        \n",
    "    gfvel.vec.data += tau/2 * (gfacc.vec + gfaccnew.vec)\n",
    "    gfu.vec.data = gfunew.vec\n",
    "    gfacc.vec.data = gfaccnew.vec\n",
    "    \n",
    "    t = t+tau\n",
    "    scene.Redraw()"
   ]
  },
  {
   "cell_type": "code",
   "execution_count": null,
   "metadata": {},
   "outputs": [],
   "source": []
  },
  {
   "cell_type": "code",
   "execution_count": null,
   "metadata": {},
   "outputs": [],
   "source": []
  }
 ],
 "metadata": {
  "kernelspec": {
   "display_name": "Python 3",
   "language": "python",
   "name": "python3"
  },
  "language_info": {
   "codemirror_mode": {
    "name": "ipython",
    "version": 3
   },
   "file_extension": ".py",
   "mimetype": "text/x-python",
   "name": "python",
   "nbconvert_exporter": "python",
   "pygments_lexer": "ipython3",
   "version": "3.9.7"
  }
 },
 "nbformat": 4,
 "nbformat_minor": 2
}
