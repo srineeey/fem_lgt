{
 "cells": [
  {
   "cell_type": "markdown",
   "id": "a6c1ccea",
   "metadata": {},
   "source": [
    "# Leap Frog Time Stepping for Yang Mills\n",
    "\n",
    "See work of Christiansen, Winther\n",
    "https://epubs.siam.org/doi/pdf/10.1137/040616887\n",
    "\n",
    "Srinath Bulusu, Joachim Schöberl"
   ]
  },
  {
   "cell_type": "code",
   "execution_count": null,
   "id": "a2167ab7",
   "metadata": {
    "scrolled": false
   },
   "outputs": [],
   "source": [
    "from ngsolve import *\n",
    "\n",
    "from ngsolve.meshes import *\n",
    "\n",
    "from ngsolve.solvers import *\n",
    "from ngsolve.webgui import Draw\n",
    "\n",
    "import matplotlib.pyplot as plt\n",
    "\n",
    "from su2_yangmills import *"
   ]
  },
  {
   "cell_type": "code",
   "execution_count": null,
   "id": "a30bd10b",
   "metadata": {},
   "outputs": [],
   "source": [
    "n = [1,0,0]\n",
    "t = 10\n",
    "v = CF( (t, CF(tuple(n))) )\n",
    "Cross(v[1:], v[1:]).dim"
   ]
  },
  {
   "cell_type": "code",
   "execution_count": null,
   "id": "2968b001",
   "metadata": {},
   "outputs": [],
   "source": [
    "dim = 2\n",
    "if dim == 2:\n",
    "    mesh = MakeStructured2DMesh(quads=False, nx=30, ny=30, periodic_x=True, periodic_y=True)\n",
    "elif dim == 3:\n",
    "    mesh = MakeStructured3DMesh(hexes=False, nx=5, ny=5, nz=5, periodic_x=True, periodic_y=True, periodic_z=True)\n",
    "\n",
    "#Draw(mesh)"
   ]
  },
  {
   "cell_type": "markdown",
   "id": "980e0b7f",
   "metadata": {},
   "source": [
    "Function spaces of Interest are Lie algebra valued p-forms $\\Lambda^p(M,\\mathfrak{g})$. In two dimensions $p=0,1,2$\n",
    "\n",
    "The Lie algebra $\\mathfrak{g} = su(2)$ can be spanned by three basis vectors (Pauli matrices $\\sigma_i$ for example). We will from now on only work with coefficients in this basis, hence $\\mathbb{R}^3$-valued p-forms $\\Lambda^p(M,\\mathbb{R}^3)$. "
   ]
  },
  {
   "cell_type": "code",
   "execution_count": null,
   "id": "2c71f33c",
   "metadata": {},
   "outputs": [],
   "source": [
    "#fesC = H1(mesh)**3 # for su2 charge\n",
    "#fesA = HCurl(mesh)**3 # for su2 gauge potential\n",
    "\n",
    "fesC = Periodic(H1(mesh, order=1))**3 # for su2 charge\n",
    "fesA = Periodic(HCurl(mesh, order=1))**3 # for su2 gauge potential\n",
    "\n",
    "#fesC = Periodic(H1(mesh, order=3))**3 # for su2 charge\n",
    "#fesA = Periodic(H1(mesh, order=3)**3)**3 # for su2 gauge potential\n",
    "\n",
    "\n",
    "#print(fesA.FreeDofs())\n",
    "#fesA.ndof"
   ]
  },
  {
   "cell_type": "markdown",
   "id": "a7b4ebaf",
   "metadata": {},
   "source": [
    "The connection is a map $\\mathrm{d}_A: \\Lambda^p(M,\\mathfrak{g}) \\rightarrow \\Lambda^{p+1}(M,\\mathfrak{g})$ and acts as $v \\mapsto \\mathrm{d}_A v := \\mathrm{d}v + [A \\wedge v]$\n",
    "\n",
    "The exterior derivative in $\\mathbb{R}^2$ can be interpreted as gradient and curl\n",
    "$H1 \\simeq \\Lambda^0 \\stackrel{\\nabla}{\\rightarrow} Hc \\simeq \\Lambda^1 \\stackrel{\\nabla \\times}{\\rightarrow} L2 \\simeq \\Lambda^2$\n",
    "\n",
    "The wedge Bracket $[A \\wedge B]$ is the linear extension of $[\\mathrm{d}x^\\mu \\otimes \\sigma_k \\wedge \\mathrm{d}x^\\nu \\otimes \\sigma_l] = \\mathrm{d}x^\\mu \\wedge \\mathrm{d}x^\\nu \\otimes [\\sigma_k, \\sigma_l]$\n",
    "\n",
    "The Lie Bracket cna be expressed in terms of structure constants $[\\sigma_k, \\sigma_l] = f_{klm} \\sigma_m$ which in the case of $su(2)$ are the fully antisymmetric Levi Civita symbol $f_{klm}=\\epsilon_{klm}$, and we can use the $\\mathbb{R}^3$-Cross product for coefficients.\n",
    "\n",
    "the inner product of two basis matrices is $\\langle \\sigma_k, \\sigma_l \\rangle = \\mathrm{Tr}(\\sigma_k \\sigma_l^\\top)$ which in the case of $su(2)$ is $\\langle \\sigma_k, \\sigma_l \\rangle = \\delta_{kl}$, and we can use the $\\mathbb{R}^3$-Inner Product for coefficients."
   ]
  },
  {
   "cell_type": "code",
   "execution_count": null,
   "id": "64c8aed9",
   "metadata": {},
   "outputs": [],
   "source": [
    "E = fesA.TrialFunction()\n",
    "A = fesA.TrialFunction()\n",
    "Ap = fesA.TestFunction()\n",
    "Ep = fesA.TestFunction()\n",
    "\n",
    "C = fesC.TrialFunction()\n",
    "Cp = fesC.TestFunction()\n",
    "\n",
    "gfA = GridFunction(fesA)\n",
    "gfE = GridFunction(fesA)\n",
    "gfC = GridFunction(fesC)\n",
    "\n",
    "#J_gf = GridFunction(fesA)\n",
    "#J_gf.Set((0,0 ,0,0 ,0,0))\n",
    "#Jz_gf = GridFunction(fesAz)\n",
    "#Jz_gf.Set((0 ,0 ,0))\n",
    "\n",
    "grad_A(A, Cp)\n",
    "curl_A(A, E)"
   ]
  },
  {
   "cell_type": "markdown",
   "id": "d2c3234a",
   "metadata": {},
   "source": [
    "The $d+1$ strong formulation of the time dependent Yang Mills equations with charge density $\\rho$ and spatial current $j$ in temporal gauge\n",
    "\n",
    "$ \\mathrm{d}_A^* \\dot{A} = \\rho$\n",
    "\n",
    "$\\ddot{A} + \\mathrm{d}_A^* F(A) = j$\n",
    "\n",
    "in weak form with $E = -\\dot{A}$ are\n",
    "\n",
    "$ \\langle E ,d_A \\rho^\\prime \\rangle = \\langle \\rho, \\rho^\\prime \\rangle$\n",
    "\n",
    "$\\langle \\dot{E}, A^\\prime \\rangle - \\langle F(A), \\mathrm{d}_A A^\\prime \\rangle = \\langle j, A^\\prime \\rangle$\n",
    "\n",
    "for all test functions $\\rho^\\prime \\in \\Lambda^0(M,\\mathfrak{g}), A^\\prime \\in \\Lambda^1(M,\\mathfrak{g})$\n",
    "\n",
    "The second equation is used for time steps.\n",
    "\n",
    "The first equation is used to evaluate the charg at each step.\n"
   ]
  },
  {
   "cell_type": "code",
   "execution_count": null,
   "id": "0d7cd5db",
   "metadata": {},
   "outputs": [],
   "source": [
    "# matrices for E-A leapfrog time stepping\n",
    "m = BilinearForm(fesA)\n",
    "m += InnerProduct(E,Ep)*dx\n",
    "\n",
    "m.Assemble()\n",
    "minv = m.mat.Inverse(fesA.FreeDofs())\n",
    "\n",
    "b = BilinearForm(fesA, nonassemble=True)\n",
    "b += InnerProduct(F_A(A), curl_A(A, Ep))*dx\n",
    "\n",
    "f = LinearForm(fesA)\n",
    "#f += InnerProduct(J_gf, Ep)*dx\n",
    "f.Assemble()"
   ]
  },
  {
   "cell_type": "code",
   "execution_count": null,
   "id": "5430daee",
   "metadata": {},
   "outputs": [],
   "source": [
    "# matrices for evaluating charge\n",
    "mC = BilinearForm(fesC)\n",
    "mC += InnerProduct(C,Cp)*dx\n",
    "\n",
    "mC.Assemble()\n",
    "mCinv = mC.mat.Inverse(fesC.FreeDofs())\n",
    "\n",
    "bC = BilinearForm(trialspace=fesA, testspace=fesC, nonassemble=True)\n",
    "bC += InnerProduct(E, grad_A(gfA, Cp))*dx"
   ]
  },
  {
   "cell_type": "code",
   "execution_count": null,
   "id": "699aa42f",
   "metadata": {
    "scrolled": false
   },
   "outputs": [],
   "source": [
    "# TODO: set initial conditions that satisfy physical constraints\n",
    "sigma2 = 0.02\n",
    "mu1 = [0.7, 0.5]\n",
    "mu2 = [0.3, 0.5]\n",
    "mu3 = [0.5, 0.3]\n",
    "\n",
    "if dim == 2:\n",
    "    gfA.Set((0,0 ,0,0 ,0,0))\n",
    "    #gfE.Set((0,0 ,0,0 ,0,0))\n",
    "    #gfE.Set((0,gaussx(mu1[0], sigma2) ,0,gaussx(mu2[0], sigma2) ,0,0))\n",
    "    #gfE.Set((0,gaussxy(mu1, sigma2) ,0,gaussxy(mu2, sigma2) ,gaussxy(mu3, sigma2),0))\n",
    "    gfE.Set((0,gaussxyper(mu1, sigma2) ,0,gaussxyper(mu2, sigma2) ,gaussxyper(mu3, sigma2),0))\n",
    "    \n",
    "if dim == 3:\n",
    "    gfA.Set((0,0,0 ,0,0,0 ,0,0,0))\n",
    "    #gfE.Set((0,0,gaussxy(mu1, sigma2) ,0,0,gaussxy(mu2, sigma2) ,0,0,0))\n",
    "    gfE.Set((0,0,gaussxyper(mu1, sigma2) ,0,0,gaussxyper(mu2, sigma2) ,0,0,0))\n",
    "\n",
    "    \n",
    "    \n",
    "\n",
    "gfC0 = GridFunction(fesC)\n",
    "tempC0 = gfC0.vec.CreateVector()\n",
    "tempC0[:] = 0.\n",
    "\n",
    "bC.Apply(gfE.vec, tempC0)\n",
    "gfC0.vec.data = mCinv * tempC0\n",
    "\n",
    "Draw (gfC0[:], mesh )\n",
    "\n",
    "Draw (gfA[0,:], mesh )\n",
    "Draw (gfA[1,:], mesh )\n",
    "Draw (gfA[2,:], mesh )\n",
    "\n",
    "Draw (gfE[0,:], mesh )\n",
    "Draw (gfE[1,:], mesh )\n",
    "Draw (gfE[2,:], mesh )\n",
    "\n",
    "\n",
    "\n"
   ]
  },
  {
   "cell_type": "markdown",
   "id": "df5f562d",
   "metadata": {},
   "source": [
    "#TODO: given charge and spatial gauge - find E?\n",
    "a = BilinearForm(testspace=fesC, trialspace=fesA, nonassemble=True)\n",
    "a += InnerProduct(E, grad_A(gfA, Cp))*dx\n",
    "\n",
    "fa = LinearForm(fesA)\n",
    "fa += rho_cf * Cp *dx\n",
    "\n",
    "#a.Assemble()\n",
    "#fa.Assemble()\n",
    "\n",
    "fa = LinearForm(fesA)\n",
    "fa += rho_cf * Cp *dx\n",
    "\n",
    "\n",
    "\n",
    "E_gf = GridFunction(fesA)\n",
    "#TODO: solve generalized poisson equation\n",
    "#E_gf.vec = a.mat.Inv() * fa.vec"
   ]
  },
  {
   "cell_type": "code",
   "execution_count": null,
   "id": "f7764afe",
   "metadata": {},
   "outputs": [],
   "source": [
    "tend = 4.\n",
    "dt = 0.001\n",
    "t = 0.\n",
    "n_steps = int(tend/dt)\n",
    "n_steps"
   ]
  },
  {
   "cell_type": "code",
   "execution_count": null,
   "id": "a94acb31",
   "metadata": {
    "scrolled": false
   },
   "outputs": [],
   "source": [
    "scenes = []\n",
    "scenes.append(Draw (gfC, mesh ))\n",
    "for i in (0,1,2):\n",
    "    scenes.append(Draw (gfA[i,:], mesh ))\n",
    "    scenes.append(Draw (gfE[i,:], mesh ))\n",
    "\n",
    "temp = gfA.vec.CreateVector()\n",
    "temp[:] = 0.\n",
    "tempC = gfC.vec.CreateVector()\n",
    "tempC[:] = 0.\n",
    "\n",
    "dq =[]\n",
    "\n",
    "# visualize with trace-visualizer vite\n",
    "# https://docu.ngsolve.org/latest/i-tutorials/unit-1.9-taskmanager/taskmanager.html\n",
    "with TaskManager(): # pajetrace=10**8):\n",
    "    for n in range(n_steps):\n",
    "        #timestep\n",
    "        gfA.vec.data -= dt * gfE.vec\n",
    "        \n",
    "        b.Apply(gfA.vec, temp)\n",
    "        temp += f.vec\n",
    "        gfE.vec.data += dt * minv * temp\n",
    "\n",
    "\n",
    "        if (n >= 0):\n",
    "            #solve for charge\n",
    "            #bC.Assemble()\n",
    "            #bC = BilinearForm(testspace=fesC, trialspace=fesA, nonassemble=True)\n",
    "            #bC += InnerProduct(E, grad_A(gfA, Cp))*dx\n",
    "            bC.Apply(gfE.vec, tempC)\n",
    "            gfC.vec.data = mCinv * tempC\n",
    "            dq.append([Integrate(Norm(gfC - gfC0), mesh) for c in range(liedim)])\n",
    "\n",
    "            #TODO: improved schemes for charge at n-1 th step\n",
    "\n",
    "\n",
    "        t += dt\n",
    "        #input()\n",
    "        if n % 10 == 0:\n",
    "            for scene in scenes:\n",
    "                scene.Redraw()\n",
    "            print (\"\\r\", t, end=\"\")\n",
    "\n"
   ]
  },
  {
   "cell_type": "code",
   "execution_count": null,
   "id": "09eeade2",
   "metadata": {
    "scrolled": false
   },
   "outputs": [],
   "source": [
    "plt.plot(range(0,len(dq)),dq)\n",
    "plt.savefig(\"per2d.png\")"
   ]
  },
  {
   "cell_type": "code",
   "execution_count": null,
   "id": "9c056dd4",
   "metadata": {},
   "outputs": [],
   "source": []
  },
  {
   "cell_type": "code",
   "execution_count": null,
   "id": "4e4a5167",
   "metadata": {},
   "outputs": [],
   "source": []
  },
  {
   "cell_type": "code",
   "execution_count": null,
   "id": "0ae6e2be",
   "metadata": {},
   "outputs": [],
   "source": []
  },
  {
   "cell_type": "code",
   "execution_count": null,
   "id": "c5fa6d6d",
   "metadata": {},
   "outputs": [],
   "source": []
  },
  {
   "cell_type": "code",
   "execution_count": null,
   "id": "f712b54f",
   "metadata": {},
   "outputs": [],
   "source": []
  },
  {
   "cell_type": "code",
   "execution_count": null,
   "id": "cbbd1e00",
   "metadata": {},
   "outputs": [],
   "source": []
  },
  {
   "cell_type": "code",
   "execution_count": null,
   "id": "db984d6e",
   "metadata": {},
   "outputs": [],
   "source": []
  },
  {
   "cell_type": "code",
   "execution_count": null,
   "id": "fb0ecad8",
   "metadata": {},
   "outputs": [],
   "source": []
  },
  {
   "cell_type": "code",
   "execution_count": null,
   "id": "49e78da4",
   "metadata": {},
   "outputs": [],
   "source": []
  },
  {
   "cell_type": "code",
   "execution_count": null,
   "id": "3623d95b",
   "metadata": {},
   "outputs": [],
   "source": []
  }
 ],
 "metadata": {
  "kernelspec": {
   "display_name": "Python 3 (ipykernel)",
   "language": "python",
   "name": "python3"
  },
  "language_info": {
   "codemirror_mode": {
    "name": "ipython",
    "version": 3
   },
   "file_extension": ".py",
   "mimetype": "text/x-python",
   "name": "python",
   "nbconvert_exporter": "python",
   "pygments_lexer": "ipython3",
   "version": "3.10.12"
  }
 },
 "nbformat": 4,
 "nbformat_minor": 5
}
