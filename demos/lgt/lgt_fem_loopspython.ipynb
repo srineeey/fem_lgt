{
 "cells": [
  {
   "cell_type": "code",
   "execution_count": null,
   "id": "8018d203",
   "metadata": {
    "scrolled": false
   },
   "outputs": [],
   "source": [
    "from ngsolve import *\n",
    "\n",
    "from ngsolve.meshes import *\n",
    "from ngsolve.solvers import *\n",
    "from ngsolve.webgui import Draw\n",
    "\n",
    "import numpy as np\n",
    "import matplotlib.pyplot as plt\n",
    "\n",
    "#from su2_yangmills import *\n",
    "from lgt import *"
   ]
  },
  {
   "cell_type": "code",
   "execution_count": null,
   "id": "36783bd6",
   "metadata": {},
   "outputs": [],
   "source": [
    "ne=4\n",
    "#mesh = MakeStructured2DMesh(quads=True, nx=ne, ny=ne, periodic_x=True, periodic_y=True)\n",
    "mesh = MakeStructured2DMesh(quads=True, nx=ne, ny=ne, periodic_x=False, periodic_y=False)\n",
    "Draw(mesh)"
   ]
  },
  {
   "cell_type": "code",
   "execution_count": null,
   "id": "d39b33f9",
   "metadata": {},
   "outputs": [],
   "source": [
    "order=1\n",
    "fesC = H1(mesh, order=order)**3 # for su2 charge\n",
    "fesJ = HCurl(mesh, order=order-1)**3 # for su2 gauge potential\n",
    "\n",
    "# discrete connection one form sitting on borders\n",
    "fesA = FacetFESpace(mesh, order=0)**3\n",
    "\n",
    "# parallel transport maps between neighbouring volumes, belonging to an oriented interface\n",
    "#TODO: orientation?\n",
    "fesU = FacetFESpace(mesh, order=0)**4\n",
    "\n",
    "# space of wilson loops centered around bones (= corners (2D) or edges (3D))\n",
    "fesW = H1(mesh, order=0)**4\n",
    "\n",
    "# space of action integrand\n",
    "fesS = H1(mesh, order=0)\n",
    "\n",
    "# discrete curvature sitting at bones (= corners (2D) or edges (3D))\n",
    "fesB = H1(mesh, order=0)**3"
   ]
  },
  {
   "cell_type": "code",
   "execution_count": null,
   "id": "333d31c7",
   "metadata": {
    "scrolled": false
   },
   "outputs": [],
   "source": [
    "fesT = H1(mesh, order=0)\n",
    "gfT = GridFunction(fesT)\n",
    "\n",
    "e_id = 0\n",
    "edge = mesh.edges[e_id]\n",
    "v_of_e = edge.vertices\n",
    "for v in v_of_e:\n",
    "    print(v)\n",
    "    gfT.vec[v.nr] = 1\n",
    "\n",
    "Draw(gfT, mesh)"
   ]
  },
  {
   "cell_type": "code",
   "execution_count": null,
   "id": "f485f2f6",
   "metadata": {},
   "outputs": [],
   "source": [
    "gfv = GridFunction(fesT)\n",
    "gfvedges = GridFunction(fesT)\n",
    "\n",
    "v_id = 0\n",
    "v = mesh.vertices[v_id]\n",
    "vedges = get_oriented_vedges_tan(v, mesh)\n",
    "vedges = [edge_or_angle[0] for edge_or_angle in vedges]\n",
    "print(vedges)\n",
    "print(get_vedges(v, mesh))\n",
    "\n",
    "gfv.vec[v_id] = 1.\n",
    "for e_id in vedges:\n",
    "    edge = mesh.edges[e_id]\n",
    "    \n",
    "    for v in edge.vertices:\n",
    "        gfvedges.vec[v.nr] = 1\n",
    "        \n",
    "    Draw(gfvedges, mesh)\n",
    "    gfvedges.vec[:] = 0\n",
    "\n",
    "Draw(gfv, mesh)\n",
    "#Draw(gfvedges, mesh)"
   ]
  },
  {
   "cell_type": "code",
   "execution_count": null,
   "id": "8a6cd8dd",
   "metadata": {},
   "outputs": [],
   "source": [
    "gfU = GridFunction(fesU)\n",
    "#gfU.components[0].vec[:] = 1\n",
    "\n",
    "phi  = 0.1*pi\n",
    "gfU.components[0].vec[:] = cos(phi)\n",
    "gfU.components[3].vec[:] = sin(phi)\n",
    "\n",
    "#phi = 0.3*pi\n",
    "#for e in range(mesh.nedge):\n",
    "#    phi_e = float(e)/float(mesh.nedge)*phi\n",
    "#    gfU.components[0].vec[e] = cos(phi_e)\n",
    "#    gfU.components[3].vec[e] = sin(phi_e)\n"
   ]
  },
  {
   "cell_type": "code",
   "execution_count": null,
   "id": "73003027",
   "metadata": {},
   "outputs": [],
   "source": [
    "v_id = 4\n",
    "e_id = 7\n",
    "v = mesh.vertices[v_id]\n",
    "e_start = mesh.edges[e_id]\n",
    "\n",
    "print(v)\n",
    "print(v.edges)\n",
    "print(e_start)\n",
    "#if e_start not in v.edges:\n",
    "#    raise ValueError(f\"edge {estart} not at vertex {v}\")\n",
    "\n",
    "#get_wilson_loop(gfU, v, mesh, start_edge=e_start)\n",
    "qWv = get_wilson_loop(gfU, v, mesh, start_edge=None)\n",
    "print(np.arccos(qWv[0]))"
   ]
  },
  {
   "cell_type": "code",
   "execution_count": null,
   "id": "0245e5e5",
   "metadata": {
    "scrolled": true
   },
   "outputs": [],
   "source": [
    "gfW = GridFunction(fesW)\n",
    "#for v in mesh.vertices:\n",
    "#    gfU.components[0].vec[v.nr] = v.nr+1\n",
    "\n",
    "calc_gfW(gfU, gfW, mesh)"
   ]
  },
  {
   "cell_type": "code",
   "execution_count": null,
   "id": "09ca2e0a",
   "metadata": {
    "scrolled": true
   },
   "outputs": [],
   "source": [
    "#Draw(gfW.components[0], mesh)\n",
    "# values inbetween are interpolated and have no meaning!\n",
    "# norm inbetween is not 1 due to linear interpolation\n",
    "Draw(Norm(gfW), mesh)"
   ]
  },
  {
   "cell_type": "code",
   "execution_count": null,
   "id": "bbebf5f0",
   "metadata": {},
   "outputs": [],
   "source": [
    "gfS = GridFunction(fesS)\n",
    "#calc_lnwilson_action(gfW, gfS)\n",
    "calc_wilson_action(gfW, gfS)"
   ]
  },
  {
   "cell_type": "code",
   "execution_count": null,
   "id": "e2f1bc1d",
   "metadata": {},
   "outputs": [],
   "source": [
    "Draw(gfS, mesh)"
   ]
  },
  {
   "cell_type": "code",
   "execution_count": null,
   "id": "2043dd4a",
   "metadata": {
    "scrolled": false
   },
   "outputs": [],
   "source": [
    "gfW_ah = tr_ah(su2mat_from_q(gfW))\n",
    "Draw(gfW_ah[2], mesh)\n",
    "Draw((-vec_from_q(gfW)- gfW_ah)[2], mesh)"
   ]
  },
  {
   "cell_type": "code",
   "execution_count": null,
   "id": "7543e83a",
   "metadata": {},
   "outputs": [],
   "source": []
  },
  {
   "cell_type": "code",
   "execution_count": null,
   "id": "0cfdd725",
   "metadata": {},
   "outputs": [],
   "source": []
  }
 ],
 "metadata": {
  "kernelspec": {
   "display_name": "Python 3 (ipykernel)",
   "language": "python",
   "name": "python3"
  },
  "language_info": {
   "codemirror_mode": {
    "name": "ipython",
    "version": 3
   },
   "file_extension": ".py",
   "mimetype": "text/x-python",
   "name": "python",
   "nbconvert_exporter": "python",
   "pygments_lexer": "ipython3",
   "version": "3.10.12"
  }
 },
 "nbformat": 4,
 "nbformat_minor": 5
}
