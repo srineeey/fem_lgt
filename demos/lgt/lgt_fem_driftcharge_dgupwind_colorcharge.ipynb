{
 "cells": [
  {
   "cell_type": "code",
   "execution_count": 1,
   "id": "8018d203",
   "metadata": {},
   "outputs": [],
   "source": [
    "from ngsolve import *\n",
    "\n",
    "from ngsolve.meshes import *\n",
    "#from ngsolve.solvers import *\n",
    "from ngsolve.webgui import Draw\n",
    "from netgen.geom2d import unit_square\n",
    "\n",
    "import numpy as np\n",
    "import matplotlib.pyplot as plt\n",
    "\n",
    "#from su2_yangmills import *\n",
    "from lgt import *\n",
    "\n",
    "import json"
   ]
  },
  {
   "cell_type": "code",
   "execution_count": 2,
   "id": "bdf74b50",
   "metadata": {},
   "outputs": [],
   "source": [
    "parameters = {}\n",
    "#parameters[\"h\"] = 0.05\n",
    "parameters[\"h\"] = 0.1\n",
    "#parameters[\"h\"] = 0.01\n",
    "#parameters[\"h\"] = 0.05\n",
    "parameters[\"n\"] = int(1/parameters[\"h\"])\n",
    "parameters[\"order\"] = 6\n",
    "#parameters[\"order\"] = 2\n",
    "#parameters[\"dt\"] = 0.005\n",
    "parameters[\"dt\"] = 0.0001"
   ]
  },
  {
   "cell_type": "code",
   "execution_count": 3,
   "id": "36783bd6",
   "metadata": {},
   "outputs": [
    {
     "data": {
      "application/vnd.jupyter.widget-view+json": {
       "model_id": "fcc27893f06b42c7a094d6b0df14b78e",
       "version_major": 2,
       "version_minor": 0
      },
      "text/plain": [
       "WebGuiWidget(layout=Layout(height='50vh', width='100%'), value={'gui_settings': {}, 'ngsolve_version': '6.2.23…"
      ]
     },
     "metadata": {},
     "output_type": "display_data"
    },
    {
     "data": {
      "text/plain": [
       "BaseWebGuiScene"
      ]
     },
     "execution_count": 3,
     "metadata": {},
     "output_type": "execute_result"
    }
   ],
   "source": [
    "ne=parameters[\"n\"]\n",
    "mesh = MakeStructured2DMesh(quads=True, nx=ne, ny=ne, periodic_x=True, periodic_y=True)\n",
    "#mesh = MakeStructured2DMesh(quads=True, nx=ne, ny=ne, periodic_x=False, periodic_y=False)\n",
    "#mesh = MakeStructured2DMesh(quads=False, nx=ne, ny=ne, periodic_x=False, periodic_y=False)\n",
    "#mesh = Mesh(unit_square.GenerateMesh(maxh=0.1))\n",
    "Draw(mesh)"
   ]
  },
  {
   "cell_type": "code",
   "execution_count": 4,
   "id": "d39b33f9",
   "metadata": {},
   "outputs": [],
   "source": [
    "order=parameters[\"order\"]\n",
    "# for su2 charge\n",
    "#fesC = L2(mesh, order=order, dgjumps=True)**3\n",
    "\n",
    "# TODO: unable to access components of gridfunction - gives index error\n",
    "#fesC = Periodic(L2(mesh, order=order)**3)\n",
    "#fesG = Periodic(L2(mesh, order=0)**4)\n",
    "\n",
    "# Lie algebra space\n",
    "fesC = L2(mesh, order=order)**3\n",
    "\n",
    "# quaternion space!\n",
    "fesG = L2(mesh, order=0)**4\n",
    "\n",
    "# upwind flux of current through faces\n",
    "#fesjflux = FacetFESpace(mesh, order=0)**3\n",
    "\n",
    "\n",
    "# parallel transport maps between neighbouring volumes, belonging to an oriented interface\n",
    "#TODO: orientation is handled by a special CF\n",
    "# quaternion space!\n",
    "#fesU = FacetFESpace(mesh, order=0, dgjumps=True, dirichlet=\".*\")**4\n",
    "fesU = FacetFESpace(mesh, order=0, dgjumps=True)**4\n",
    "\n",
    "## Lie algebra space!\n",
    "#fesA = FacetFESpace(mesh, order=0, dgjumps=True)**3\n",
    "\n",
    "\n",
    "# define a global orientation of links\n",
    "fesHd = HDiv(mesh, order=0)\n",
    "gfor = GridFunction(fesHd)\n",
    "#gfor = GridFunction(HDiv(mesh, order=0))\n",
    "gfor.vec.data[:] = 1.\n",
    "n = specialcf.normal(mesh.dim)"
   ]
  },
  {
   "cell_type": "code",
   "execution_count": 5,
   "id": "46a3adee",
   "metadata": {},
   "outputs": [],
   "source": [
    "def gaussxy(mu, sigma2):\n",
    "    return gaussx(mu[0], sigma2) * gaussy(mu[1], sigma2)\n",
    "\n",
    "def gaussx(mu, sigma2):\n",
    "    return 1./sqrt(2*pi*sigma2) * exp(-0.5/sigma2 *( (x-mu)*(x-mu)))\n",
    "\n",
    "def gaussy(mu, sigma2):\n",
    "    return 1./sqrt(2*pi*sigma2) * exp(-0.5/sigma2 *( (y-mu)*(y-mu)))"
   ]
  },
  {
   "cell_type": "code",
   "execution_count": 6,
   "id": "3bbc5a96",
   "metadata": {},
   "outputs": [
    {
     "data": {
      "application/vnd.jupyter.widget-view+json": {
       "model_id": "1699bfb054e743268e0371e7d827b716",
       "version_major": 2,
       "version_minor": 0
      },
      "text/plain": [
       "WebGuiWidget(layout=Layout(height='50vh', width='100%'), value={'gui_settings': {}, 'ngsolve_version': '6.2.23…"
      ]
     },
     "metadata": {},
     "output_type": "display_data"
    },
    {
     "data": {
      "application/vnd.jupyter.widget-view+json": {
       "model_id": "1caecd80a2f7401c87af9b5a29e14822",
       "version_major": 2,
       "version_minor": 0
      },
      "text/plain": [
       "WebGuiWidget(layout=Layout(height='50vh', width='100%'), value={'gui_settings': {}, 'ngsolve_version': '6.2.23…"
      ]
     },
     "metadata": {},
     "output_type": "display_data"
    },
    {
     "data": {
      "text/plain": [
       "BaseWebGuiScene"
      ]
     },
     "execution_count": 6,
     "metadata": {},
     "output_type": "execute_result"
    }
   ],
   "source": [
    "fesl2 = L2(mesh, order=0)\n",
    "gfl2 = GridFunction(fesl2)\n",
    "#el_num = 193\n",
    "el_num = 75\n",
    "gfl2.vec[el_num] =1.\n",
    "Draw(gfl2, mesh)\n",
    "\n",
    "gfhd = GridFunction(fesHd)\n",
    "#e_num = 179\n",
    "e_num = 158\n",
    "gfhd.vec[e_num] = 1.\n",
    "\n",
    "Draw(gfhd, mesh)"
   ]
  },
  {
   "cell_type": "code",
   "execution_count": 7,
   "id": "66ee3e0b",
   "metadata": {},
   "outputs": [],
   "source": [
    "# set the scenarios\n",
    "\n",
    "# wind:\n",
    "\n",
    "def rot_wind():\n",
    "    return CF( (y-0.5,-(x-0.5)) ) \n",
    "\n",
    "def x_wind():\n",
    "    return CF( (1,0) )\n",
    "\n",
    "def y_wind():\n",
    "    return CF( (0,1) )\n",
    "\n",
    "def mx_wind():\n",
    "    return CF( (-1,0) )\n",
    "\n",
    "def xy_wind():\n",
    "    return CF( (1,1) )\n",
    "\n",
    "\n",
    "#rot_wind()\n",
    "#tend = 5.00 # numerical dispersion and oscillations kick in\n",
    "tend_rot_wind = 6.3 # one rotation\n",
    "#tend = 3.\n",
    "\n",
    "\n",
    "#mxmy_wind()\n",
    "#tend = 5.00 \n",
    "tend_mxmy_wind = 0.3\n",
    "\n",
    "\n",
    "#???\n",
    "#tend_x_wind = 0.2\n",
    "tend_x_wind = 0.4\n",
    "\n",
    "# charge distribution:\n",
    "\n",
    "mu = [0.5,0.3]\n",
    "mu_l = [0.3,0.5]\n",
    "mu_c = [0.5,0.5]\n",
    "sigma2 = 0.01\n",
    "\n",
    "def rho_center(gfrho):\n",
    "    gfrho.Set( CF( (gaussxy(mu_c, sigma2), 0, 0) ) )\n",
    "    return gfrho\n",
    "\n",
    "def rho_d(gfrho):\n",
    "    gfrho.Set( CF( (gaussxy(mu, sigma2), 0, 0) ) )\n",
    "    return gfrho\n",
    "\n",
    "def rho_l(gfrho):\n",
    "    gfrho.Set( CF( (gaussxy(mu_l, sigma2), 0, 0) ) )\n",
    "    return gfrho\n",
    "\n",
    "\n",
    "# background gauge links:\n",
    "\n",
    "#e_num=220\n",
    "#e_num=10\n",
    "e_num=158\n",
    "\n",
    "q_theta = 0.1*pi\n",
    "theta =0.\n",
    "phi=0.\n",
    "\n",
    "\n",
    "#ur\n",
    "el_num = 75\n",
    "\n",
    "#d\n",
    "#el_num = 88\n",
    "\n",
    "#r\n",
    "#el_num = 177\n",
    "#el_num = 193\n",
    "\n",
    "\n",
    "scenario = {}\n",
    "\n",
    "scenario[\"wind\"] =  rot_wind\n",
    "#scenario[\"wind\"] =  x_wind\n",
    "#scenario[\"wind\"] =  xy_wind\n",
    "\n",
    "#scenario[\"rho\"] = rho_d\n",
    "#scenario[\"rho\"] = rho_center\n",
    "scenario[\"rho\"] = rho_l\n",
    "\n",
    "scenario[\"tend\"] = tend_rot_wind\n",
    "#scenario[\"tend\"] = 0.5\n",
    "#scenario[\"tend\"] = tend_x_wind\n",
    "\n",
    "# scenario 1: trivial links\n",
    "scenario[\"gfU\"] = lambda _U: trivial_gauge(_U)\n",
    "# scenario 2: single link\n",
    "#scenario[\"gfU\"] = lambda _U: single_link(_U, mesh, e_num, qtheta=0.25*pi, theta=0., phi=0.)\n",
    "\n",
    "# scenario 1,2: trivial links\n",
    "#scenario[\"gauge\"] = trivial_gauge\n",
    "\n",
    "# scenario 3: single element gauge\n",
    "scenario[\"gauge\"] = lambda _gfg: single_el_gauge(_gfg, el_num, qtheta=-0.25*pi, theta=0., phi=0.)\n",
    "#scenario[\"gauge\"] = lambda _gfg: single_el_gauge(_gfg, el_num, qtheta=0.35*pi, theta=0., phi=0.)\n",
    "#scenario[\"gauge\"] = lambda _gfg: single_el_gauge(_gfg, el_num, qtheta=0.5*pi, theta=0., phi=0.)\n",
    "\n",
    "#scenario[\"name\"] = \"diag_singleU\"\n",
    "#scenario[\"name\"] = \"cw_singleU\"\n",
    "#scenario[\"name\"] = \"x_trivial\"\n",
    "#scenario[\"name\"] = \"xy_trivial\"\n",
    "#scenario[\"name\"] = \"rot_single\"\n",
    "scenario[\"name\"] = \"rot_elgauge\""
   ]
  },
  {
   "cell_type": "code",
   "execution_count": 8,
   "id": "370afc2b",
   "metadata": {},
   "outputs": [],
   "source": [
    "folder_name = f\"{scenario['name']}\"  \n",
    "if not os.path.exists(folder_name):\n",
    "    os.makedirs(folder_name)\n",
    "    \n",
    "parfolder_name = f\"{folder_name}/{parameters['n']}_order{parameters['order']}_dt{parameters['dt']}\"  \n",
    "if not os.path.exists(parfolder_name):\n",
    "    os.makedirs(parfolder_name)"
   ]
  },
  {
   "cell_type": "code",
   "execution_count": 9,
   "id": "5b83bc74",
   "metadata": {},
   "outputs": [
    {
     "data": {
      "application/vnd.jupyter.widget-view+json": {
       "model_id": "6946f217cd874d2ea230d3ce3df78c4c",
       "version_major": 2,
       "version_minor": 0
      },
      "text/plain": [
       "WebGuiWidget(layout=Layout(height='50vh', width='100%'), value={'gui_settings': {}, 'ngsolve_version': '6.2.23…"
      ]
     },
     "metadata": {},
     "output_type": "display_data"
    },
    {
     "data": {
      "text/plain": [
       "BaseWebGuiScene"
      ]
     },
     "execution_count": 9,
     "metadata": {},
     "output_type": "execute_result"
    }
   ],
   "source": [
    "# set wind\n",
    "cfwind = scenario[\"wind\"]()\n",
    "\n",
    "hcwind = GridFunction( HCurl(mesh,order=1) )\n",
    "hcwind.Set(cfwind)\n",
    "Draw(cfwind, mesh)"
   ]
  },
  {
   "cell_type": "code",
   "execution_count": 10,
   "id": "7a0b95a4",
   "metadata": {},
   "outputs": [],
   "source": [
    "#set gauge links\n",
    "\n",
    "gfU = GridFunction(fesU)\n",
    "\n",
    "#set_gfU_const(gfU, qtheta=0.1*pi, theta = 0., phi=0.)\n",
    "#set_gfU_link(gfU, enum=220, qtheta=0.1*pi, theta = 0., phi=0.)\n",
    "\n",
    "gfU = scenario[\"gfU\"](gfU)\n",
    "#scenario[\"gfU\"](gfU)\n",
    "#gfU = trivial_gauge(gfU)\n",
    "#gfU = single_link(gfU, mesh, e_num, qtheta=0.25*pi, theta=0., phi=0.)\n",
    "\n",
    "\n",
    "\n",
    "# the orientation of gauge links coincides with that of facet normal vectors!\n",
    "# the gauge links need to take this into account \n",
    "# convention: gfU links go along global normal vector\n",
    "# gfUglob links point out of the element\n",
    "# TODO: ist this consistent with C++ code, where orientation is based on vertex numbering?\n",
    "gfUglob = IfPos(gfor*n, gfU, qconjCF(gfU))\n",
    "\n",
    "\n",
    "\n",
    "# for the current coupling term J*A at facets\n",
    "# the \"gauge fields\" direction needs to be taken into account\n",
    "\n",
    "#gfA = GridFunction(fesA)\n",
    "\n",
    "#gfA.Set( (qlogCF(gfU))[1:] )\n",
    "\n",
    "# similar orientation issue with gfU/gfUglob\n",
    "#gfAglob = IfPos(gfor*n, gfA, -1.*gfA)"
   ]
  },
  {
   "cell_type": "code",
   "execution_count": 11,
   "id": "5c44c88f",
   "metadata": {},
   "outputs": [
    {
     "data": {
      "application/vnd.jupyter.widget-view+json": {
       "model_id": "33fc370331604245806b93e712372e70",
       "version_major": 2,
       "version_minor": 0
      },
      "text/plain": [
       "WebGuiWidget(layout=Layout(height='50vh', width='100%'), value={'gui_settings': {}, 'ngsolve_version': '6.2.23…"
      ]
     },
     "metadata": {},
     "output_type": "display_data"
    },
    {
     "data": {
      "text/plain": [
       "BaseWebGuiScene"
      ]
     },
     "execution_count": 11,
     "metadata": {},
     "output_type": "execute_result"
    }
   ],
   "source": [
    "# set charge density\n",
    "\n",
    "gfrho = GridFunction(fesC)\n",
    "\n",
    "gfrho = scenario[\"rho\"](gfrho)\n",
    "\n",
    "\n",
    "\n",
    "#Draw(Norm(gfrho), mesh)\n",
    "#Draw(gfrho.components[0], mesh)\n",
    "Draw(gfrho, mesh)\n",
    "#print(Integrate(Norm(gfrho), mesh))"
   ]
  },
  {
   "cell_type": "code",
   "execution_count": 12,
   "id": "2fc704fd",
   "metadata": {},
   "outputs": [
    {
     "name": "stdout",
     "output_type": "stream",
     "text": [
      "before gauging\n"
     ]
    },
    {
     "data": {
      "application/vnd.jupyter.widget-view+json": {
       "model_id": "0ad14ab233b5498b988494321c956882",
       "version_major": 2,
       "version_minor": 0
      },
      "text/plain": [
       "WebGuiWidget(layout=Layout(height='50vh', width='100%'), value={'gui_settings': {}, 'ngsolve_version': '6.2.23…"
      ]
     },
     "metadata": {},
     "output_type": "display_data"
    },
    {
     "data": {
      "application/vnd.jupyter.widget-view+json": {
       "model_id": "a57574a6b31f4c69b0ed4cdd234456a7",
       "version_major": 2,
       "version_minor": 0
      },
      "text/plain": [
       "WebGuiWidget(layout=Layout(height='50vh', width='100%'), value={'gui_settings': {}, 'ngsolve_version': '6.2.23…"
      ]
     },
     "metadata": {},
     "output_type": "display_data"
    },
    {
     "name": "stdout",
     "output_type": "stream",
     "text": [
      "after gauging\n"
     ]
    },
    {
     "data": {
      "application/vnd.jupyter.widget-view+json": {
       "model_id": "ae9ec3f5b7bd4e0a9221b598c4118724",
       "version_major": 2,
       "version_minor": 0
      },
      "text/plain": [
       "WebGuiWidget(layout=Layout(height='50vh', width='100%'), value={'gui_settings': {}, 'ngsolve_version': '6.2.23…"
      ]
     },
     "metadata": {},
     "output_type": "display_data"
    },
    {
     "data": {
      "text/plain": [
       "BaseWebGuiScene"
      ]
     },
     "execution_count": 12,
     "metadata": {},
     "output_type": "execute_result"
    }
   ],
   "source": [
    "# apply gauge transformation\n",
    "gfg = GridFunction(fesG)\n",
    "\n",
    "# gfg.components[0].vec.data[:] = 1.\n",
    "# gfg.components[1].vec.data[:] = 0.\n",
    "# gfg.components[2].vec.data[:] = 0.\n",
    "# gfg.components[3].vec.data[:] = 0.\n",
    "\n",
    "gfg = scenario[\"gauge\"](gfg)\n",
    "\n",
    "print(\"before gauging\")\n",
    "\n",
    "gfUviz = GridFunction(fesHd)\n",
    "\n",
    "#gfUviz.vec.data[:] = gfU.components[0].vec[:]\n",
    "gfUviz.vec.data[:] = parameters[\"h\"]*gfU.components[0].vec[:]\n",
    "Draw(gfUviz, mesh)\n",
    "\n",
    "Draw(gfrho, mesh)\n",
    "\n",
    "\n",
    "\n",
    "print(\"after gauging\")\n",
    "gauge_rho(gfrho, gfg)\n",
    "gauge_gfU(gfU, gfg, fesU)\n",
    "\n",
    "#gfUviz.vec.data[:] = gfU.components[0].vec[:]\n",
    "gfUviz.vec.data[:] = parameters[\"h\"]*gfU.components[0].vec[:]\n",
    "#Draw(gfUviz, mesh)\n",
    "\n",
    "Draw(gfrho, mesh)"
   ]
  },
  {
   "cell_type": "code",
   "execution_count": null,
   "id": "de0794e0",
   "metadata": {},
   "outputs": [],
   "source": []
  },
  {
   "cell_type": "code",
   "execution_count": 13,
   "id": "27329dd8",
   "metadata": {},
   "outputs": [
    {
     "name": "stdout",
     "output_type": "stream",
     "text": [
      "62999\n"
     ]
    }
   ],
   "source": [
    "#dt = 0.00001\n",
    "#dt = 0.001\n",
    "\n",
    "tend = scenario[\"tend\"]\n",
    "dt = parameters[\"dt\"]\n",
    "n_steps = int(tend/dt)\n",
    "print(n_steps)"
   ]
  },
  {
   "cell_type": "code",
   "execution_count": 14,
   "id": "e91d14f2",
   "metadata": {},
   "outputs": [],
   "source": [
    "conv = BilinearForm(fesC, nonassemble=True)\n",
    "c,cp = fesC.TnT()\n",
    "#c,cp = fesC.TnT()\n",
    "\n",
    "\n",
    "# convection inside elements\n",
    "#j = OuterProduct(c, cfwind)\n",
    "#gradcp = grad(cp)\n",
    "#conv += InnerProduct(j, gradcp)*dx\n",
    "\n",
    "#conv += -InnerProduct(OuterProduct(c, cfwind), grad(cp))*dx\n",
    "conv += -InnerProduct(OuterProduct(c, hcwind), grad(cp))*dx\n",
    "\n",
    "# convection term between elements\n",
    "# DG upwinding while respecting parallel transport\n",
    "# TODO: check if consistent with LGT convention\n",
    "# U * c * U^{-1}\n",
    "n = specialcf.normal(mesh.dim)\n",
    "#c_up = IfPos(cfwind*n, c, vec_from_q(qmulCF(qmulCF(qconjCF(gfUglob), q_from_vecCF(c.Other())), gfUglob)) )\n",
    "c_up = IfPos(cfwind*n, c, ptransport_color(c.Other(), gfUglob, forward=False) )\n",
    "\n",
    "conv += cfwind*n*c_up*cp*dx(element_boundary=True)\n",
    "#conv += cfwind*n*c_up*cp*dx(skeleton=True)\n",
    "\n",
    "\n",
    "mc = BilinearForm(fesC)\n",
    "mc += InnerProduct(c,cp)*dx\n",
    "mc.Assemble()\n",
    "mcmat = mc.mat\n",
    "mcmatinv = mcmat.Inverse(fesC.FreeDofs())"
   ]
  },
  {
   "cell_type": "code",
   "execution_count": 15,
   "id": "78a2eadc",
   "metadata": {},
   "outputs": [
    {
     "data": {
      "application/vnd.jupyter.widget-view+json": {
       "model_id": "cab62054f9604dd2a45fffdbdded35c0",
       "version_major": 2,
       "version_minor": 0
      },
      "text/plain": [
       "WebGuiWidget(layout=Layout(height='50vh', width='100%'), value={'gui_settings': {}, 'ngsolve_version': '6.2.23…"
      ]
     },
     "metadata": {},
     "output_type": "display_data"
    },
    {
     "data": {
      "text/plain": [
       "BaseWebGuiScene"
      ]
     },
     "execution_count": 15,
     "metadata": {},
     "output_type": "execute_result"
    }
   ],
   "source": [
    "fesjviz = HDiv(mesh, order=0, dgjumps=True)**3\n",
    "gfjviz = GridFunction(fesjviz)\n",
    "\n",
    "def update_jviz(gfjviz):\n",
    "    gfjflux = calc_upwind_colorflux(gfrho, cfwind, gfUglob, mesh, glob_or=True)\n",
    "    gfjviz.vec.data = gfjflux.vec\n",
    "\n",
    "    \n",
    "update_jviz(gfjviz)\n",
    "Draw(gfjviz, mesh)\n",
    "#Draw(gfjviz, mesh, min=-5., max=5.)"
   ]
  },
  {
   "cell_type": "code",
   "execution_count": 16,
   "id": "9194e7e6",
   "metadata": {},
   "outputs": [],
   "source": [
    "# # reverse engineer the flux to visualize it\n",
    "\n",
    "# gfjflux = calc_upwind_colorflux(gfrho, cfwind, glob_or=True)\n",
    "\n",
    "# fesj = HDiv(mesh, order=0, dgjumps=True)**3\n",
    "\n",
    "# jviz = fesj.TrialFunction()\n",
    "# jvizp = fesj.TestFunction()\n",
    "\n",
    "# Mj = BilinearForm(fesj)\n",
    "# fj = BilinearForm(fesj)\n",
    "\n",
    "# Mj += InnerProduct(jviz,jvizp)*dx\n",
    "# fj += InnerProduct(gfjflux,jvizp*n)*dx(skeleton=True)\n",
    "\n",
    "# Mj.Assemble()\n",
    "# #fj.Assemble()\n",
    "\n",
    "# gfjviz = GridFunction(fesj)\n",
    "# gfjvec = GridFunction(fesj)\n",
    "# jvec1 = gfjvec.vec.CreateVector()\n",
    "# jvec2 = gfjvec.vec.CreateVector()\n",
    "\n",
    "# fj.Apply(jvec1, jvec2)\n",
    "\n",
    "# Mjmatinv = Mj.mat.Inverse()\n",
    "\n",
    "# #gfjviz = (Mj.mat.Inverse())*fj.vec\n",
    "# gfjviz = Mjmatinv*jvec2\n",
    "\n",
    "# Draw(gfjviz, mesh)\n",
    "# Draw(gfrho, mesh)"
   ]
  },
  {
   "cell_type": "code",
   "execution_count": 17,
   "id": "d504138c",
   "metadata": {},
   "outputs": [],
   "source": [
    "tempC = gfrho.vec.CreateVector()\n",
    "newgfrho = GridFunction(fesC)\n",
    "\n",
    "def timestep_charge(gfC, newgfC):\n",
    "    newgfC.vec.data[:] = gfC.vec[:]\n",
    "    conv.Apply(gfC.vec, tempC)\n",
    "    newgfC.vec.data[:] += -1.*dt*mcmatinv* tempC\n",
    "    #newgfC.vec.data[:] += dt*mcmatinv* tempC\n",
    "    gfC.vec.data[:] = newgfC.vec[:]"
   ]
  },
  {
   "cell_type": "code",
   "execution_count": 18,
   "id": "46313a26",
   "metadata": {},
   "outputs": [
    {
     "data": {
      "application/vnd.jupyter.widget-view+json": {
       "model_id": "88cb036b36344aac90ddc5daeaac5062",
       "version_major": 2,
       "version_minor": 0
      },
      "text/plain": [
       "WebGuiWidget(layout=Layout(height='50vh', width='100%'), value={'gui_settings': {}, 'ngsolve_version': '6.2.23…"
      ]
     },
     "metadata": {},
     "output_type": "display_data"
    },
    {
     "data": {
      "application/vnd.jupyter.widget-view+json": {
       "model_id": "fe541e3aee234f7aa6475c3e7ef2384e",
       "version_major": 2,
       "version_minor": 0
      },
      "text/plain": [
       "WebGuiWidget(layout=Layout(height='50vh', width='100%'), value={'gui_settings': {}, 'ngsolve_version': '6.2.23…"
      ]
     },
     "metadata": {},
     "output_type": "display_data"
    },
    {
     "data": {
      "application/vnd.jupyter.widget-view+json": {
       "model_id": "a27338e851614543abcdd04e761da314",
       "version_major": 2,
       "version_minor": 0
      },
      "text/plain": [
       "WebGuiWidget(layout=Layout(height='50vh', width='100%'), value={'gui_settings': {}, 'ngsolve_version': '6.2.23…"
      ]
     },
     "metadata": {},
     "output_type": "display_data"
    },
    {
     "data": {
      "application/vnd.jupyter.widget-view+json": {
       "model_id": "89ba59f1a49e463d8b99a5428ceeaf60",
       "version_major": 2,
       "version_minor": 0
      },
      "text/plain": [
       "WebGuiWidget(layout=Layout(height='50vh', width='100%'), value={'gui_settings': {}, 'ngsolve_version': '6.2.23…"
      ]
     },
     "metadata": {},
     "output_type": "display_data"
    },
    {
     "data": {
      "application/vnd.jupyter.widget-view+json": {
       "model_id": "4518bbb76e38492e9019bb3ff0bdcef3",
       "version_major": 2,
       "version_minor": 0
      },
      "text/plain": [
       "WebGuiWidget(layout=Layout(height='50vh', width='100%'), value={'gui_settings': {}, 'ngsolve_version': '6.2.23…"
      ]
     },
     "metadata": {},
     "output_type": "display_data"
    },
    {
     "name": "stdout",
     "output_type": "stream",
     "text": [
      " timestep:2015, t:0.20159999999999412 charge:0.9984374662154277"
     ]
    },
    {
     "name": "stderr",
     "output_type": "stream",
     "text": [
      "no more timer available (biform_from_py), reusing last one\n"
     ]
    },
    {
     "name": "stdout",
     "output_type": "stream",
     "text": [
      " timestep:62998, t:6.299899999998656 charge:1.00009591051457217"
     ]
    }
   ],
   "source": [
    "gfCscenes = []\n",
    "gfCscenes.append(Draw(gfrho[0], mesh))\n",
    "gfCscenes.append(Draw(gfrho[1], mesh))\n",
    "gfCscenes.append(Draw(gfrho[2], mesh))\n",
    "\n",
    "gfCscenes.append(Draw(Norm(gfrho), mesh))\n",
    "gfCscenes.append(Draw(gfjviz, mesh))\n",
    "\n",
    "Cs = []\n",
    "\n",
    "\n",
    "if not os.path.exists(f\"{parfolder_name}/vtk\"):\n",
    "    os.makedirs(f\"{parfolder_name}/vtk\")\n",
    "vtk = VTKOutput(mesh, coefs=[gfrho], names=[\"rho\"],filename=f\"{parfolder_name}/vtk/vtk_snap\",subdivision=2)\n",
    "\n",
    "viz_steps = 10\n",
    "\n",
    "#nt_snaps = list(range(0,n_steps,int(n_steps/viz_steps)))\n",
    "nt_snaps = [ i*int(n_steps/viz_steps) for i in range(viz_steps) ]\n",
    "#nt_snaps = list(range(n_steps))\n",
    "\n",
    "#print(nt_snaps)\n",
    "\n",
    "\n",
    "t = 0.\n",
    "vtk.Do(time=t)\n",
    "for i in range(n_steps):\n",
    "    timestep_charge(gfrho, newgfrho)\n",
    "    update_jviz(gfjviz)\n",
    "    \n",
    "    t += dt\n",
    "    \n",
    "    if i % viz_steps == 0:\n",
    "        for scene in gfCscenes:\n",
    "            scene.Redraw()\n",
    "            \n",
    "    if (i in nt_snaps):\n",
    "        vtk.Do(time=t)\n",
    "\n",
    "    _c = Integrate(Norm(gfrho), mesh)\n",
    "    Cs.append(_c)\n",
    "    #t += dt\n",
    "        \n",
    "    print (\"\\r\", f\"timestep:{i}, t:{t} charge:{_c}\", end=\"\")\n",
    "    #input()"
   ]
  },
  {
   "cell_type": "code",
   "execution_count": 19,
   "id": "b6fd5a0c",
   "metadata": {},
   "outputs": [
    {
     "data": {
      "text/plain": [
       "1.0000959105145721"
      ]
     },
     "execution_count": 19,
     "metadata": {},
     "output_type": "execute_result"
    }
   ],
   "source": [
    "Integrate(Norm(gfrho), mesh)"
   ]
  },
  {
   "cell_type": "code",
   "execution_count": 20,
   "id": "696ab4d8",
   "metadata": {},
   "outputs": [
    {
     "ename": "ValueError",
     "evalue": "x and y must have same first dimension, but have shapes (62998,) and (62999,)",
     "output_type": "error",
     "traceback": [
      "\u001b[0;31m---------------------------------------------------------------------------\u001b[0m",
      "\u001b[0;31mValueError\u001b[0m                                Traceback (most recent call last)",
      "Cell \u001b[0;32mIn[20], line 4\u001b[0m\n\u001b[1;32m      1\u001b[0m \u001b[38;5;28;01mwith\u001b[39;00m \u001b[38;5;28mopen\u001b[39m(\u001b[38;5;124mf\u001b[39m\u001b[38;5;124m\"\u001b[39m\u001b[38;5;132;01m{\u001b[39;00mparfolder_name\u001b[38;5;132;01m}\u001b[39;00m\u001b[38;5;124m/Cs.json\u001b[39m\u001b[38;5;124m\"\u001b[39m, \u001b[38;5;124m\"\u001b[39m\u001b[38;5;124mw\u001b[39m\u001b[38;5;124m\"\u001b[39m) \u001b[38;5;28;01mas\u001b[39;00m f:\n\u001b[1;32m      2\u001b[0m     json\u001b[38;5;241m.\u001b[39mdump(Cs, f, indent\u001b[38;5;241m=\u001b[39m\u001b[38;5;241m2\u001b[39m)\n\u001b[0;32m----> 4\u001b[0m \u001b[43mplt\u001b[49m\u001b[38;5;241;43m.\u001b[39;49m\u001b[43mplot\u001b[49m\u001b[43m(\u001b[49m\u001b[43mnp\u001b[49m\u001b[38;5;241;43m.\u001b[39;49m\u001b[43marange\u001b[49m\u001b[43m(\u001b[49m\u001b[38;5;241;43m0.\u001b[39;49m\u001b[43m,\u001b[49m\u001b[43mt\u001b[49m\u001b[38;5;241;43m-\u001b[39;49m\u001b[43mdt\u001b[49m\u001b[43m,\u001b[49m\u001b[43mdt\u001b[49m\u001b[43m)\u001b[49m\u001b[43m,\u001b[49m\u001b[43m \u001b[49m\u001b[43mCs\u001b[49m\u001b[43m,\u001b[49m\u001b[43m \u001b[49m\u001b[43mlabel\u001b[49m\u001b[38;5;241;43m=\u001b[39;49m\u001b[38;5;124;43mr\u001b[39;49m\u001b[38;5;124;43m\"\u001b[39;49m\u001b[38;5;124;43m$\u001b[39;49m\u001b[38;5;124;43m\\\u001b[39;49m\u001b[38;5;124;43mrho$\u001b[39;49m\u001b[38;5;124;43m\"\u001b[39;49m\u001b[43m)\u001b[49m\n\u001b[1;32m      5\u001b[0m plt\u001b[38;5;241m.\u001b[39mxlabel(\u001b[38;5;124mr\u001b[39m\u001b[38;5;124m\"\u001b[39m\u001b[38;5;124m$t$\u001b[39m\u001b[38;5;124m\"\u001b[39m)\n\u001b[1;32m      6\u001b[0m plt\u001b[38;5;241m.\u001b[39mylabel(\u001b[38;5;124mr\u001b[39m\u001b[38;5;124m\"\u001b[39m\u001b[38;5;124m$\u001b[39m\u001b[38;5;124m\\\u001b[39m\u001b[38;5;124mrho$\u001b[39m\u001b[38;5;124m\"\u001b[39m)\n",
      "File \u001b[0;32m~/fem/ngsuite/ngsolve-env/lib/python3.10/site-packages/matplotlib/pyplot.py:3575\u001b[0m, in \u001b[0;36mplot\u001b[0;34m(scalex, scaley, data, *args, **kwargs)\u001b[0m\n\u001b[1;32m   3567\u001b[0m \u001b[38;5;129m@_copy_docstring_and_deprecators\u001b[39m(Axes\u001b[38;5;241m.\u001b[39mplot)\n\u001b[1;32m   3568\u001b[0m \u001b[38;5;28;01mdef\u001b[39;00m \u001b[38;5;21mplot\u001b[39m(\n\u001b[1;32m   3569\u001b[0m     \u001b[38;5;241m*\u001b[39margs: \u001b[38;5;28mfloat\u001b[39m \u001b[38;5;241m|\u001b[39m ArrayLike \u001b[38;5;241m|\u001b[39m \u001b[38;5;28mstr\u001b[39m,\n\u001b[0;32m   (...)\u001b[0m\n\u001b[1;32m   3573\u001b[0m     \u001b[38;5;241m*\u001b[39m\u001b[38;5;241m*\u001b[39mkwargs,\n\u001b[1;32m   3574\u001b[0m ) \u001b[38;5;241m-\u001b[39m\u001b[38;5;241m>\u001b[39m \u001b[38;5;28mlist\u001b[39m[Line2D]:\n\u001b[0;32m-> 3575\u001b[0m     \u001b[38;5;28;01mreturn\u001b[39;00m \u001b[43mgca\u001b[49m\u001b[43m(\u001b[49m\u001b[43m)\u001b[49m\u001b[38;5;241;43m.\u001b[39;49m\u001b[43mplot\u001b[49m\u001b[43m(\u001b[49m\n\u001b[1;32m   3576\u001b[0m \u001b[43m        \u001b[49m\u001b[38;5;241;43m*\u001b[39;49m\u001b[43margs\u001b[49m\u001b[43m,\u001b[49m\n\u001b[1;32m   3577\u001b[0m \u001b[43m        \u001b[49m\u001b[43mscalex\u001b[49m\u001b[38;5;241;43m=\u001b[39;49m\u001b[43mscalex\u001b[49m\u001b[43m,\u001b[49m\n\u001b[1;32m   3578\u001b[0m \u001b[43m        \u001b[49m\u001b[43mscaley\u001b[49m\u001b[38;5;241;43m=\u001b[39;49m\u001b[43mscaley\u001b[49m\u001b[43m,\u001b[49m\n\u001b[1;32m   3579\u001b[0m \u001b[43m        \u001b[49m\u001b[38;5;241;43m*\u001b[39;49m\u001b[38;5;241;43m*\u001b[39;49m\u001b[43m(\u001b[49m\u001b[43m{\u001b[49m\u001b[38;5;124;43m\"\u001b[39;49m\u001b[38;5;124;43mdata\u001b[39;49m\u001b[38;5;124;43m\"\u001b[39;49m\u001b[43m:\u001b[49m\u001b[43m \u001b[49m\u001b[43mdata\u001b[49m\u001b[43m}\u001b[49m\u001b[43m \u001b[49m\u001b[38;5;28;43;01mif\u001b[39;49;00m\u001b[43m \u001b[49m\u001b[43mdata\u001b[49m\u001b[43m \u001b[49m\u001b[38;5;129;43;01mis\u001b[39;49;00m\u001b[43m \u001b[49m\u001b[38;5;129;43;01mnot\u001b[39;49;00m\u001b[43m \u001b[49m\u001b[38;5;28;43;01mNone\u001b[39;49;00m\u001b[43m \u001b[49m\u001b[38;5;28;43;01melse\u001b[39;49;00m\u001b[43m \u001b[49m\u001b[43m{\u001b[49m\u001b[43m}\u001b[49m\u001b[43m)\u001b[49m\u001b[43m,\u001b[49m\n\u001b[1;32m   3580\u001b[0m \u001b[43m        \u001b[49m\u001b[38;5;241;43m*\u001b[39;49m\u001b[38;5;241;43m*\u001b[39;49m\u001b[43mkwargs\u001b[49m\u001b[43m,\u001b[49m\n\u001b[1;32m   3581\u001b[0m \u001b[43m    \u001b[49m\u001b[43m)\u001b[49m\n",
      "File \u001b[0;32m~/fem/ngsuite/ngsolve-env/lib/python3.10/site-packages/matplotlib/axes/_axes.py:1721\u001b[0m, in \u001b[0;36mAxes.plot\u001b[0;34m(self, scalex, scaley, data, *args, **kwargs)\u001b[0m\n\u001b[1;32m   1478\u001b[0m \u001b[38;5;250m\u001b[39m\u001b[38;5;124;03m\"\"\"\u001b[39;00m\n\u001b[1;32m   1479\u001b[0m \u001b[38;5;124;03mPlot y versus x as lines and/or markers.\u001b[39;00m\n\u001b[1;32m   1480\u001b[0m \n\u001b[0;32m   (...)\u001b[0m\n\u001b[1;32m   1718\u001b[0m \u001b[38;5;124;03m(``'green'``) or hex strings (``'#008000'``).\u001b[39;00m\n\u001b[1;32m   1719\u001b[0m \u001b[38;5;124;03m\"\"\"\u001b[39;00m\n\u001b[1;32m   1720\u001b[0m kwargs \u001b[38;5;241m=\u001b[39m cbook\u001b[38;5;241m.\u001b[39mnormalize_kwargs(kwargs, mlines\u001b[38;5;241m.\u001b[39mLine2D)\n\u001b[0;32m-> 1721\u001b[0m lines \u001b[38;5;241m=\u001b[39m [\u001b[38;5;241m*\u001b[39m\u001b[38;5;28mself\u001b[39m\u001b[38;5;241m.\u001b[39m_get_lines(\u001b[38;5;28mself\u001b[39m, \u001b[38;5;241m*\u001b[39margs, data\u001b[38;5;241m=\u001b[39mdata, \u001b[38;5;241m*\u001b[39m\u001b[38;5;241m*\u001b[39mkwargs)]\n\u001b[1;32m   1722\u001b[0m \u001b[38;5;28;01mfor\u001b[39;00m line \u001b[38;5;129;01min\u001b[39;00m lines:\n\u001b[1;32m   1723\u001b[0m     \u001b[38;5;28mself\u001b[39m\u001b[38;5;241m.\u001b[39madd_line(line)\n",
      "File \u001b[0;32m~/fem/ngsuite/ngsolve-env/lib/python3.10/site-packages/matplotlib/axes/_base.py:303\u001b[0m, in \u001b[0;36m_process_plot_var_args.__call__\u001b[0;34m(self, axes, data, *args, **kwargs)\u001b[0m\n\u001b[1;32m    301\u001b[0m     this \u001b[38;5;241m+\u001b[39m\u001b[38;5;241m=\u001b[39m args[\u001b[38;5;241m0\u001b[39m],\n\u001b[1;32m    302\u001b[0m     args \u001b[38;5;241m=\u001b[39m args[\u001b[38;5;241m1\u001b[39m:]\n\u001b[0;32m--> 303\u001b[0m \u001b[38;5;28;01myield from\u001b[39;00m \u001b[38;5;28;43mself\u001b[39;49m\u001b[38;5;241;43m.\u001b[39;49m\u001b[43m_plot_args\u001b[49m\u001b[43m(\u001b[49m\n\u001b[1;32m    304\u001b[0m \u001b[43m    \u001b[49m\u001b[43maxes\u001b[49m\u001b[43m,\u001b[49m\u001b[43m \u001b[49m\u001b[43mthis\u001b[49m\u001b[43m,\u001b[49m\u001b[43m \u001b[49m\u001b[43mkwargs\u001b[49m\u001b[43m,\u001b[49m\u001b[43m \u001b[49m\u001b[43mambiguous_fmt_datakey\u001b[49m\u001b[38;5;241;43m=\u001b[39;49m\u001b[43mambiguous_fmt_datakey\u001b[49m\u001b[43m)\u001b[49m\n",
      "File \u001b[0;32m~/fem/ngsuite/ngsolve-env/lib/python3.10/site-packages/matplotlib/axes/_base.py:499\u001b[0m, in \u001b[0;36m_process_plot_var_args._plot_args\u001b[0;34m(self, axes, tup, kwargs, return_kwargs, ambiguous_fmt_datakey)\u001b[0m\n\u001b[1;32m    496\u001b[0m     axes\u001b[38;5;241m.\u001b[39myaxis\u001b[38;5;241m.\u001b[39mupdate_units(y)\n\u001b[1;32m    498\u001b[0m \u001b[38;5;28;01mif\u001b[39;00m x\u001b[38;5;241m.\u001b[39mshape[\u001b[38;5;241m0\u001b[39m] \u001b[38;5;241m!=\u001b[39m y\u001b[38;5;241m.\u001b[39mshape[\u001b[38;5;241m0\u001b[39m]:\n\u001b[0;32m--> 499\u001b[0m     \u001b[38;5;28;01mraise\u001b[39;00m \u001b[38;5;167;01mValueError\u001b[39;00m(\u001b[38;5;124mf\u001b[39m\u001b[38;5;124m\"\u001b[39m\u001b[38;5;124mx and y must have same first dimension, but \u001b[39m\u001b[38;5;124m\"\u001b[39m\n\u001b[1;32m    500\u001b[0m                      \u001b[38;5;124mf\u001b[39m\u001b[38;5;124m\"\u001b[39m\u001b[38;5;124mhave shapes \u001b[39m\u001b[38;5;132;01m{\u001b[39;00mx\u001b[38;5;241m.\u001b[39mshape\u001b[38;5;132;01m}\u001b[39;00m\u001b[38;5;124m and \u001b[39m\u001b[38;5;132;01m{\u001b[39;00my\u001b[38;5;241m.\u001b[39mshape\u001b[38;5;132;01m}\u001b[39;00m\u001b[38;5;124m\"\u001b[39m)\n\u001b[1;32m    501\u001b[0m \u001b[38;5;28;01mif\u001b[39;00m x\u001b[38;5;241m.\u001b[39mndim \u001b[38;5;241m>\u001b[39m \u001b[38;5;241m2\u001b[39m \u001b[38;5;129;01mor\u001b[39;00m y\u001b[38;5;241m.\u001b[39mndim \u001b[38;5;241m>\u001b[39m \u001b[38;5;241m2\u001b[39m:\n\u001b[1;32m    502\u001b[0m     \u001b[38;5;28;01mraise\u001b[39;00m \u001b[38;5;167;01mValueError\u001b[39;00m(\u001b[38;5;124mf\u001b[39m\u001b[38;5;124m\"\u001b[39m\u001b[38;5;124mx and y can be no greater than 2D, but have \u001b[39m\u001b[38;5;124m\"\u001b[39m\n\u001b[1;32m    503\u001b[0m                      \u001b[38;5;124mf\u001b[39m\u001b[38;5;124m\"\u001b[39m\u001b[38;5;124mshapes \u001b[39m\u001b[38;5;132;01m{\u001b[39;00mx\u001b[38;5;241m.\u001b[39mshape\u001b[38;5;132;01m}\u001b[39;00m\u001b[38;5;124m and \u001b[39m\u001b[38;5;132;01m{\u001b[39;00my\u001b[38;5;241m.\u001b[39mshape\u001b[38;5;132;01m}\u001b[39;00m\u001b[38;5;124m\"\u001b[39m)\n",
      "\u001b[0;31mValueError\u001b[0m: x and y must have same first dimension, but have shapes (62998,) and (62999,)"
     ]
    },
    {
     "data": {
      "image/png": "[encoded data removed]",
      "text/plain": [
       "<Figure size 640x480 with 1 Axes>"
      ]
     },
     "metadata": {},
     "output_type": "display_data"
    }
   ],
   "source": [
    "with open(f\"{parfolder_name}/Cs.json\", \"w\") as f:\n",
    "    json.dump(Cs, f, indent=2)\n",
    "\n",
    "plt.plot(np.arange(0.,t-dt,dt), Cs, label=r\"$\\rho$\")\n",
    "plt.xlabel(r\"$t$\")\n",
    "plt.ylabel(r\"$\\rho$\")\n",
    "plt.savefig(f\"{parfolder_name}/Cs.png\")\n",
    "#plt.legend()"
   ]
  },
  {
   "cell_type": "code",
   "execution_count": null,
   "id": "67d671a7",
   "metadata": {},
   "outputs": [],
   "source": []
  },
  {
   "cell_type": "code",
   "execution_count": null,
   "id": "0e742f76",
   "metadata": {},
   "outputs": [],
   "source": []
  },
  {
   "cell_type": "code",
   "execution_count": null,
   "id": "8662210d",
   "metadata": {},
   "outputs": [],
   "source": []
  },
  {
   "cell_type": "code",
   "execution_count": null,
   "id": "566540bd",
   "metadata": {},
   "outputs": [],
   "source": []
  }
 ],
 "metadata": {
  "kernelspec": {
   "display_name": "Python 3 (ipykernel)",
   "language": "python",
   "name": "python3"
  },
  "language_info": {
   "codemirror_mode": {
    "name": "ipython",
    "version": 3
   },
   "file_extension": ".py",
   "mimetype": "text/x-python",
   "name": "python",
   "nbconvert_exporter": "python",
   "pygments_lexer": "ipython3",
   "version": "3.10.12"
  }
 },
 "nbformat": 4,
 "nbformat_minor": 5
}
