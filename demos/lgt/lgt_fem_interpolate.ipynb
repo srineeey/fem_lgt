{
 "cells": [
  {
   "cell_type": "code",
   "execution_count": 4,
   "id": "8018d203",
   "metadata": {},
   "outputs": [],
   "source": [
    "import numpy as np\n",
    "#import time\n",
    "#import matplotlib.pyplot as plt\n",
    "\n",
    "from ngsolve import *\n",
    "\n",
    "from ngsolve.meshes import *\n",
    "#from ngsolve.solvers import *\n",
    "#from netgen.geom2d import unit_square\n",
    "\n",
    "\n",
    "\n",
    "#from su2_yangmills import *\n",
    "from lgt import *\n",
    "\n",
    "from ngsolve.webgui import Draw"
   ]
  },
  {
   "cell_type": "code",
   "execution_count": 5,
   "id": "4c993bef",
   "metadata": {},
   "outputs": [
    {
     "name": "stdout",
     "output_type": "stream",
     "text": [
      "compile it\n"
     ]
    },
    {
     "name": "stderr",
     "output_type": "stream",
     "text": [
      "In file included from /home/sriney/fem/liegroupfem/demos/lgt/../../src/gaugelinkfe/lgt.cpp:9:\n",
      "/home/sriney/fem/liegroupfem/demos/lgt/../../src/gaugelinkfe/MeshVars.hpp: In member function ‘void MeshVars::CalctBoneMass()’:\n",
      "/home/sriney/fem/liegroupfem/demos/lgt/../../src/gaugelinkfe/MeshVars.hpp:263:58: error: conversion from ‘ngla::BaseMatrix’ to non-scalar type ‘ngla::SparseMatrix<double>’ requested\n",
      "  263 |     SparseMatrix<double> tbonemassmat = massbf->GetMatrix();\n",
      "      |                                         ~~~~~~~~~~~~~~~~~^~\n"
     ]
    },
    {
     "ename": "NgException",
     "evalue": "problem calling compiler",
     "output_type": "error",
     "traceback": [
      "\u001b[0;31m---------------------------------------------------------------------------\u001b[0m",
      "\u001b[0;31mNgException\u001b[0m                               Traceback (most recent call last)",
      "Cell \u001b[0;32mIn[5], line 8\u001b[0m\n\u001b[1;32m      6\u001b[0m \u001b[38;5;28;01mif\u001b[39;00m \u001b[38;5;28;01mTrue\u001b[39;00m:\n\u001b[1;32m      7\u001b[0m     \u001b[38;5;28mprint\u001b[39m(\u001b[38;5;124m\"\u001b[39m\u001b[38;5;124mcompile it\u001b[39m\u001b[38;5;124m\"\u001b[39m)\n\u001b[0;32m----> 8\u001b[0m     m \u001b[38;5;241m=\u001b[39m \u001b[43mCompilePythonModule\u001b[49m\u001b[43m(\u001b[49m\u001b[43mPath\u001b[49m\u001b[43m(\u001b[49m\u001b[43mlgtcpp_path\u001b[49m\u001b[43m)\u001b[49m\u001b[43m,\u001b[49m\u001b[43m \u001b[49m\u001b[43minit_function_name\u001b[49m\u001b[38;5;241;43m=\u001b[39;49m\u001b[38;5;124;43m\"\u001b[39;49m\u001b[38;5;124;43mlgt_module\u001b[39;49m\u001b[38;5;124;43m\"\u001b[39;49m\u001b[43m)\u001b[49m\n\u001b[1;32m      9\u001b[0m \u001b[38;5;28;01melse\u001b[39;00m:\n\u001b[1;32m     10\u001b[0m     \u001b[38;5;28mprint\u001b[39m(\u001b[38;5;124m\"\u001b[39m\u001b[38;5;124mload it\u001b[39m\u001b[38;5;124m\"\u001b[39m)\n",
      "\u001b[0;31mNgException\u001b[0m: problem calling compiler"
     ]
    }
   ],
   "source": [
    "from pathlib import Path\n",
    "from ngsolve.fem import CompilePythonModule\n",
    "\n",
    "lgtcpp_path = \"../../src/gaugelinkfe/lgt.cpp\" \n",
    "\n",
    "if True:\n",
    "    print(\"compile it\")\n",
    "    m = CompilePythonModule(Path(lgtcpp_path), init_function_name=\"lgt_module\")\n",
    "else:\n",
    "    print(\"load it\")\n",
    "    #import lgt_module as m"
   ]
  },
  {
   "cell_type": "code",
   "execution_count": null,
   "id": "36783bd6",
   "metadata": {},
   "outputs": [],
   "source": [
    "ne=10\n",
    "#mesh = MakeStructured2DMesh(quads=True, nx=ne, ny=ne, periodic_x=True, periodic_y=True)\n",
    "mesh = MakeStructured2DMesh(quads=True, nx=ne, ny=ne, periodic_x=False, periodic_y=False)\n",
    "#mesh = MakeStructured2DMesh(quads=False, nx=ne, ny=ne, periodic_x=False, periodic_y=False)\n",
    "\n",
    "#mesh = Mesh(unit_square.GenerateMesh(maxh=0.1))\n",
    "\n",
    "#mesh = unit_square.GenerateMesh(maxh=0.1)\n",
    "\n",
    "Draw(mesh)\n",
    "dt = 0.01\n",
    "meshvars = m.MeshVars(mesh, dt)"
   ]
  },
  {
   "cell_type": "code",
   "execution_count": null,
   "id": "ae5805e5-4eae-4265-b055-d84aa47af3d3",
   "metadata": {},
   "outputs": [],
   "source": [
    "#draw_tbone_weights(meshvars)\n",
    "#draw_bone_weights(meshvars)"
   ]
  },
  {
   "cell_type": "code",
   "execution_count": null,
   "id": "1bffc9b1-02aa-4aba-8861-9bf904ed33ea",
   "metadata": {},
   "outputs": [],
   "source": [
    "fesf = HCurl(mesh, order=1)**3\n",
    "CFf = CF( (x,y,2*x,-2*y,x+y,x*y) )\n",
    "\n",
    "#fesf = H1(mesh, order=1)\n",
    "#CFf = CF( x+y )\n",
    "\n",
    "gff = GridFunction(fesf)\n",
    "\n",
    "gff.Set(CFf)\n",
    "\n",
    "Elnum = 50\n",
    "\n",
    "m.Evaluatef(meshvars, gff, Elnum)"
   ]
  },
  {
   "cell_type": "code",
   "execution_count": null,
   "id": "d0f0259f-1583-45af-909d-efbc85b56abc",
   "metadata": {},
   "outputs": [],
   "source": [
    "### TODO: interpolate continuous A with discrete Us\n",
    "fesA = HCurl(mesh, order=5)**3\n",
    "\n",
    "ElNum = 0\n",
    "ENum = 1\n",
    "\n",
    "h=0.05\n",
    "\n",
    "f = 1/h * ((x-h)/h)**4\n",
    "\n",
    "ElCx = (2*ElNum + 1)*h\n",
    "xref = (x-ElCx)/h\n",
    "f = 1/h * (xref)**1\n",
    "#f = 1/h * sin(2*pi*xref)\n",
    "\n",
    "#CFA = CF( (0,0, 0,0 ,1,0) )\n",
    "#CFA = CF( (0,0, 0,0 ,f,0) )\n",
    "CFA = CF( (0,0, f,0 ,0,0) )\n",
    "\n",
    "gfA = GridFunction(fesA)\n",
    "\n",
    "gfA.Set(CFA)\n",
    "\n",
    "#A = m.IntegratedualA(meshvars, gfA, 21, 0)\n",
    "A = m.IntegratedualA(meshvars, gfA, ENum, ElNum)\n",
    "print(A[2])\n",
    "\n",
    "U = m.SU2(A[0],A[1],A[2], True)\n",
    "\n",
    "dir(U)\n",
    "print(U)"
   ]
  },
  {
   "cell_type": "code",
   "execution_count": null,
   "id": "e630e988-fb7e-4142-a6f1-6ad5e7852cc0",
   "metadata": {},
   "outputs": [],
   "source": [
    "#Utest = m.SU2(2,10,1,3.333)\n",
    "#print(Utest)\n",
    "\n",
    "Utest = m.SU2(10,1,3.333)\n",
    "print(Utest)"
   ]
  },
  {
   "cell_type": "code",
   "execution_count": null,
   "id": "17613a77-862d-4d07-abe1-502ca6f70c1d",
   "metadata": {},
   "outputs": [],
   "source": [
    "print('output:')\n",
    "for c in [0,1,2]:\n",
    "    print(A[c])"
   ]
  },
  {
   "cell_type": "code",
   "execution_count": null,
   "id": "d39b33f9",
   "metadata": {},
   "outputs": [],
   "source": [
    "order=0\n",
    "#fesC = L2(mesh, order=order)**3 # for su2 charge\n",
    "#fesJ = HDiv(mesh, order=order, discontinuous=True)**3 # for su2 charge current\n",
    "\n",
    "# discrete connection one form sitting on borders\n",
    "#fesA = FacetFESpace(mesh, order=0)**3\n",
    "\n",
    "# parallel transport maps between neighbouring volumes, belonging to an oriented interface\n",
    "#TODO: orientation?\n",
    "fesU = FacetFESpace(mesh, order=0)**4\n",
    "\n",
    "\n",
    "n=1\n",
    "fesA = HCurl(mesh, order=10)**3\n",
    "\n",
    "# space of wilson loops centered around bones (= corners (2D) or edges (3D))\n",
    "# for visualization only!\n",
    "fesW = H1(mesh, order=order)**4\n",
    "\n",
    "\n",
    "# space of magnetic energy\n",
    "fesHB = H1(mesh, order=order)\n",
    "\n",
    "# space of electric energy\n",
    "fesHE = HCurl(mesh, order=order)\n",
    "\n",
    "# space of current flux\n",
    "fesjflux = FacetFESpace(mesh, order=0)**3"
   ]
  },
  {
   "cell_type": "code",
   "execution_count": null,
   "id": "8a6cd8dd",
   "metadata": {},
   "outputs": [],
   "source": [
    "mu = [0.5, 0.5]\n",
    "sigma2 = 0.1\n",
    "r_u =  [x - mu[0], y - mu[1]]\n",
    "rot_u =  [y - mu[1],x - mu[0]]\n",
    "\n",
    "def gaussxy(mu, sigma2):\n",
    "    return exp(-0.5*((x-mu[0])*(x-mu[0]) + (y-mu[1])*(y-mu[1]))/sigma2)\n",
    "\n",
    "\n",
    "#rotCFA = CF( tuple( rot_u ) )* gaussxy(mu, sigma2)\n",
    "#CFA = CF( tuple([*rotCFA, 0,0 ,0,0]) )\n",
    "\n",
    "#CFA = CF( (rot_u[0], rot_u[1], 0,0 ,0,0) )\n",
    "A0 = 10\n",
    "\n",
    "def sinp_f(f):\n",
    "    return sin(0.5*pi*f)\n",
    "\n",
    "\n",
    "def mexp(f):\n",
    "    return exp(-1.*f)\n",
    "\n",
    "sinpr = sin(0.5*pi*( r_u[0]**2 + r_u[1]**2 ))\n",
    "\n",
    "sinpy =  sin(0.5*pi*(y-0.5))\n",
    "sinpx = sin(0.5*pi*(x-0.5))\n",
    "\n",
    "for i in range(10):\n",
    "    sinpy = sinp_f(sinpy)\n",
    "    sinpx = sinp_f(sinpx)\n",
    "    sinpr = sinp_f(sinpr)\n",
    "\n",
    "\n",
    "signx = IfPos(x - mu[0], 1, -1)\n",
    "signy = IfPos(y - mu[1], 1, -1)\n",
    "\n",
    "posy = IfPos(y - mu[1], 1, 0)\n",
    "posx = IfPos(x - mu[0], 1, 0)\n",
    "\n",
    "CFA = CF( (A0*rot_u[0]*sinpr, A0*rot_u[1]*sinpr, 0,0 ,0,0) )\n",
    "\n",
    "#CFA = CF( (A0*posy*posx,0,0,0 ,0,0) )\n",
    "#CFA = CF( (0,A0*posy*posx,0,0 ,0,0) )\n",
    "\n",
    "#CFA = CF( (A0*sin(0.5*pi*sin(0.5*pi*sin(0.5*pi*(y-0.5)))),0,0,0 ,0,0) )\n",
    "#CFA = CF( (A0*sin(pi*sin(pi*sin(pi*y))),0,0,0 ,0,0) )\n",
    "\n",
    "\n",
    "#CFA = CF( ( rot_u[0], rot_u[1],0,0 ,0,0) )\n",
    "\n",
    "CFA = CF( (A0*posy,0, 0,0 ,0,0) ) + CF( (-1.*A0*(1.-posy),0, 0,0 ,0,0) )\n",
    "\n",
    "\n",
    "gfA = GridFunction(fesA)\n",
    "\n",
    "gfA.Set(CFA)\n",
    "\n",
    "#Draw(CFA, mesh)\n",
    "Draw(Norm(gfA), mesh)\n",
    "\n",
    "gfU = GridFunction(fesU)\n",
    "m.InterpolateAtoU(meshvars, gfA, gfU)\n",
    "\n",
    "Enum = 5\n",
    "U = m.GetLink(gfU, Enum, True)\n",
    "print(f\"U[{Enum}]\")\n",
    "print(U)\n",
    "\n",
    "gfHB = GridFunction(fesHB)\n",
    "m.CalcgfHB(meshvars,gfU, gfHB)\n",
    "Draw(gfHB, mesh)"
   ]
  },
  {
   "cell_type": "code",
   "execution_count": null,
   "id": "16d52d02-1fc6-4b10-88a1-aa48ff6a7495",
   "metadata": {},
   "outputs": [],
   "source": [
    "fesh1mass = fesh1.Mass()\n",
    "fesh1massmat = fesh1mass\n",
    "#help(fesh1mass)\n",
    "gfuh1 = GridFunction(fesh1)\n",
    "gfuh1vec = gfuh1.vec\n",
    "fesh1mass.Mult(gfuh1vec, gfuh1vec)"
   ]
  },
  {
   "cell_type": "code",
   "execution_count": null,
   "id": "1136f551-dfa9-482f-8ac0-b5c747b55ada",
   "metadata": {},
   "outputs": [],
   "source": [
    "meshvars.GettBoneWeight(0)"
   ]
  },
  {
   "cell_type": "code",
   "execution_count": null,
   "id": "52658331-2084-4d6f-8030-d61e457b46e9",
   "metadata": {},
   "outputs": [],
   "source": []
  },
  {
   "cell_type": "code",
   "execution_count": null,
   "id": "4a01bd7e",
   "metadata": {},
   "outputs": [],
   "source": [
    "\n",
    "    "
   ]
  },
  {
   "cell_type": "code",
   "execution_count": null,
   "id": "b7b43f5b",
   "metadata": {},
   "outputs": [],
   "source": []
  },
  {
   "cell_type": "code",
   "execution_count": null,
   "id": "490f9dfd",
   "metadata": {},
   "outputs": [],
   "source": []
  },
  {
   "cell_type": "code",
   "execution_count": null,
   "id": "65b6e398-298a-40ff-bdbc-9b1f5a235375",
   "metadata": {},
   "outputs": [],
   "source": []
  },
  {
   "cell_type": "code",
   "execution_count": null,
   "id": "c8c5adfc-8253-4f31-ada9-a44a4d2db147",
   "metadata": {},
   "outputs": [],
   "source": []
  },
  {
   "cell_type": "code",
   "execution_count": null,
   "id": "2008432c-d808-43ef-afec-eaf2f7313381",
   "metadata": {},
   "outputs": [],
   "source": []
  }
 ],
 "metadata": {
  "kernelspec": {
   "display_name": "Python 3 (ipykernel)",
   "language": "python",
   "name": "python3"
  },
  "language_info": {
   "codemirror_mode": {
    "name": "ipython",
    "version": 3
   },
   "file_extension": ".py",
   "mimetype": "text/x-python",
   "name": "python",
   "nbconvert_exporter": "python",
   "pygments_lexer": "ipython3",
   "version": "3.10.12"
  }
 },
 "nbformat": 4,
 "nbformat_minor": 5
}
