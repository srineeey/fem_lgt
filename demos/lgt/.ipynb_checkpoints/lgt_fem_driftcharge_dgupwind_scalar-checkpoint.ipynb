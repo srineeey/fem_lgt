{
 "cells": [
  {
   "cell_type": "code",
   "execution_count": null,
   "id": "8018d203",
   "metadata": {
    "scrolled": false
   },
   "outputs": [],
   "source": [
    "from ngsolve import *\n",
    "\n",
    "from ngsolve.meshes import *\n",
    "#from ngsolve.solvers import *\n",
    "from ngsolve.webgui import Draw\n",
    "from netgen.geom2d import unit_square\n",
    "\n",
    "import numpy as np\n",
    "#import matplotlib.pyplot as plt\n",
    "\n",
    "#from su2_yangmills import *\n",
    "from lgt import *"
   ]
  },
  {
   "cell_type": "code",
   "execution_count": null,
   "id": "36783bd6",
   "metadata": {
    "scrolled": true
   },
   "outputs": [],
   "source": [
    "ne=40\n",
    "#mesh = MakeStructured2DMesh(quads=True, nx=ne, ny=ne, periodic_x=True, periodic_y=True)\n",
    "\n",
    "#mesh = MakeStructured2DMesh(quads=True, nx=ne, ny=ne, periodic_x=False, periodic_y=False)\n",
    "\n",
    "mesh = MakeStructured2DMesh(quads=False, nx=ne, ny=ne, periodic_x=False, periodic_y=False)\n",
    "\n",
    "#mesh = MakeStructured2DMesh(quads=False, nx=ne, ny=ne, periodic_x=False, periodic_y=False)\n",
    "#mesh = Mesh(unit_square.GenerateMesh(maxh=0.1))\n",
    "Draw(mesh)"
   ]
  },
  {
   "cell_type": "code",
   "execution_count": null,
   "id": "d39b33f9",
   "metadata": {},
   "outputs": [],
   "source": [
    "order=1\n",
    "# for su2 charge\n",
    "fesC = L2(mesh, order=order, dgjumps=True) \n"
   ]
  },
  {
   "cell_type": "code",
   "execution_count": null,
   "id": "cbe42183",
   "metadata": {},
   "outputs": [],
   "source": []
  },
  {
   "cell_type": "code",
   "execution_count": null,
   "id": "5c44c88f",
   "metadata": {
    "scrolled": false
   },
   "outputs": [],
   "source": [
    "# set charge density\n",
    "\n",
    "def gaussxy(mu, sigma2):\n",
    "    #return 1/sqrt(sigma2) * exp(-1/sigma2 *( (x-mu[0])*(x-mu[0]) + (y-mu[1])*(y-mu[1])))\n",
    "    return 1/sqrt(sigma2) * gaussx(mu[0], sigma2) * gaussy(mu[1], sigma2)\n",
    "\n",
    "def gaussx(mu, sigma2):\n",
    "    return 1/sqrt(sigma2) * exp(-1/sigma2 *( (x-mu)*(x-mu)))\n",
    "\n",
    "def gaussy(mu, sigma2):\n",
    "    return 1/sqrt(sigma2) * exp(-1/sigma2 *( (y-mu)*(y-mu)))\n",
    "\n",
    "mu= [0.5,0.3]\n",
    "sigma2 = 0.01\n",
    "\n",
    "def rho():\n",
    "    #return 0.001*gaussxy(mu, sigma2) \n",
    "    return 0.001 * gaussxy(mu, sigma2) / sqrt(sqrt(sigma2))\n",
    "\n",
    "#rhoCF = CF( (y,2*x,0) )\n",
    "rhoCF = CF( (rho(), 0, 0) )\n",
    "\n",
    "gfrho = GridFunction(fesC)\n",
    "\n",
    "gfrho.Set( rho())\n",
    "\n",
    "Draw(rho(), mesh)\n",
    "#Draw(Norm(gfrho), mesh)\n",
    "#Draw(gfrho.components[0], mesh)\n",
    "Draw(gfrho, mesh)\n",
    "print(Integrate(Norm(gfrho), mesh))"
   ]
  },
  {
   "cell_type": "code",
   "execution_count": null,
   "id": "c989d9b8",
   "metadata": {},
   "outputs": [],
   "source": [
    "# set wind\n",
    "cfwind =  CF( (y-0.5,-(x-0.5)) )\n",
    "\n",
    "Draw(cfwind, mesh)"
   ]
  },
  {
   "cell_type": "code",
   "execution_count": null,
   "id": "a89f94eb",
   "metadata": {},
   "outputs": [],
   "source": [
    "#TODO: solve for initial conditions that respect gauge symmetry"
   ]
  },
  {
   "cell_type": "code",
   "execution_count": null,
   "id": "166b70b2",
   "metadata": {},
   "outputs": [],
   "source": [
    "#dt = 1.\n",
    "dt = 0.0001\n",
    "\n",
    "nt = 10000"
   ]
  },
  {
   "cell_type": "code",
   "execution_count": null,
   "id": "e91d14f2",
   "metadata": {
    "scrolled": false
   },
   "outputs": [],
   "source": [
    "conv = BilinearForm(fesC, nonassemble=True)\n",
    "c,cp = fesC.TnT()\n",
    "\n",
    "# convection term\n",
    "#conv += c*InnerProduct(cfwind, grad(cp))*dx\n",
    "conv += -c*cfwind*grad(cp)*dx\n",
    "\n",
    "#j = OuterProduct(c, cfwind)\n",
    "#gradcp = grad(cp)\n",
    "#conv += InnerProduct(j, gradcp)*dx\n",
    "\n",
    "\n",
    "\n",
    "# boundary term\n",
    "n = specialcf.normal(mesh.dim)\n",
    "c_up = IfPos(cfwind*n, c, c.Other(bnd=CF(0)))\n",
    "#conv += cfwind*n*c_up*cp*dx(skeleton=True)\n",
    "conv += cfwind*n*c_up*cp*dx(element_boundary=True)\n",
    "#conv += -cfwind*n*InnerProduct(c_up,cp)*dx(element_boundary=True)\n",
    "\n",
    "\n",
    "mc = BilinearForm(fesC)\n",
    "\n",
    "c,cp = fesC.TnT()\n",
    "mc += InnerProduct(c,cp)*dx\n",
    "\n",
    "mc.Assemble()\n",
    "mcmat = mc.mat\n",
    "mcmatinv = mcmat.Inverse(fesC.FreeDofs())"
   ]
  },
  {
   "cell_type": "code",
   "execution_count": null,
   "id": "d504138c",
   "metadata": {},
   "outputs": [],
   "source": [
    "tempC = gfrho.vec.CreateVector()\n",
    "newgfrho = GridFunction(fesC)\n",
    "\n",
    "def timestep_charge(gfC, newgfC):\n",
    "    newgfC.vec.data[:] = gfC.vec[:]\n",
    "    conv.Apply(gfC.vec, tempC)\n",
    "    newgfC.vec.data[:] += -1.*dt*mcmatinv* tempC\n",
    "    gfC.vec.data[:] = newgfC.vec[:]\n",
    "\n"
   ]
  },
  {
   "cell_type": "code",
   "execution_count": null,
   "id": "114655ff",
   "metadata": {},
   "outputs": [],
   "source": []
  },
  {
   "cell_type": "code",
   "execution_count": null,
   "id": "46313a26",
   "metadata": {
    "scrolled": false
   },
   "outputs": [],
   "source": [
    "\n",
    "\n",
    "gfCscene = Draw(Norm(gfrho), mesh)\n",
    "\n",
    "for i in range(nt):\n",
    "    timestep_charge(gfrho, newgfrho)\n",
    "    #timestep_charge_lagrange(gfrhoCChat, newgfrhoCChat)\n",
    "\n",
    "    \n",
    "    if i % 1 == 0:\n",
    "        gfCscene.Redraw()\n",
    "        \n",
    "        _c = Integrate(Norm(gfrho), mesh)\n",
    "        \n",
    "    print (\"\\r\", f\"timestep:{i} charge:{_c}\", end=\"\")\n",
    "    #input()"
   ]
  },
  {
   "cell_type": "code",
   "execution_count": null,
   "id": "b6fd5a0c",
   "metadata": {},
   "outputs": [],
   "source": [
    "Integrate(Norm(gfrho), mesh)"
   ]
  },
  {
   "cell_type": "code",
   "execution_count": null,
   "id": "696ab4d8",
   "metadata": {},
   "outputs": [],
   "source": []
  },
  {
   "cell_type": "code",
   "execution_count": null,
   "id": "67d671a7",
   "metadata": {},
   "outputs": [],
   "source": []
  },
  {
   "cell_type": "code",
   "execution_count": null,
   "id": "0e742f76",
   "metadata": {},
   "outputs": [],
   "source": []
  }
 ],
 "metadata": {
  "kernelspec": {
   "display_name": "Python 3 (ipykernel)",
   "language": "python",
   "name": "python3"
  },
  "language_info": {
   "codemirror_mode": {
    "name": "ipython",
    "version": 3
   },
   "file_extension": ".py",
   "mimetype": "text/x-python",
   "name": "python",
   "nbconvert_exporter": "python",
   "pygments_lexer": "ipython3",
   "version": "3.10.6"
  }
 },
 "nbformat": 4,
 "nbformat_minor": 5
}
