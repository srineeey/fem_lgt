{
 "cells": [
  {
   "cell_type": "code",
   "execution_count": 1,
   "id": "8018d203",
   "metadata": {
    "scrolled": false
   },
   "outputs": [],
   "source": [
    "from ngsolve import *\n",
    "\n",
    "from ngsolve.meshes import *\n",
    "#from ngsolve.solvers import *\n",
    "from ngsolve.webgui import Draw\n",
    "from netgen.geom2d import unit_square\n",
    "\n",
    "import numpy as np\n",
    "#import matplotlib.pyplot as plt\n",
    "\n",
    "#from su2_yangmills import *\n",
    "#from lgt import *"
   ]
  },
  {
   "cell_type": "code",
   "execution_count": 2,
   "id": "36783bd6",
   "metadata": {
    "scrolled": true
   },
   "outputs": [
    {
     "data": {
      "application/vnd.jupyter.widget-view+json": {
       "model_id": "fc04261e2e8646febb3ebebbe44a9d9b",
       "version_major": 2,
       "version_minor": 0
      },
      "text/plain": [
       "WebGuiWidget(layout=Layout(height='50vh', width='100%'), value={'gui_settings': {}, 'ngsolve_version': '6.2.23…"
      ]
     },
     "metadata": {},
     "output_type": "display_data"
    },
    {
     "data": {
      "text/plain": [
       "BaseWebGuiScene"
      ]
     },
     "execution_count": 2,
     "metadata": {},
     "output_type": "execute_result"
    }
   ],
   "source": [
    "ne=20\n",
    "#mesh = MakeStructured2DMesh(quads=True, nx=ne, ny=ne, periodic_x=True, periodic_y=True)\n",
    "mesh = MakeStructured2DMesh(quads=True, nx=ne, ny=ne, periodic_x=False, periodic_y=False)\n",
    "#mesh = MakeStructured2DMesh(quads=False, nx=ne, ny=ne, periodic_x=False, periodic_y=False)\n",
    "#mesh = Mesh(unit_square.GenerateMesh(maxh=0.1))\n",
    "Draw(mesh)"
   ]
  },
  {
   "cell_type": "code",
   "execution_count": 3,
   "id": "d39b33f9",
   "metadata": {},
   "outputs": [],
   "source": [
    "order=1\n",
    "# for su2 charge\n",
    "#fesC = L2(mesh, order=order)**3 # dgjumps=True)\n",
    "fesC = L2(mesh, order=order, dgjumps=True)**3 \n",
    "\n",
    "#l2 = L2(mesh, order=order, dgjumps=True)\n",
    "#l2 = H1(mesh, order=order, discontinuous=True, dgjumps=True)\n",
    "#l2 = H1(mesh, order=order, dgjumps=True)\n",
    "\n",
    "#fesC = l2*l2*l2\n",
    "\n",
    "\n",
    "# for gauge gluing\n",
    "#fesChat = FacetFESpace(mesh, order=order)**3\n",
    "#FesChat = L2(mesh, order=order)**3\n",
    "fesChat = L2(mesh, order=order, dgjumps=True)**3\n",
    "\n",
    "#fesChat = l2*l2*l2\n",
    "\n",
    "fesCChat = fesC*fesChat\n",
    "\n",
    "\n",
    "#fesCChat = l2*l2*l2*l2*l2*l2\n",
    "\n",
    "# parallel transport maps between neighbouring volumes, belonging to an oriented interface\n",
    "#TODO: orientation?\n",
    "fesU = FacetFESpace(mesh, order=0)**4"
   ]
  },
  {
   "cell_type": "code",
   "execution_count": 4,
   "id": "36e8a96b",
   "metadata": {},
   "outputs": [],
   "source": [
    "# Set link values\n",
    "gfU = GridFunction(fesU)\n",
    "\n",
    "gfU.components[0].vec[:] = 1"
   ]
  },
  {
   "cell_type": "code",
   "execution_count": 5,
   "id": "6ff4409c",
   "metadata": {},
   "outputs": [
    {
     "data": {
      "application/vnd.jupyter.widget-view+json": {
       "model_id": "24322b71f521437786046ccaa0241a00",
       "version_major": 2,
       "version_minor": 0
      },
      "text/plain": [
       "WebGuiWidget(layout=Layout(height='50vh', width='100%'), value={'gui_settings': {}, 'ngsolve_version': '6.2.23…"
      ]
     },
     "metadata": {},
     "output_type": "display_data"
    },
    {
     "data": {
      "text/plain": [
       "BaseWebGuiScene"
      ]
     },
     "execution_count": 5,
     "metadata": {},
     "output_type": "execute_result"
    }
   ],
   "source": [
    "# set wind\n",
    "cfwind =  CF( (y-0.5,-(x-0.5)) )\n",
    "\n",
    "Draw(cfwind, mesh)"
   ]
  },
  {
   "cell_type": "code",
   "execution_count": 6,
   "id": "5c44c88f",
   "metadata": {},
   "outputs": [
    {
     "ename": "NgException",
     "evalue": "Error in SetValues: gridfunction-dim = 3, but coefficient-dim = 1",
     "output_type": "error",
     "traceback": [
      "\u001b[0;31m---------------------------------------------------------------------------\u001b[0m",
      "\u001b[0;31mNgException\u001b[0m                               Traceback (most recent call last)",
      "\u001b[0;32m/tmp/ipykernel_44280/311388116.py\u001b[0m in \u001b[0;36m<module>\u001b[0;34m\u001b[0m\n\u001b[1;32m     30\u001b[0m \u001b[0;34m\u001b[0m\u001b[0m\n\u001b[1;32m     31\u001b[0m \u001b[0;32mfor\u001b[0m \u001b[0mi\u001b[0m \u001b[0;32min\u001b[0m \u001b[0mrange\u001b[0m\u001b[0;34m(\u001b[0m\u001b[0;36m3\u001b[0m\u001b[0;34m)\u001b[0m\u001b[0;34m:\u001b[0m\u001b[0;34m\u001b[0m\u001b[0;34m\u001b[0m\u001b[0m\n\u001b[0;32m---> 32\u001b[0;31m     \u001b[0mgfrhoCChat\u001b[0m\u001b[0;34m.\u001b[0m\u001b[0mcomponents\u001b[0m\u001b[0;34m[\u001b[0m\u001b[0mi\u001b[0m\u001b[0;34m]\u001b[0m\u001b[0;34m.\u001b[0m\u001b[0mSet\u001b[0m\u001b[0;34m(\u001b[0m \u001b[0mrhoCF\u001b[0m\u001b[0;34m[\u001b[0m\u001b[0mi\u001b[0m\u001b[0;34m]\u001b[0m \u001b[0;34m)\u001b[0m\u001b[0;34m\u001b[0m\u001b[0;34m\u001b[0m\u001b[0m\n\u001b[0m\u001b[1;32m     33\u001b[0m \u001b[0;34m\u001b[0m\u001b[0m\n\u001b[1;32m     34\u001b[0m \u001b[0mc\u001b[0m \u001b[0;34m=\u001b[0m \u001b[0mrhoCF\u001b[0m\u001b[0;34m\u001b[0m\u001b[0;34m\u001b[0m\u001b[0m\n",
      "\u001b[0;31mNgException\u001b[0m: Error in SetValues: gridfunction-dim = 3, but coefficient-dim = 1"
     ]
    }
   ],
   "source": [
    "# set charge density\n",
    "\n",
    "def gaussxy(mu, sigma2):\n",
    "    #return 1/sqrt(sigma2) * exp(-1/sigma2 *( (x-mu[0])*(x-mu[0]) + (y-mu[1])*(y-mu[1])))\n",
    "    return 1/sqrt(sigma2) * gaussx(mu[0], sigma2) * gaussy(mu[1], sigma2)\n",
    "\n",
    "def gaussx(mu, sigma2):\n",
    "    return 1/sqrt(sigma2) * exp(-1/sigma2 *( (x-mu)*(x-mu)))\n",
    "\n",
    "def gaussy(mu, sigma2):\n",
    "    return 1/sqrt(sigma2) * exp(-1/sigma2 *( (y-mu)*(y-mu)))\n",
    "\n",
    "mu= [0.5,0.3]\n",
    "sigma2 = 0.01\n",
    "\n",
    "def rho():\n",
    "    #return 0.001*gaussxy(mu, sigma2) \n",
    "    return 0.001 * gaussxy(mu, sigma2) / sqrt(sqrt(sigma2))\n",
    "\n",
    "#rhoCF = CF( (y,2*x,0) )\n",
    "rhoCF = CF( (rho(), 0, 0) )\n",
    "\n",
    "gfrho = GridFunction(fesC)\n",
    "\n",
    "gfrhoCChat = GridFunction(fesCChat)\n",
    "\n",
    "#gfrho.Set( rhoCF )\n",
    "for i in range(gfrho.dim):\n",
    "    gfrho.components[i].Set( rhoCF[i] )\n",
    "    \n",
    "for i in range(3):\n",
    "    gfrhoCChat.components[i].Set( rhoCF[i] )\n",
    "\n",
    "c = rhoCF\n",
    "gradc = CF( (c.Diff(x), c.Diff(y)) ).Reshape((2,3))\n",
    "\n",
    "\n",
    "def Norm_CF(cf):\n",
    "    return sqrt(sum( [cf[i]*cf[i] for i in range(cf.dim)] ))\n",
    "\n",
    "\n",
    "#Draw(gradc[0,1], mesh)\n",
    "Draw(Norm(c), mesh)\n",
    "#Draw(Norm(gfrho), mesh)\n",
    "#Draw(Norm_CF(gfrho), mesh)\n",
    "Draw(gfrho.components[0], mesh)\n",
    "Draw(gfrhoCChat.components[0], mesh)"
   ]
  },
  {
   "cell_type": "code",
   "execution_count": 16,
   "id": "a89f94eb",
   "metadata": {},
   "outputs": [],
   "source": [
    "#TODO: solve for initial conditions that respect gauge symmetry"
   ]
  },
  {
   "cell_type": "code",
   "execution_count": null,
   "id": "166b70b2",
   "metadata": {},
   "outputs": [],
   "source": [
    "#dt = 1.\n",
    "#dt = 0.1\n",
    "#dt = 0.5\n",
    "dt = 0.0001\n",
    "\n",
    "nt = 10000"
   ]
  },
  {
   "cell_type": "code",
   "execution_count": null,
   "id": "e91d14f2",
   "metadata": {
    "scrolled": false
   },
   "outputs": [],
   "source": [
    "#TODO: conv for FesCChat?\n",
    "conv = BilinearForm(trialspace=fesC, testspace=fesC, nonassemble=True)\n",
    "c,cp = fesC.TnT()\n",
    "\n",
    "#TODO: boundary term missing\n",
    "#####conv += InnerProduct(OuterProduct(cfwind, c), grad(cp))*dx\n",
    "\n",
    "for i in range(3):\n",
    "    conv += InnerProduct(cfwind, grad(cp[i]))*c[i]*dx\n",
    "\n",
    "    \n",
    "    \n",
    "    \n",
    "#TODO: orientation of U vs skeleton!\n",
    "\n",
    "def jump(f):\n",
    "    return qmulCF(qmulCF(gfU, f.Other()), qconjCF(gfU)) - f\n",
    "\n",
    "\n",
    "# penalize jumps while respecting gauge transformations\n",
    "#jumpc = vec_from_q( qmulCF(qmulCF(gfU, q_from_vecCF(c.Other())), qconjCF(gfU)) - q_from_vecCF(c) )\n",
    "#jumpcp = vec_from_q( qmulCF(qmulCF(gfU, q_from_vecCF(cp.Other())), qconjCF(gfU)) - q_from_vecCF(cp) )\n",
    "#conv += 10*InnerProduct( jumpc, jumpcp )*dx(skeleton=True)\n",
    "\n",
    "\n",
    "mc = BilinearForm(fesC)\n",
    "#####c,cp = fesC.TnT()\n",
    "c = fesC.TrialFunction()\n",
    "c = c[0:3]\n",
    "\n",
    "cp = fesC.TestFunction()\n",
    "cp = cp[0:3]\n",
    "\n",
    "######mc += InnerProduct(c,cp)*dx\n",
    "\n",
    "for i in range(3):\n",
    "    mc += InnerProduct(c[i],cp[i])*dx\n",
    "\n",
    "mc.Assemble()\n",
    "mcmat = mc.mat\n",
    "mcmatinv = mcmat.Inverse(fesC.FreeDofs())\n",
    "\n",
    "    \n",
    "    \n",
    "\n",
    "\n",
    "#######c,chat = fesCChat.TrialFunction()\n",
    "#######cp,cphat = fesCChat.TestFunction()\n",
    "\n",
    "cchat = fesCChat.TrialFunction()\n",
    "c = cchat[0:3]\n",
    "chat = cchat[3:]\n",
    "\n",
    "cpcphat = fesCChat.TestFunction()\n",
    "cp = cpcphat[0:3]\n",
    "cphat = cpcphat[3:]\n",
    "\n",
    "#print(c.dims, chat.dims)\n",
    "#print(cp.dims, cphat.dims)\n",
    "\n",
    "\n",
    "\n",
    "conv_cchat = BilinearForm(fesCChat, nonassemble=True)\n",
    "#TODO: boundary term missing\n",
    "#####conv += InnerProduct(OuterProduct(cfwind, c), grad(cp))*dx\n",
    "for i in range(3):\n",
    "    conv_cchat += InnerProduct(cfwind, grad(cp[i]))*c[i]*dx\n",
    "    \n",
    "\n",
    "mc_cchat = BilinearForm(fesCChat)\n",
    "\n",
    "for i in range(3):\n",
    "    mc_cchat += InnerProduct(c[i],cp[i])*dx\n",
    "\n",
    "mc_cchat.Assemble()\n",
    "mc_cchatmat = mc_cchat.mat\n",
    "#mc_cchatmatinv = mc_cchatmat.Inverse(fesC.FreeDofs())\n",
    "\n",
    "    \n",
    "mstar = BilinearForm(fesCChat) \n",
    "    \n",
    "\n",
    "# normal mass term\n",
    "####### mstar += InnerProduct(c,cp)*dx\n",
    "####### mstar += 0.0001*InnerProduct(chat,cphat)*dx\n",
    "\n",
    "for i in range(3):\n",
    "    mstar += InnerProduct(c[i],cp[i])*dx\n",
    "    \n",
    "for i in range(3):\n",
    "    mstar += 0.0001*InnerProduct(chat[i],cphat[i])*dx\n",
    "\n",
    "\n",
    "# the actual constraint\n",
    "######## jumpc = vec_from_q( qmulCF(qmulCF(gfU, q_from_vecCF(c.Other())), qconjCF(gfU)) - q_from_vecCF(c) )\n",
    "######## mstar += -dt*InnerProduct( jumpc, cphat )*dx(skeleton=True)\n",
    "#mstar += -dt*InnerProduct( c.Other() - c, cphat )*dx(element_boundary=True)\n",
    "#mstar += -dt*InnerProduct( c - chat, cphat )*dx(skeleton=True)\n",
    "#mstar += -dt*InnerProduct( c.Other() - c, cphat.Other() + cphat )*dx(skeleton=True)\n",
    "#mstar += SymbolicBFI((c - c.Other())*(cp - cp.Other()), skeleton=True)\n",
    "#mstar += -dt*InnerProduct( c.Other() - c, cphat )*dx(skeleton=True)\n",
    "#mstar += -dt*InnerProduct(c, cp)*dx(skeleton=True)\n",
    "\n",
    "\n",
    "for i in range(3):\n",
    "    mstar += -dt*InnerProduct( c[i].Other() - c[i], cphat[i] )*dx(skeleton=True)\n",
    "\n",
    "\n",
    "\n",
    "# additional term to make matrix symmetric\n",
    "######### jumpcp = vec_from_q( qmulCF(qmulCF(gfU, q_from_vecCF(cp.Other())), qconjCF(gfU)) - q_from_vecCF(cp) )\n",
    "######### mstar += -dt*InnerProduct( jumpcp, chat )*dx(skeleton=True)\n",
    "#mstar += -dt*InnerProduct( cp.Other() - cp, chat )*dx(skeleton=True)\n",
    "#mstar += -dt*InnerProduct( cp.Other() - cp, chat )*dx(element_boundary=True)\n",
    "#mstar += -dt*InnerProduct( cp - cphat, chat )*dx(element_boundary=True)\n",
    "#mstar += -dt*InnerProduct( cp.Other(), chat )*dx(element_boundary=True)\n",
    "\n",
    "\n",
    "for i in range(3):\n",
    "    mstar += -dt*InnerProduct( cp[i].Other() - cp[i], chat[i] )*dx(skeleton=True)\n",
    "\n",
    "\n",
    "mstar.Assemble()\n",
    "mstarmat = mstar.mat\n",
    "mstarmatinv = mstarmat.Inverse(fesCChat.FreeDofs())\n",
    "\n",
    "#covdiv.Assemble()\n",
    "#convdivmat = covdiv.mat"
   ]
  },
  {
   "cell_type": "code",
   "execution_count": null,
   "id": "d504138c",
   "metadata": {
    "scrolled": false
   },
   "outputs": [],
   "source": [
    "\n",
    "\n",
    "tempC = gfrho.vec.CreateVector()\n",
    "newgfrho = GridFunction(fesC)\n",
    "\n",
    "def timestep_charge(gfC, newgfC):\n",
    "    newgfC.vec.data[:] = gfC.vec[:]\n",
    "    conv.Apply(gfC.vec, tempC)\n",
    "    newgfC.vec.data[:] += dt*mcmatinv* tempC\n",
    "    gfC.vec.data[:] = newgfC.vec[:]\n",
    "\n",
    "\n",
    "# TODO: create initial charge as GridFunction\n",
    "#gfrhoCChat = GridFunction(fesCChat)\n",
    "\n",
    "\n",
    "tempCChat = gfrhoCChat.vec.CreateVector()\n",
    "newgfrhoCChat = GridFunction(fesCChat)\n",
    "\n",
    "\n",
    "def timestep_charge_lagrange(gfCChat, newgfCChat):\n",
    "\n",
    "    newgfCChat.vec.data[:] = 0\n",
    "    #newgfCChat.vec.data[:] = gfCChat.vec[:]\n",
    "    \n",
    "    # TODO: correct component indexing?\n",
    "    #conv.Apply(gfCChat.components[0].vec, tempC)\n",
    "    conv_cchat.Apply(gfCChat.vec, tempCChat)\n",
    "    \n",
    "    tempCChat.data[:] = dt*tempCChat\n",
    "    tempCChat.data[:] += mc_cchatmat*gfCChat.vec\n",
    "    \n",
    "    # TODO: necessary?\n",
    "    #tempCChat.components[1].vec.data[:] = gfCChat.components[1].vec[:]\n",
    "    \n",
    "    #newgfCChat.vec.data[:] = mstarmatinv* tempCChat\n",
    "    newgfCChat.vec.data[:] =  tempCChat\n",
    "    gfCChat.vec.data[:] = newgfCChat.vec[:]\n"
   ]
  },
  {
   "cell_type": "code",
   "execution_count": null,
   "id": "114655ff",
   "metadata": {},
   "outputs": [],
   "source": [
    "#Integrate(Norm(gfrho), mesh)"
   ]
  },
  {
   "cell_type": "code",
   "execution_count": null,
   "id": "46313a26",
   "metadata": {
    "scrolled": false
   },
   "outputs": [],
   "source": [
    "#gfCscene = Draw(Norm(gfrho), mesh)\n",
    "#gfCscene = Draw(gfrho.components[0], mesh)\n",
    "gfCscene = Draw(gfrhoCChat.components[0], mesh)\n",
    "#gfCscene = Draw(gfC[0], mesh)\n",
    "\n",
    "for i in range(nt):\n",
    "    #timestep_charge(gfrho, newgfrho)\n",
    "    timestep_charge_lagrange(gfrhoCChat, newgfrhoCChat)\n",
    "\n",
    "    \n",
    "    if i % 1 == 0:\n",
    "        gfCscene.Redraw()\n",
    "        \n",
    "    print (\"\\r\", f\"timestep:{i}\", end=\"\")\n",
    "    #input()"
   ]
  },
  {
   "cell_type": "code",
   "execution_count": null,
   "id": "b6fd5a0c",
   "metadata": {},
   "outputs": [],
   "source": [
    "Integrate(Norm(gfrho), mesh)"
   ]
  },
  {
   "cell_type": "code",
   "execution_count": null,
   "id": "696ab4d8",
   "metadata": {},
   "outputs": [],
   "source": []
  },
  {
   "cell_type": "code",
   "execution_count": null,
   "id": "67d671a7",
   "metadata": {},
   "outputs": [],
   "source": []
  },
  {
   "cell_type": "code",
   "execution_count": null,
   "id": "0e742f76",
   "metadata": {},
   "outputs": [],
   "source": []
  }
 ],
 "metadata": {
  "kernelspec": {
   "display_name": "Python 3 (ipykernel)",
   "language": "python",
   "name": "python3"
  },
  "language_info": {
   "codemirror_mode": {
    "name": "ipython",
    "version": 3
   },
   "file_extension": ".py",
   "mimetype": "text/x-python",
   "name": "python",
   "nbconvert_exporter": "python",
   "pygments_lexer": "ipython3",
   "version": "3.10.6"
  }
 },
 "nbformat": 4,
 "nbformat_minor": 5
}
