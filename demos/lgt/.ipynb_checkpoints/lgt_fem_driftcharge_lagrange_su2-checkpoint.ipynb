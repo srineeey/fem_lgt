{
 "cells": [
  {
   "cell_type": "code",
   "execution_count": null,
   "id": "8018d203",
   "metadata": {
    "scrolled": false
   },
   "outputs": [],
   "source": [
    "from ngsolve import *\n",
    "\n",
    "from ngsolve.meshes import *\n",
    "#from ngsolve.solvers import *\n",
    "from ngsolve.webgui import Draw\n",
    "from netgen.geom2d import unit_square\n",
    "\n",
    "import numpy as np\n",
    "#import matplotlib.pyplot as plt\n",
    "\n",
    "#from su2_yangmills import *\n",
    "from lgt import *"
   ]
  },
  {
   "cell_type": "code",
   "execution_count": null,
   "id": "36783bd6",
   "metadata": {
    "scrolled": true
   },
   "outputs": [],
   "source": [
    "ne=20\n",
    "#mesh = MakeStructured2DMesh(quads=True, nx=ne, ny=ne, periodic_x=True, periodic_y=True)\n",
    "mesh = MakeStructured2DMesh(quads=True, nx=ne, ny=ne, periodic_x=False, periodic_y=False)\n",
    "#mesh = MakeStructured2DMesh(quads=False, nx=ne, ny=ne, periodic_x=False, periodic_y=False)\n",
    "#mesh = Mesh(unit_square.GenerateMesh(maxh=0.1))\n",
    "Draw(mesh)"
   ]
  },
  {
   "cell_type": "code",
   "execution_count": null,
   "id": "d39b33f9",
   "metadata": {},
   "outputs": [],
   "source": [
    "order=1\n",
    "# for su2 charge\n",
    "\n",
    "fesC = H1(mesh, order=order, dgjumps=True)**3\n",
    "\n",
    "fesChat = L2(mesh, order=order, dgjumps=True)**3\n",
    "\n",
    "fesCChat = fesC*fesChat\n"
   ]
  },
  {
   "cell_type": "code",
   "execution_count": null,
   "id": "6c6de497",
   "metadata": {},
   "outputs": [],
   "source": [
    "# parallel transport maps between neighbouring volumes, belonging to an oriented interface\n",
    "#TODO: orientation?\n",
    "fesU = FacetFESpace(mesh, order=0)**4\n",
    "\n",
    "# Set link values\n",
    "gfU = GridFunction(fesU)\n",
    "\n",
    "#gfU.components[0].vec[:] = 1\n",
    "\n",
    "u0 = 0.8\n",
    "#gfU.components[0].vec[:] = u0\n",
    "#gfU.components[3].vec[:] = -sqrt(1-u0*u0)\n",
    "gfU.components[3].vec[:] = 1\n",
    "\n",
    "fesHd = HDiv(mesh, order=0)\n",
    "gfor = GridFunction(fesHd)\n",
    "gfor.vec.data[:] = 1.\n",
    "n = specialcf.normal(mesh.dim)\n",
    "\n",
    "# the orientation of gauge links coincides with that of facet normal vectors!\n",
    "# the gauge links need to take this into account \n",
    "gfUglob = IfPos(gfor*n, gfU, qconjCF(gfU))"
   ]
  },
  {
   "cell_type": "code",
   "execution_count": null,
   "id": "6ff4409c",
   "metadata": {},
   "outputs": [],
   "source": [
    "# set wind\n",
    "cfwind =  CF( (y-0.5,-(x-0.5)) )\n",
    "\n",
    "Draw(cfwind, mesh)"
   ]
  },
  {
   "cell_type": "code",
   "execution_count": null,
   "id": "5c44c88f",
   "metadata": {},
   "outputs": [],
   "source": [
    "# set charge density\n",
    "\n",
    "def gaussxy(mu, sigma2):\n",
    "    #return 1/sqrt(sigma2) * exp(-1/sigma2 *( (x-mu[0])*(x-mu[0]) + (y-mu[1])*(y-mu[1])))\n",
    "    return 1/sqrt(sigma2) * gaussx(mu[0], sigma2) * gaussy(mu[1], sigma2)\n",
    "\n",
    "def gaussx(mu, sigma2):\n",
    "    return 1/sqrt(sigma2) * exp(-1/sigma2 *( (x-mu)*(x-mu)))\n",
    "\n",
    "def gaussy(mu, sigma2):\n",
    "    return 1/sqrt(sigma2) * exp(-1/sigma2 *( (y-mu)*(y-mu)))\n",
    "\n",
    "mu= [0.5,0.3]\n",
    "sigma2 = 0.01\n",
    "\n",
    "def rho():\n",
    "    #return 0.001*gaussxy(mu, sigma2) \n",
    "    return 0.001 * gaussxy(mu, sigma2) / sqrt(sqrt(sigma2))\n",
    "\n",
    "\n",
    "gfrhoCChat = GridFunction(fesCChat)\n",
    "\n",
    "gfrhoCChat.components[0].Set( CF( (rho(), CF(0), CF(0)) ) )\n",
    "\n",
    "gfrhoCChat.components[1].Set( CF( (CF(0), CF(0), CF(0)) ) )\n",
    "\n",
    "\n",
    "Draw(gfrhoCChat.components[0], mesh)"
   ]
  },
  {
   "cell_type": "code",
   "execution_count": null,
   "id": "166b70b2",
   "metadata": {},
   "outputs": [],
   "source": [
    "#dt = 1.\n",
    "#dt = 0.1\n",
    "#dt = 0.5\n",
    "dt = 0.0001\n",
    "\n",
    "nt = 10000"
   ]
  },
  {
   "cell_type": "code",
   "execution_count": null,
   "id": "e91d14f2",
   "metadata": {
    "scrolled": false
   },
   "outputs": [],
   "source": [
    "def jump(f, gfU):\n",
    "    return vec_from_q( qmulCF(qmulCF(gfUglob, q_from_vecCF(f.Other())), qconjCF(gfUglob)) - q_from_vecCF(f) )\n",
    "\n",
    "\n",
    "#######c,chat = fesCChat.TrialFunction()\n",
    "#######cp,cphat = fesCChat.TestFunction()\n",
    "\n",
    "cchat = fesCChat.TrialFunction()\n",
    "c = cchat[0]\n",
    "chat = cchat[1]\n",
    "\n",
    "cpcphat = fesCChat.TestFunction()\n",
    "cp = cpcphat[0]\n",
    "cphat = cpcphat[1]\n",
    "\n",
    "\n",
    "\n",
    "conv_cchat = BilinearForm(fesCChat, nonassemble=True)\n",
    "#TODO: boundary term missing\n",
    "#####conv += InnerProduct(OuterProduct(cfwind, c), grad(cp))*dx\n",
    "\n",
    "\n",
    "for i in range(3):\n",
    "    conv_cchat += InnerProduct(cfwind, grad(cp)[i,:])*c[i]*dx\n",
    "    \n",
    "\n",
    "mc_cchat = BilinearForm(fesCChat)\n",
    "\n",
    "mc_cchat += InnerProduct(c,cp)*dx\n",
    "\n",
    "mc_cchat.Assemble()\n",
    "mc_cchatmat = mc_cchat.mat\n",
    "#mc_cchatmatinv = mc_cchatmat.Inverse(fesC.FreeDofs())\n",
    "\n",
    "    \n",
    "mstar = BilinearForm(fesCChat) \n",
    "    \n",
    "\n",
    "# normal mass term\n",
    "####### mstar += InnerProduct(c,cp)*dx\n",
    "####### mstar += 0.0001*InnerProduct(chat,cphat)*dx\n",
    "\n",
    "mstar += InnerProduct(c,cp)*dx\n",
    "\n",
    "\n",
    "eps = 0.00001\n",
    "mstar += eps*InnerProduct(chat,cphat)*dx\n",
    "\n",
    "\n",
    "# the actual constraint\n",
    "#jumpc = vec_from_q( qmulCF(qmulCF(gfUglob, q_from_vecCF(c.Other())), qconjCF(gfUglob)) - q_from_vecCF(c) )\n",
    "#jumpcp = vec_from_q( qmulCF(qmulCF(gfUglob, q_from_vecCF(cp.Other())), qconjCF(gfUglob)) - q_from_vecCF(cp) )\n",
    "\n",
    "jumpc = vec_from_q( qmulCF(qmulCF( qconjCF(gfUglob), q_from_vecCF(c.Other())), gfUglob) - q_from_vecCF(c) )\n",
    "jumpcp = vec_from_q( qmulCF(qmulCF( qconjCF(gfUglob), q_from_vecCF(cp.Other())), gfUglob) - q_from_vecCF(cp) )\n",
    "\n",
    "#jump = jump(c, gfUglob)\n",
    "#jumcp = jump(cp, gfUglob)\n",
    "\n",
    "mstar += -dt*InnerProduct( jumpc, cphat )*ds(skeleton=True)\n",
    "mstar += -dt*InnerProduct( jumpcp, chat )*ds(skeleton=True)\n",
    "\n",
    "#mstar += -dt*InnerProduct( c.Other() - c, cphat )*ds(skeleton=True)\n",
    "# additional term to make matrix symmetric\n",
    "#mstar += -dt*InnerProduct( cp.Other() - cp, chat )*ds(skeleton=True)\n",
    "\n",
    "\n",
    "mstar.Assemble()\n",
    "mstarmat = mstar.mat\n",
    "mstarmatinv = mstarmat.Inverse(fesCChat.FreeDofs(), inverse=\"umfpack\")\n"
   ]
  },
  {
   "cell_type": "code",
   "execution_count": null,
   "id": "d504138c",
   "metadata": {
    "scrolled": false
   },
   "outputs": [],
   "source": [
    "tempCChat = gfrhoCChat.vec.CreateVector()\n",
    "newgfrhoCChat = GridFunction(fesCChat)\n",
    "\n",
    "\n",
    "def timestep_charge_lagrange(gfCChat, newgfCChat):\n",
    "\n",
    "    #newgfCChat.vec.data[:] = 0\n",
    "    tempCChat.data[:] = 0\n",
    "    conv_cchat.Apply(gfCChat.vec, tempCChat)\n",
    "    \n",
    "    tempCChat.data[:] = dt*tempCChat\n",
    "    tempCChat.data[:] += mc_cchatmat * gfCChat.vec\n",
    "    \n",
    "    # TODO: necessary?\n",
    "    #tempCChat.components[1].vec.data[:] = gfCChat.components[1].vec[:]\n",
    "    \n",
    "    mstarmatinv = mstarmat.Inverse(fesCChat.FreeDofs(), inverse=\"umfpack\")\n",
    "    newgfCChat.vec.data[:] = mstarmatinv * tempCChat\n",
    "    #newgfCChat.vec.data[:] =  tempCChat\n",
    "    gfCChat.vec.data[:] = newgfCChat.vec[:]\n"
   ]
  },
  {
   "cell_type": "code",
   "execution_count": null,
   "id": "114655ff",
   "metadata": {},
   "outputs": [],
   "source": [
    "#Integrate(Norm(gfrho), mesh)"
   ]
  },
  {
   "cell_type": "code",
   "execution_count": null,
   "id": "46313a26",
   "metadata": {
    "scrolled": false
   },
   "outputs": [],
   "source": [
    "#gfCscene = Draw(Norm(gfrho), mesh)\n",
    "#gfCscene = Draw(gfrho.components[0], mesh)\n",
    "gfCscene = Draw(gfrhoCChat.components[0], mesh)\n",
    "#gfCscene = Draw(gfC[0], mesh)\n",
    "\n",
    "for i in range(nt):\n",
    "    timestep_charge_lagrange(gfrhoCChat, newgfrhoCChat)\n",
    "\n",
    "    \n",
    "    if i % 1 == 0:\n",
    "        gfCscene.Redraw()\n",
    "        \n",
    "    print (\"\\r\", f\"timestep:{i}\", end=\"\")\n",
    "    #input()"
   ]
  },
  {
   "cell_type": "code",
   "execution_count": null,
   "id": "b6fd5a0c",
   "metadata": {},
   "outputs": [],
   "source": [
    "Integrate(Norm(gfrho), mesh)"
   ]
  },
  {
   "cell_type": "code",
   "execution_count": null,
   "id": "696ab4d8",
   "metadata": {},
   "outputs": [],
   "source": []
  },
  {
   "cell_type": "code",
   "execution_count": null,
   "id": "67d671a7",
   "metadata": {},
   "outputs": [],
   "source": []
  },
  {
   "cell_type": "code",
   "execution_count": null,
   "id": "0e742f76",
   "metadata": {},
   "outputs": [],
   "source": []
  }
 ],
 "metadata": {
  "kernelspec": {
   "display_name": "Python 3 (ipykernel)",
   "language": "python",
   "name": "python3"
  },
  "language_info": {
   "codemirror_mode": {
    "name": "ipython",
    "version": 3
   },
   "file_extension": ".py",
   "mimetype": "text/x-python",
   "name": "python",
   "nbconvert_exporter": "python",
   "pygments_lexer": "ipython3",
   "version": "3.10.6"
  }
 },
 "nbformat": 4,
 "nbformat_minor": 5
}
