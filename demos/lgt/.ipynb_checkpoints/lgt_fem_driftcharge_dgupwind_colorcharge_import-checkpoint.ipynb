{
 "cells": [
  {
   "cell_type": "code",
   "execution_count": 1,
   "id": "8018d203",
   "metadata": {
    "scrolled": false
   },
   "outputs": [],
   "source": [
    "from ngsolve import *\n",
    "\n",
    "from ngsolve.meshes import *\n",
    "#from ngsolve.solvers import *\n",
    "from ngsolve.webgui import Draw\n",
    "from netgen.geom2d import unit_square\n",
    "\n",
    "import numpy as np\n",
    "import matplotlib.pyplot as plt\n",
    "\n",
    "#from su2_yangmills import *\n",
    "from lgt import *\n",
    "\n",
    "import json"
   ]
  },
  {
   "cell_type": "code",
   "execution_count": 2,
   "id": "bdf74b50",
   "metadata": {},
   "outputs": [],
   "source": [
    "parameters = {}\n",
    "parameters[\"h\"] = 0.05\n",
    "#parameters[\"h\"] = 0.1\n",
    "parameters[\"n\"] = int(1/parameters[\"h\"])\n",
    "parameters[\"order\"] = 3\n",
    "parameters[\"dt\"] = 0.001"
   ]
  },
  {
   "cell_type": "code",
   "execution_count": 3,
   "id": "36783bd6",
   "metadata": {
    "scrolled": false
   },
   "outputs": [
    {
     "data": {
      "application/vnd.jupyter.widget-view+json": {
       "model_id": "f7a67b6a222f4c94aa4f8f7db93e17cb",
       "version_major": 2,
       "version_minor": 0
      },
      "text/plain": [
       "WebGuiWidget(layout=Layout(height='50vh', width='100%'), value={'gui_settings': {}, 'ngsolve_version': '6.2.23…"
      ]
     },
     "metadata": {},
     "output_type": "display_data"
    },
    {
     "data": {
      "text/plain": [
       "BaseWebGuiScene"
      ]
     },
     "execution_count": 3,
     "metadata": {},
     "output_type": "execute_result"
    }
   ],
   "source": [
    "ne=parameters[\"n\"]\n",
    "#mesh = MakeStructured2DMesh(quads=True, nx=ne, ny=ne, periodic_x=True, periodic_y=True)\n",
    "mesh = MakeStructured2DMesh(quads=True, nx=ne, ny=ne, periodic_x=False, periodic_y=False)\n",
    "#mesh = MakeStructured2DMesh(quads=False, nx=ne, ny=ne, periodic_x=False, periodic_y=False)\n",
    "#mesh = Mesh(unit_square.GenerateMesh(maxh=0.1))\n",
    "Draw(mesh)"
   ]
  },
  {
   "cell_type": "code",
   "execution_count": 4,
   "id": "d39b33f9",
   "metadata": {},
   "outputs": [],
   "source": [
    "order=parameters[\"order\"]\n",
    "# for su2 charge\n",
    "#fesC = L2(mesh, order=order, dgjumps=True)**3\n",
    "\n",
    "# TODO: unable to access components of gridfunction - gives index error\n",
    "#fesC = Periodic(L2(mesh, order=order)**3)\n",
    "#fesG = Periodic(L2(mesh, order=0)**4)\n",
    "\n",
    "# Lie algebra space\n",
    "fesC = L2(mesh, order=order)**3\n",
    "\n",
    "# quaternion space!\n",
    "fesG = L2(mesh, order=0)**4\n",
    "\n",
    "# upwind flux of current through faces\n",
    "fesjflux = FacetFESpace(mesh, order=0)**3\n",
    "\n",
    "\n",
    "# parallel transport maps between neighbouring volumes, belonging to an oriented interface\n",
    "#TODO: orientation is handled by a special CF\n",
    "# quaternion space!\n",
    "#fesU = FacetFESpace(mesh, order=0, dgjumps=True, dirichlet=\".*\")**4\n",
    "fesU = FacetFESpace(mesh, order=0, dgjumps=True)**4\n",
    "\n",
    "## Lie algebra space!\n",
    "#fesA = FacetFESpace(mesh, order=0, dgjumps=True)**3\n",
    "\n",
    "\n",
    "# define a global orientation of links\n",
    "fesHd = HDiv(mesh, order=0)\n",
    "gfor = GridFunction(fesHd)\n",
    "#gfor = GridFunction(HDiv(mesh, order=0))\n",
    "gfor.vec.data[:] = 1.\n",
    "n = specialcf.normal(mesh.dim)"
   ]
  },
  {
   "cell_type": "code",
   "execution_count": 5,
   "id": "46a3adee",
   "metadata": {},
   "outputs": [],
   "source": [
    "def gaussxy(mu, sigma2):\n",
    "    #return 1/sqrt(sigma2) * exp(-1/sigma2 *( (x-mu[0])*(x-mu[0]) + (y-mu[1])*(y-mu[1])))\n",
    "    return gaussx(mu[0], sigma2) * gaussy(mu[1], sigma2)\n",
    "\n",
    "def gaussx(mu, sigma2):\n",
    "    return 1./sqrt(2*pi*sigma2) * exp(-0.5/sigma2 *( (x-mu)*(x-mu)))\n",
    "\n",
    "def gaussy(mu, sigma2):\n",
    "    return 1./sqrt(2*pi*sigma2) * exp(-0.5/sigma2 *( (y-mu)*(y-mu)))\n",
    "\n"
   ]
  },
  {
   "cell_type": "code",
   "execution_count": 6,
   "id": "1dcbab07",
   "metadata": {},
   "outputs": [
    {
     "data": {
      "application/vnd.jupyter.widget-view+json": {
       "model_id": "917e3fc310d84fa4bf74031a6db093ac",
       "version_major": 2,
       "version_minor": 0
      },
      "text/plain": [
       "WebGuiWidget(layout=Layout(height='50vh', width='100%'), value={'gui_settings': {}, 'ngsolve_version': '6.2.23…"
      ]
     },
     "metadata": {},
     "output_type": "display_data"
    },
    {
     "data": {
      "text/plain": [
       "BaseWebGuiScene"
      ]
     },
     "execution_count": 6,
     "metadata": {},
     "output_type": "execute_result"
    }
   ],
   "source": [
    "fesl2 = L2(mesh, order=0)\n",
    "gfl2 = GridFunction(fesl2)\n",
    "\n",
    "el_num = 193\n",
    "gfl2.vec[el_num] =1.\n",
    "\n",
    "Draw(gfl2, mesh)"
   ]
  },
  {
   "cell_type": "code",
   "execution_count": 7,
   "id": "66ee3e0b",
   "metadata": {},
   "outputs": [],
   "source": [
    "# set the scenarios\n",
    "\n",
    "# wind:\n",
    "\n",
    "def rot_wind():\n",
    "    return CF( (y-0.5,-(x-0.5)) ) \n",
    "\n",
    "def x_wind():\n",
    "    return CF( (1,0) )\n",
    "\n",
    "def y_wind():\n",
    "    return CF( (0,1) )\n",
    "\n",
    "def my_wind():\n",
    "    return CF( (0,-1) )\n",
    "\n",
    "def mxmy_wind():\n",
    "    return CF( (-1,-1) )\n",
    "\n",
    "\n",
    "#rot_wind()\n",
    "#tend = 5.00 # numerical dispersion and oscillations kick in\n",
    "tend_rot_wind = 6.3 # one rotation\n",
    "#tend = 3.\n",
    "\n",
    "\n",
    "#mxmy_wind()\n",
    "#tend = 5.00 \n",
    "tend_mxmy_wind = 0.3\n",
    "\n",
    "\n",
    "#???\n",
    "#tend_x_wind = 0.2\n",
    "tend_x_wind = 0.4\n",
    "\n",
    "# charge distribution:\n",
    "\n",
    "mu = [0.5,0.3]\n",
    "mu_l = [0.3,0.5]\n",
    "mu_c = [0.5,0.5]\n",
    "sigma2 = 0.01\n",
    "\n",
    "def rho_center(gfrho):\n",
    "    gfrho.Set( CF( (gaussxy(mu_c, sigma2), 0, 0) ) )\n",
    "    return gfrho\n",
    "\n",
    "def rho_d(gfrho):\n",
    "    gfrho.Set( CF( (gaussxy(mu, sigma2), 0, 0) ) )\n",
    "    return gfrho\n",
    "\n",
    "def rho_l(gfrho):\n",
    "    gfrho.Set( CF( (gaussxy(mu_l, sigma2), 0, 0) ) )\n",
    "    return gfrho\n",
    "\n",
    "\n",
    "# background gauge links:\n",
    "\n",
    "e_num=220\n",
    "q_theta = 0.1*pi\n",
    "theta =0.\n",
    "phi=0.\n",
    "\n",
    "\n",
    "#d\n",
    "el_num = 88\n",
    "\n",
    "#r\n",
    "el_num = 177\n",
    "\n",
    "el_num = 193\n",
    "\n",
    "\n",
    "scenario = {}\n",
    "\n",
    "scenario[\"wind\"] =  rot_wind\n",
    "#scenario[\"wind\"] =  x_wind\n",
    "#scenario[\"wind\"] =  mxmy_wind\n",
    "\n",
    "#scenario[\"rho\"] = rho_d\n",
    "#scenario[\"rho\"] = rho_center\n",
    "scenario[\"rho\"] = rho_l\n",
    "\n",
    "scenario[\"tend\"] = tend_rot_wind\n",
    "#scenario[\"tend\"] = tend_x_wind\n",
    "\n",
    "scenario[\"gfU\"] = lambda _U: trivial_gauge(_U)\n",
    "#scenario[\"gfU\"] = lambda _U: single_link(_U, e_num, qtheta=0.25*pi, theta=0., phi=0.)\n",
    "\n",
    "\n",
    "#scenario[\"gauge\"] = trivial_gauge\n",
    "scenario[\"gauge\"] = lambda _gfg: single_el_gauge(_gfg, el_num, qtheta=0.25*pi, theta=0., phi=0.)\n",
    "\n",
    "#scenario[\"name\"] = \"diag_singleU\"\n",
    "#scenario[\"name\"] = \"cw_singleU\"\n",
    "scenario[\"name\"] = \"x_trivial\""
   ]
  },
  {
   "cell_type": "code",
   "execution_count": 8,
   "id": "370afc2b",
   "metadata": {},
   "outputs": [],
   "source": [
    "folder_name = f\"{scenario['name']}\"  \n",
    "if not os.path.exists(folder_name):\n",
    "    os.makedirs(folder_name)\n",
    "    \n",
    "parfolder_name = f\"{folder_name}/{parameters['n']}_order{parameters['order']}_dt{parameters['dt']}\"  \n",
    "if not os.path.exists(parfolder_name):\n",
    "    os.makedirs(parfolder_name)"
   ]
  },
  {
   "cell_type": "code",
   "execution_count": 9,
   "id": "5b83bc74",
   "metadata": {},
   "outputs": [
    {
     "data": {
      "application/vnd.jupyter.widget-view+json": {
       "model_id": "907301ce54904221ada07f63734dcd48",
       "version_major": 2,
       "version_minor": 0
      },
      "text/plain": [
       "WebGuiWidget(layout=Layout(height='50vh', width='100%'), value={'gui_settings': {}, 'ngsolve_version': '6.2.23…"
      ]
     },
     "metadata": {},
     "output_type": "display_data"
    },
    {
     "data": {
      "text/plain": [
       "BaseWebGuiScene"
      ]
     },
     "execution_count": 9,
     "metadata": {},
     "output_type": "execute_result"
    }
   ],
   "source": [
    "# set wind\n",
    "\n",
    "#cfwind = rot_wind()\n",
    "cfwind = scenario[\"wind\"]()\n",
    "\n",
    "hcwind = GridFunction( HCurl(mesh,order=1) )\n",
    "hcwind.Set(cfwind)\n",
    "Draw(cfwind, mesh)"
   ]
  },
  {
   "cell_type": "code",
   "execution_count": 10,
   "id": "7a0b95a4",
   "metadata": {},
   "outputs": [],
   "source": [
    "#set gauge links\n",
    "\n",
    "gfU = GridFunction(fesU)\n",
    "\n",
    "#set_gfU_const(gfU, qtheta=0.1*pi, theta = 0., phi=0.)\n",
    "#set_gfU_link(gfU, enum=220, qtheta=0.1*pi, theta = 0., phi=0.)\n",
    "\n",
    "gfU = scenario[\"gfU\"](gfU)\n",
    "\n",
    "\n",
    "# the orientation of gauge links coincides with that of facet normal vectors!\n",
    "# the gauge links need to take this into account \n",
    "# convention: gfU links go along global normal vector\n",
    "# gfUglob links point out of the element\n",
    "# TODO: ist this consistent with C++ code, where orientation is based on vertex numbering?\n",
    "gfUglob = IfPos(gfor*n, gfU, qconjCF(gfU))\n",
    "\n",
    "\n",
    "\n",
    "# for the current coupling term J*A at facets\n",
    "# the \"gauge fields\" direction needs to be taken into account\n",
    "\n",
    "#gfA = GridFunction(fesA)\n",
    "\n",
    "#gfA.Set( (qlogCF(gfU))[1:] )\n",
    "\n",
    "# similar orientation issue with gfU/gfUglob\n",
    "#gfAglob = IfPos(gfor*n, gfA, -1.*gfA)"
   ]
  },
  {
   "cell_type": "code",
   "execution_count": 11,
   "id": "5c44c88f",
   "metadata": {
    "scrolled": true
   },
   "outputs": [
    {
     "data": {
      "application/vnd.jupyter.widget-view+json": {
       "model_id": "9bd48bb16ef140ecb757909054aa286c",
       "version_major": 2,
       "version_minor": 0
      },
      "text/plain": [
       "WebGuiWidget(layout=Layout(height='50vh', width='100%'), value={'gui_settings': {}, 'ngsolve_version': '6.2.23…"
      ]
     },
     "metadata": {},
     "output_type": "display_data"
    },
    {
     "name": "stdout",
     "output_type": "stream",
     "text": [
      "0.9986495294340078\n"
     ]
    }
   ],
   "source": [
    "# set charge density\n",
    "\n",
    "gfrho = GridFunction(fesC)\n",
    "\n",
    "gfrho = scenario[\"rho\"](gfrho)\n",
    "\n",
    "#gfrho.Set( rhoCF )\n",
    "#for i in range(gfrho.dim):\n",
    "#        gfrho.components[i].Set( rhoCF[i] )\n",
    "\n",
    "\n",
    "def Norm_CF(cf):\n",
    "    return sqrt(sum( [cf[i]*cf[i] for i in range(cf.dim)] ))\n",
    "\n",
    "\n",
    "#Draw(Norm(rhoCF), mesh)\n",
    "#Draw(Norm(gfrho), mesh)\n",
    "#Draw(gfrho.components[0], mesh)\n",
    "Draw(gfrho, mesh)\n",
    "print(Integrate(Norm(gfrho), mesh))"
   ]
  },
  {
   "cell_type": "code",
   "execution_count": 12,
   "id": "2fc704fd",
   "metadata": {},
   "outputs": [
    {
     "data": {
      "application/vnd.jupyter.widget-view+json": {
       "model_id": "aad4aa92572c4a1d9643926672a9c008",
       "version_major": 2,
       "version_minor": 0
      },
      "text/plain": [
       "WebGuiWidget(layout=Layout(height='50vh', width='100%'), value={'gui_settings': {}, 'ngsolve_version': '6.2.23…"
      ]
     },
     "metadata": {},
     "output_type": "display_data"
    },
    {
     "data": {
      "text/plain": [
       "2"
      ]
     },
     "execution_count": 12,
     "metadata": {},
     "output_type": "execute_result"
    }
   ],
   "source": [
    "# apply gauge transformation\n",
    "gfg = GridFunction(fesG)\n",
    "gfg = scenario[\"gauge\"](gfg)\n",
    "\n",
    "gfrho = gauge_rho(gfrho, gfg)\n",
    "gfU = gauge_gfU(gfU, gfg, fesU)\n",
    "\n",
    "Draw(gfrho, mesh)\n",
    "#Draw(gfrho, mesh, min=-5., max=20.)\n",
    "fesU.mesh.dim"
   ]
  },
  {
   "cell_type": "code",
   "execution_count": 13,
   "id": "27329dd8",
   "metadata": {},
   "outputs": [
    {
     "name": "stdout",
     "output_type": "stream",
     "text": [
      "6300\n"
     ]
    }
   ],
   "source": [
    "#dt = 0.00001\n",
    "#dt = 0.001\n",
    "\n",
    "tend = scenario[\"tend\"]\n",
    "dt = parameters[\"dt\"]\n",
    "n_steps = int(tend/dt)\n",
    "print(n_steps)"
   ]
  },
  {
   "cell_type": "code",
   "execution_count": 14,
   "id": "e91d14f2",
   "metadata": {
    "scrolled": false
   },
   "outputs": [],
   "source": [
    "conv = BilinearForm(fesC, nonassemble=True)\n",
    "c,cp = fesC.TnT()\n",
    "#c,cp = fesC.TnT()\n",
    "\n",
    "\n",
    "# convection inside elements\n",
    "#j = OuterProduct(c, cfwind)\n",
    "#gradcp = grad(cp)\n",
    "#conv += InnerProduct(j, gradcp)*dx\n",
    "\n",
    "#conv += -InnerProduct(OuterProduct(c, cfwind), grad(cp))*dx\n",
    "conv += -InnerProduct(OuterProduct(c, hcwind), grad(cp))*dx\n",
    "\n",
    "# convection term between elements\n",
    "# DG upwinding while respecting parallel transport\n",
    "# TODO: check if consistent with LGT convention\n",
    "# U * c * U^{-1}\n",
    "n = specialcf.normal(mesh.dim)\n",
    "#c_up = IfPos(cfwind*n, c, vec_from_q(qmulCF(qmulCF(qconjCF(gfUglob), q_from_vecCF(c.Other())), gfUglob)) )\n",
    "c_up = IfPos(cfwind*n, c, ptransport_color(c.Other(), gfUglob, forward=False) )\n",
    "\n",
    "#conv += cfwind*n*c_up*cp*dx(element_boundary=True)\n",
    "conv += cfwind*n*c_up*cp*dx(skeleton=True)\n",
    "\n",
    "\n",
    "mc = BilinearForm(fesC)\n",
    "mc += InnerProduct(c,cp)*dx\n",
    "mc.Assemble()\n",
    "mcmat = mc.mat\n",
    "mcmatinv = mcmat.Inverse(fesC.FreeDofs())"
   ]
  },
  {
   "cell_type": "code",
   "execution_count": 15,
   "id": "78a2eadc",
   "metadata": {},
   "outputs": [
    {
     "ename": "TypeError",
     "evalue": "get_gfUglob() missing 2 required positional arguments: 'gfU' and 'fesU'",
     "output_type": "error",
     "traceback": [
      "\u001b[0;31m---------------------------------------------------------------------------\u001b[0m",
      "\u001b[0;31mTypeError\u001b[0m                                 Traceback (most recent call last)",
      "\u001b[0;32m/tmp/ipykernel_7281/2350270979.py\u001b[0m in \u001b[0;36m<module>\u001b[0;34m\u001b[0m\n\u001b[1;32m      7\u001b[0m \u001b[0;34m\u001b[0m\u001b[0m\n\u001b[1;32m      8\u001b[0m \u001b[0;34m\u001b[0m\u001b[0m\n\u001b[0;32m----> 9\u001b[0;31m \u001b[0mupdate_jviz\u001b[0m\u001b[0;34m(\u001b[0m\u001b[0mgfjviz\u001b[0m\u001b[0;34m)\u001b[0m\u001b[0;34m\u001b[0m\u001b[0;34m\u001b[0m\u001b[0m\n\u001b[0m\u001b[1;32m     10\u001b[0m \u001b[0mDraw\u001b[0m\u001b[0;34m(\u001b[0m\u001b[0mgfjviz\u001b[0m\u001b[0;34m,\u001b[0m \u001b[0mmesh\u001b[0m\u001b[0;34m)\u001b[0m\u001b[0;34m\u001b[0m\u001b[0;34m\u001b[0m\u001b[0m\n\u001b[1;32m     11\u001b[0m \u001b[0;31m#Draw(gfjviz, mesh, min=-5., max=5.)\u001b[0m\u001b[0;34m\u001b[0m\u001b[0;34m\u001b[0m\u001b[0m\n",
      "\u001b[0;32m/tmp/ipykernel_7281/2350270979.py\u001b[0m in \u001b[0;36mupdate_jviz\u001b[0;34m(gfjviz)\u001b[0m\n\u001b[1;32m      3\u001b[0m \u001b[0;34m\u001b[0m\u001b[0m\n\u001b[1;32m      4\u001b[0m \u001b[0;32mdef\u001b[0m \u001b[0mupdate_jviz\u001b[0m\u001b[0;34m(\u001b[0m\u001b[0mgfjviz\u001b[0m\u001b[0;34m)\u001b[0m\u001b[0;34m:\u001b[0m\u001b[0;34m\u001b[0m\u001b[0;34m\u001b[0m\u001b[0m\n\u001b[0;32m----> 5\u001b[0;31m     \u001b[0mgfjflux\u001b[0m \u001b[0;34m=\u001b[0m \u001b[0mcalc_upwind_colorflux\u001b[0m\u001b[0;34m(\u001b[0m\u001b[0mgfrho\u001b[0m\u001b[0;34m,\u001b[0m \u001b[0mcfwind\u001b[0m\u001b[0;34m,\u001b[0m \u001b[0mmesh\u001b[0m\u001b[0;34m,\u001b[0m \u001b[0mglob_or\u001b[0m\u001b[0;34m=\u001b[0m\u001b[0;32mTrue\u001b[0m\u001b[0;34m)\u001b[0m\u001b[0;34m\u001b[0m\u001b[0;34m\u001b[0m\u001b[0m\n\u001b[0m\u001b[1;32m      6\u001b[0m     \u001b[0mgfjviz\u001b[0m\u001b[0;34m.\u001b[0m\u001b[0mvec\u001b[0m\u001b[0;34m.\u001b[0m\u001b[0mdata\u001b[0m \u001b[0;34m=\u001b[0m \u001b[0mgfjflux\u001b[0m\u001b[0;34m.\u001b[0m\u001b[0mvec\u001b[0m\u001b[0;34m\u001b[0m\u001b[0;34m\u001b[0m\u001b[0m\n\u001b[1;32m      7\u001b[0m \u001b[0;34m\u001b[0m\u001b[0m\n",
      "\u001b[0;32m~/fem/liegroupfem/demos/lgt/lgt.py\u001b[0m in \u001b[0;36mcalc_upwind_colorflux\u001b[0;34m(gfrho, cfwind, mesh, glob_or)\u001b[0m\n\u001b[1;32m    460\u001b[0m     \u001b[0mn\u001b[0m \u001b[0;34m=\u001b[0m \u001b[0mspecialcf\u001b[0m\u001b[0;34m.\u001b[0m\u001b[0mnormal\u001b[0m\u001b[0;34m(\u001b[0m\u001b[0mmesh\u001b[0m\u001b[0;34m.\u001b[0m\u001b[0mdim\u001b[0m\u001b[0;34m)\u001b[0m\u001b[0;34m\u001b[0m\u001b[0;34m\u001b[0m\u001b[0m\n\u001b[1;32m    461\u001b[0m     \u001b[0;31m#gfc_up = IfPos(cfwind*n, gfrho, vec_from_q(qmulCF(qmulCF(qconjCF(gfUglob), q_from_vecCF(gfrho.Other())), gfUglob)) )\u001b[0m\u001b[0;34m\u001b[0m\u001b[0;34m\u001b[0m\u001b[0m\n\u001b[0;32m--> 462\u001b[0;31m     \u001b[0mgfc_up\u001b[0m \u001b[0;34m=\u001b[0m \u001b[0mIfPos\u001b[0m\u001b[0;34m(\u001b[0m\u001b[0mcfwind\u001b[0m\u001b[0;34m*\u001b[0m\u001b[0mn\u001b[0m\u001b[0;34m,\u001b[0m \u001b[0mgfrho\u001b[0m\u001b[0;34m,\u001b[0m \u001b[0mptransport_color\u001b[0m\u001b[0;34m(\u001b[0m\u001b[0mgfrho\u001b[0m\u001b[0;34m.\u001b[0m\u001b[0mOther\u001b[0m\u001b[0;34m(\u001b[0m\u001b[0;34m)\u001b[0m\u001b[0;34m,\u001b[0m \u001b[0mget_gfUglob\u001b[0m\u001b[0;34m(\u001b[0m\u001b[0;34m)\u001b[0m\u001b[0;34m,\u001b[0m \u001b[0mforward\u001b[0m\u001b[0;34m=\u001b[0m\u001b[0;32mFalse\u001b[0m\u001b[0;34m)\u001b[0m\u001b[0;34m)\u001b[0m\u001b[0;34m\u001b[0m\u001b[0;34m\u001b[0m\u001b[0m\n\u001b[0m\u001b[1;32m    463\u001b[0m     \u001b[0mn_up\u001b[0m \u001b[0;34m=\u001b[0m \u001b[0mIfPos\u001b[0m\u001b[0;34m(\u001b[0m\u001b[0mgfor\u001b[0m\u001b[0;34m*\u001b[0m\u001b[0mn\u001b[0m\u001b[0;34m,\u001b[0m \u001b[0mn\u001b[0m\u001b[0;34m,\u001b[0m \u001b[0mn\u001b[0m\u001b[0;34m.\u001b[0m\u001b[0mOther\u001b[0m\u001b[0;34m(\u001b[0m\u001b[0;34m)\u001b[0m\u001b[0;34m)\u001b[0m\u001b[0;34m\u001b[0m\u001b[0;34m\u001b[0m\u001b[0m\n\u001b[1;32m    464\u001b[0m \u001b[0;34m\u001b[0m\u001b[0m\n",
      "\u001b[0;31mTypeError\u001b[0m: get_gfUglob() missing 2 required positional arguments: 'gfU' and 'fesU'"
     ]
    }
   ],
   "source": [
    "fesjviz = HDiv(mesh, order=0, dgjumps=True)**3\n",
    "gfjviz = GridFunction(fesjviz)\n",
    "\n",
    "def update_jviz(gfjviz):\n",
    "    gfjflux = calc_upwind_colorflux(gfrho, cfwind, gfUglob, mesh, glob_or=True)\n",
    "    gfjviz.vec.data = gfjflux.vec\n",
    "\n",
    "    \n",
    "update_jviz(gfjviz)\n",
    "Draw(gfjviz, mesh)\n",
    "#Draw(gfjviz, mesh, min=-5., max=5.)"
   ]
  },
  {
   "cell_type": "code",
   "execution_count": null,
   "id": "440ce99a",
   "metadata": {},
   "outputs": [],
   "source": [
    "gfU.flags"
   ]
  },
  {
   "cell_type": "code",
   "execution_count": null,
   "id": "9194e7e6",
   "metadata": {},
   "outputs": [],
   "source": [
    "# # reverse engineer the flux to visualize it\n",
    "\n",
    "# gfjflux = calc_upwind_colorflux(gfrho, cfwind, glob_or=True)\n",
    "\n",
    "# fesj = HDiv(mesh, order=0, dgjumps=True)**3\n",
    "\n",
    "# jviz = fesj.TrialFunction()\n",
    "# jvizp = fesj.TestFunction()\n",
    "\n",
    "# Mj = BilinearForm(fesj)\n",
    "# fj = BilinearForm(fesj)\n",
    "\n",
    "# Mj += InnerProduct(jviz,jvizp)*dx\n",
    "# fj += InnerProduct(gfjflux,jvizp*n)*dx(skeleton=True)\n",
    "\n",
    "# Mj.Assemble()\n",
    "# #fj.Assemble()\n",
    "\n",
    "# gfjviz = GridFunction(fesj)\n",
    "# gfjvec = GridFunction(fesj)\n",
    "# jvec1 = gfjvec.vec.CreateVector()\n",
    "# jvec2 = gfjvec.vec.CreateVector()\n",
    "\n",
    "# fj.Apply(jvec1, jvec2)\n",
    "\n",
    "# Mjmatinv = Mj.mat.Inverse()\n",
    "\n",
    "# #gfjviz = (Mj.mat.Inverse())*fj.vec\n",
    "# gfjviz = Mjmatinv*jvec2\n",
    "\n",
    "# Draw(gfjviz, mesh)\n",
    "# Draw(gfrho, mesh)"
   ]
  },
  {
   "cell_type": "code",
   "execution_count": null,
   "id": "d504138c",
   "metadata": {},
   "outputs": [],
   "source": [
    "tempC = gfrho.vec.CreateVector()\n",
    "newgfrho = GridFunction(fesC)\n",
    "\n",
    "def timestep_charge(gfC, newgfC):\n",
    "    newgfC.vec.data[:] = gfC.vec[:]\n",
    "    conv.Apply(gfC.vec, tempC)\n",
    "    newgfC.vec.data[:] += -1.*dt*mcmatinv* tempC\n",
    "    #newgfC.vec.data[:] += dt*mcmatinv* tempC\n",
    "    gfC.vec.data[:] = newgfC.vec[:]"
   ]
  },
  {
   "cell_type": "code",
   "execution_count": null,
   "id": "46313a26",
   "metadata": {
    "scrolled": false
   },
   "outputs": [],
   "source": [
    "gfCscenes = []\n",
    "gfCscenes.append(Draw(gfrho[0], mesh))\n",
    "gfCscenes.append(Draw(gfrho[1], mesh))\n",
    "gfCscenes.append(Draw(gfrho[2], mesh))\n",
    "\n",
    "gfCscenes.append(Draw(Norm(gfrho), mesh))\n",
    "gfCscenes.append(Draw(gfjviz, mesh))\n",
    "\n",
    "Cs = []\n",
    "\n",
    "\n",
    "if not os.path.exists(f\"{parfolder_name}/vtk\"):\n",
    "    os.makedirs(f\"{parfolder_name}/vtk\")\n",
    "vtk = VTKOutput(mesh, coefs=[gfrho], names=[\"rho\"],filename=f\"{parfolder_name}/vtk/vtk_snap\",subdivision=2)\n",
    "vtk.Do(time=0)\n",
    "nt_snaps = list(range(0,n_steps,int(n_steps/10)))\n",
    "\n",
    "t = 0.\n",
    "for i in range(n_steps):\n",
    "    timestep_charge(gfrho, newgfrho)\n",
    "    update_jviz(gfjviz)\n",
    "    \n",
    "    if i % 10 == 0:\n",
    "        for scene in gfCscenes:\n",
    "            scene.Redraw()\n",
    "            \n",
    "    if (n in nt_snaps):\n",
    "            current_snaps = {}\n",
    "            for snap_name in snap_names:\n",
    "                # save vtk snapshots\n",
    "                vtk.Do(time=n*dt)\n",
    "                #vtk.Do(time=t)\n",
    "\n",
    "    _c = Integrate(Norm(gfrho), mesh)\n",
    "    Cs.append(_c)\n",
    "    t += dt\n",
    "        \n",
    "    print (\"\\r\", f\"timestep:{i}, t:{t} charge:{_c}\", end=\"\")\n",
    "    #input()"
   ]
  },
  {
   "cell_type": "code",
   "execution_count": null,
   "id": "b6fd5a0c",
   "metadata": {},
   "outputs": [],
   "source": [
    "Integrate(Norm(gfrho), mesh)"
   ]
  },
  {
   "cell_type": "code",
   "execution_count": null,
   "id": "696ab4d8",
   "metadata": {},
   "outputs": [],
   "source": [
    "with open(f\"{parfolder_name}/Cs.json\", \"w\") as f:\n",
    "    json.dump(Cs, f, indent=2)\n",
    "\n",
    "plt.plot(np.arange(0.,t-dt,dt), Cs, label=r\"$\\rho$\")\n",
    "plt.xlabel(r\"$t$\")\n",
    "plt.ylabel(r\"$\\rho$\")\n",
    "plt.savefig(f\"{parfolder_name}/Cs.png\")\n",
    "#plt.legend()"
   ]
  },
  {
   "cell_type": "code",
   "execution_count": null,
   "id": "67d671a7",
   "metadata": {},
   "outputs": [],
   "source": []
  },
  {
   "cell_type": "code",
   "execution_count": null,
   "id": "0e742f76",
   "metadata": {},
   "outputs": [],
   "source": []
  },
  {
   "cell_type": "code",
   "execution_count": null,
   "id": "8662210d",
   "metadata": {},
   "outputs": [],
   "source": []
  },
  {
   "cell_type": "code",
   "execution_count": null,
   "id": "566540bd",
   "metadata": {},
   "outputs": [],
   "source": []
  }
 ],
 "metadata": {
  "kernelspec": {
   "display_name": "Python 3 (ipykernel)",
   "language": "python",
   "name": "python3"
  },
  "language_info": {
   "codemirror_mode": {
    "name": "ipython",
    "version": 3
   },
   "file_extension": ".py",
   "mimetype": "text/x-python",
   "name": "python",
   "nbconvert_exporter": "python",
   "pygments_lexer": "ipython3",
   "version": "3.10.12"
  }
 },
 "nbformat": 4,
 "nbformat_minor": 5
}
