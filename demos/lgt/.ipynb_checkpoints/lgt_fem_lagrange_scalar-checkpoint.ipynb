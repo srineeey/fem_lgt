{
 "cells": [
  {
   "cell_type": "code",
   "execution_count": null,
   "id": "8018d203",
   "metadata": {
    "scrolled": false
   },
   "outputs": [],
   "source": [
    "from ngsolve import *\n",
    "\n",
    "from ngsolve.meshes import *\n",
    "#from ngsolve.solvers import *\n",
    "from ngsolve.webgui import Draw\n",
    "from netgen.geom2d import unit_square\n",
    "\n",
    "import numpy as np\n",
    "#import matplotlib.pyplot as plt\n",
    "\n",
    "#from su2_yangmills import *\n",
    "#from lgt import *"
   ]
  },
  {
   "cell_type": "code",
   "execution_count": null,
   "id": "36783bd6",
   "metadata": {
    "scrolled": true
   },
   "outputs": [],
   "source": [
    "ne=20\n",
    "#mesh = MakeStructured2DMesh(quads=True, nx=ne, ny=ne, periodic_x=True, periodic_y=True)\n",
    "mesh = MakeStructured2DMesh(quads=True, nx=ne, ny=ne, periodic_x=False, periodic_y=False)\n",
    "#mesh = MakeStructured2DMesh(quads=False, nx=ne, ny=ne, periodic_x=False, periodic_y=False)\n",
    "#mesh = Mesh(unit_square.GenerateMesh(maxh=0.1))\n",
    "Draw(mesh)"
   ]
  },
  {
   "cell_type": "code",
   "execution_count": null,
   "id": "d39b33f9",
   "metadata": {},
   "outputs": [],
   "source": [
    "order=1\n",
    "# for su2 charge\n",
    "#fesC = H1(mesh, order=order, dgjumps=True)\n",
    "#fesC = Discontinuous(H1(mesh, order=order, dgjumps=True))\n",
    "\n",
    "#fesC = Discontinuous(H1(mesh, order=order))\n",
    "fesC = H1(mesh, order=order)\n",
    "\n",
    "#fesChat = L2(mesh, order=order)\n",
    "fesChat = FacetFESpace(mesh, order=order)\n",
    "#fesChat = FacetFESpace(mesh, order=order-1)\n",
    "\n",
    "fesCChat = fesC*fesChat\n"
   ]
  },
  {
   "cell_type": "code",
   "execution_count": null,
   "id": "02a2206f",
   "metadata": {},
   "outputs": [],
   "source": [
    "gff = GridFunction(fesC)\n",
    "\n",
    "gff.vec.data[107] = 1\n",
    "\n",
    "Draw(gff, mesh)"
   ]
  },
  {
   "cell_type": "code",
   "execution_count": null,
   "id": "5c44c88f",
   "metadata": {},
   "outputs": [],
   "source": [
    "# set charge density\n",
    "\n",
    "def gaussxy(mu, sigma2):\n",
    "    #return 1/sqrt(sigma2) * exp(-1/sigma2 *( (x-mu[0])*(x-mu[0]) + (y-mu[1])*(y-mu[1])))\n",
    "    return 1/sqrt(sigma2) * gaussx(mu[0], sigma2) * gaussy(mu[1], sigma2)\n",
    "\n",
    "def gaussx(mu, sigma2):\n",
    "    return 1/sqrt(sigma2) * exp(-1/sigma2 *( (x-mu)*(x-mu)))\n",
    "\n",
    "def gaussy(mu, sigma2):\n",
    "    return 1/sqrt(sigma2) * exp(-1/sigma2 *( (y-mu)*(y-mu)))\n",
    "\n",
    "mu= [0.5,0.3]\n",
    "sigma2 = 0.01\n",
    "\n",
    "def rho():\n",
    "    #return 0.001*gaussxy(mu, sigma2) \n",
    "    return 0.001 * gaussxy(mu, sigma2) / sqrt(sqrt(sigma2))\n",
    "\n",
    "\n",
    "gfrhoCChat = GridFunction(fesCChat)\n",
    "\n",
    "#gfrhoCChat.components[0].Set( rho() )\n",
    "gfrhoCChat.components[0].Set( rho(), dual=True)\n",
    "\n",
    "Draw(gfrhoCChat.components[0], mesh)"
   ]
  },
  {
   "cell_type": "code",
   "execution_count": null,
   "id": "e91d14f2",
   "metadata": {
    "scrolled": false
   },
   "outputs": [],
   "source": [
    "    \n",
    "\n",
    "\n",
    "#######c,chat = fesCChat.TrialFunction()\n",
    "#######cp,cphat = fesCChat.TestFunction()\n",
    "\n",
    "cchat = fesCChat.TrialFunction()\n",
    "c = cchat[0]\n",
    "chat = cchat[1]\n",
    "\n",
    "cpcphat = fesCChat.TestFunction()\n",
    "cp = cpcphat[0]\n",
    "cphat = cpcphat[1]\n",
    "\n",
    "#print(c.dims, chat.dims)\n",
    "#print(cp.dims, cphat.dims)\n",
    "\n",
    "    \n",
    "\n",
    "mc_cchat = BilinearForm(fesCChat)\n",
    "\n",
    "mc_cchat += InnerProduct(c,cp)*dx\n",
    "\n",
    "mc_cchat.Assemble()\n",
    "mc_cchatmat = mc_cchat.mat\n",
    "#mc_cchatmatinv = mc_cchatmat.Inverse(fesC.FreeDofs())\n",
    "\n",
    "    \n",
    "mstar = BilinearForm(fesCChat) \n",
    "    \n",
    "\n",
    "# normal mass term\n",
    "mstar += InnerProduct(c,cp)*dx\n",
    "    \n",
    "    \n",
    "eps = 0.000001\n",
    "mstar += eps*InnerProduct(chat,cphat)*dx(element_boundary=True)\n",
    "\n",
    "\n",
    "# the actual constraint\n",
    "#mstar += InnerProduct( c.Other() - c, cphat )*dx(skeleton=True)\n",
    "mstar += InnerProduct(c, cphat )*dx(element_boundary=True)\n",
    "# additional term to make matrix symmetric\n",
    "#mstar += InnerProduct( cp.Other() - cp, chat )*dx(skeleton=True)\n",
    "mstar += InnerProduct(cp, chat )*dx(element_boundary=True)\n",
    "\n",
    "\n",
    "mstar.Assemble()\n",
    "mstarmat = mstar.mat\n"
   ]
  },
  {
   "cell_type": "code",
   "execution_count": null,
   "id": "90804c0f",
   "metadata": {},
   "outputs": [],
   "source": [
    "# solve \n",
    "# Mstar*rho = M*rho0\n",
    "# with continuous rho0\n",
    "# for rho\n",
    "# should yield rho=rho0"
   ]
  },
  {
   "cell_type": "code",
   "execution_count": null,
   "id": "d504138c",
   "metadata": {
    "scrolled": false
   },
   "outputs": [],
   "source": [
    "gfuCChat = GridFunction(fesCChat)\n",
    "\n",
    "mstarmatinv = mstarmat.Inverse(fesCChat.FreeDofs(), inverse=\"umfpack\")\n",
    "\n",
    "gfrhoCChatdual = mc_cchatmat * gfrhoCChat.vec\n",
    "\n",
    "gfuCChat.vec.data[:] = mstarmatinv * gfrhoCChatdual"
   ]
  },
  {
   "cell_type": "code",
   "execution_count": null,
   "id": "b6fd5a0c",
   "metadata": {},
   "outputs": [],
   "source": [
    "Draw(gfrhoCChat.components[0], mesh)\n",
    "Draw(gfuCChat.components[0], mesh)"
   ]
  },
  {
   "cell_type": "code",
   "execution_count": null,
   "id": "696ab4d8",
   "metadata": {},
   "outputs": [],
   "source": []
  },
  {
   "cell_type": "code",
   "execution_count": null,
   "id": "67d671a7",
   "metadata": {},
   "outputs": [],
   "source": []
  },
  {
   "cell_type": "code",
   "execution_count": null,
   "id": "0e742f76",
   "metadata": {},
   "outputs": [],
   "source": []
  }
 ],
 "metadata": {
  "kernelspec": {
   "display_name": "Python 3 (ipykernel)",
   "language": "python",
   "name": "python3"
  },
  "language_info": {
   "codemirror_mode": {
    "name": "ipython",
    "version": 3
   },
   "file_extension": ".py",
   "mimetype": "text/x-python",
   "name": "python",
   "nbconvert_exporter": "python",
   "pygments_lexer": "ipython3",
   "version": "3.10.6"
  }
 },
 "nbformat": 4,
 "nbformat_minor": 5
}
