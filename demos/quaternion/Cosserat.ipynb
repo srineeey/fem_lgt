{
 "cells": [
  {
   "cell_type": "markdown",
   "id": "d9942dca",
   "metadata": {},
   "source": [
    "# Cosserat - beam\n",
    "\n",
    "Srinath Bulusu, Joachim Schöberl\n",
    "\n",
    "Method from [Sander, 2008]"
   ]
  },
  {
   "cell_type": "code",
   "execution_count": null,
   "id": "8d064617",
   "metadata": {},
   "outputs": [],
   "source": [
    "import liegroupfem\n",
    "dir(liegroupfem)"
   ]
  },
  {
   "cell_type": "code",
   "execution_count": null,
   "id": "c27b71f7",
   "metadata": {},
   "outputs": [],
   "source": [
    "from ngsolve import *\n",
    "from ngsolve.meshes import *\n",
    "from ngsolve.solvers import *\n",
    "from liegroupfem import *\n",
    "from ngsolve.webgui import Draw\n",
    "\n",
    "mesh = Make1DMesh(n=10)"
   ]
  },
  {
   "cell_type": "code",
   "execution_count": null,
   "id": "be9d42c9",
   "metadata": {},
   "outputs": [],
   "source": [
    "fes1 = H1(mesh,order=2, dirichlet=\"left\")**3\n",
    "fes2 = H1(mesh,order=2, dirichlet=\"left\")**4  # for quaternions\n",
    "fes = fes1*fes2\n",
    "fes1.ndof, fes2.ndof"
   ]
  },
  {
   "cell_type": "markdown",
   "id": "b696930a",
   "metadata": {},
   "source": [
    "Rotation matrix from quaternion q:"
   ]
  },
  {
   "cell_type": "markdown",
   "id": "968be510",
   "metadata": {},
   "source": [
    "def SO3CF(q):\n",
    "    q = q/Norm(q)\n",
    "    qv = q[1:4]\n",
    "    qs = q[0]\n",
    "    rotmat = qs*OuterProduct(qv, qv) \\\n",
    "        +CF( (0, -qv[2], qv[1],  qv[2], 0, -qv[0],  -qv[1], qv[0], 0)).Reshape((3,3)) \\\n",
    "        -(qv*qv)*Id(3)\n",
    "    rotmat = 2*rotmat\n",
    "    rotmat = rotmat + Id(3)\n",
    "    return rotmat"
   ]
  },
  {
   "cell_type": "code",
   "execution_count": null,
   "id": "c8d2644b",
   "metadata": {},
   "outputs": [],
   "source": [
    "phi, q = fes.TrialFunction()"
   ]
  },
  {
   "cell_type": "markdown",
   "id": "596aa427",
   "metadata": {},
   "source": [
    "rotation = SO3CF(q)\n",
    "ngsglobals.msg_level=5\n",
    "# directional derivative of q -> SO3(q)\n",
    "gradrotation = rotation.Diff(q, grad(q))  \n",
    "#print (rotation.Compile(True, keep_files=True))\n",
    "# print (gradrotation.Compile())\n",
    "\n",
    "# shear + bending energies:\n",
    "def W(r, q): \n",
    "    shear = grad(r)+CF((1,0,0))-rotation[:,0]\n",
    "    return 100*InnerProduct(shear,shear) + \\\n",
    "        InnerProduct(gradrotation,gradrotation) + \\\n",
    "        (Norm(q)**2-1)**2"
   ]
  },
  {
   "cell_type": "code",
   "execution_count": null,
   "id": "1b105ae6",
   "metadata": {
    "scrolled": false
   },
   "outputs": [],
   "source": [
    "# shear + bending energies:\n",
    "def W(r, r_init, q, q_init):\n",
    "    \n",
    "    rotmat = SO3CF(q)\n",
    "    rotmat_init = SO3CF(q_init)\n",
    "    \n",
    "    #bend+torsion term\n",
    "    so3_vec = (rotmat.Diff(q, grad(q)))*rotmat.trans\n",
    "    so3_init_vec = (rotmat_init.Diff(q_init, grad(q_init)))*rotmat_init.trans\n",
    "    so3_diff_vec = so3_vec - so3_init_vec\n",
    "    #TODO: matrix entry wise multiplication with material parameter\n",
    "    so3_material = 1.\n",
    "    so3_strain_vec = so3_diff_vec*so3_material\n",
    "    bend_torsion = Trace(so3_strain_vec * (so3_strain_vec.trans))\n",
    "    \n",
    "    #shear+stretch term\n",
    "    tangent_vec = grad(r)\n",
    "    tangent_init_vec = grad(r_init)\n",
    "    #TODO: vector entry wise multiplication with material parameter\n",
    "    tangent_material = 100.\n",
    "    #TODO: coupling to rotmat SO3 cross section\n",
    "    tangent_strain_vec = (rotmat.trans*tangent_vec - rotmat_init.trans*tangent_init_vec)*tangent_material\n",
    "    shear_stretch = InnerProduct(tangent_strain_vec, tangent_strain_vec)\n",
    "\n",
    "    #return bend_torsion + shear_stretch\n",
    "    return bend_torsion + shear_stretch + (Norm(q)**2-1)**2\n",
    "\n",
    "\n",
    "def get_force_term(r, r_init_gf, q, q_init, force_gf):\n",
    "    \n",
    "    rotmat = SO3CF(q)\n",
    "    rotmat_init = SO3CF(q_init)\n",
    "    \n",
    "    return InnerProduct(force_gf, rotmat.trans*grad(r) - rotmat_init.trans*grad(r_init_gf))\n",
    "    #return InnerProduct(force_gf, r - r_init_gf)\n",
    "\n",
    "def get_moment_term(q, q_init, moment_gf):\n",
    "    \n",
    "    moment_so3_mat = VecCrossMatCF(moment_gf)\n",
    "\n",
    "    rotmat = SO3CF(q)\n",
    "    rotmat_init = SO3CF(q_init)\n",
    "    so3_vec = (rotmat.Diff(q, grad(q)))*Inv(rotmat)\n",
    "    so3_init_vec = (rotmat_init.Diff(q_init, grad(q_init)))*Inv(rotmat_init)\n",
    "    so3_diff_vec = so3_vec - so3_init_vec\n",
    "    #so3_diff_vec = so3_vec\n",
    "    \n",
    "    return Trace(so3_diff_vec * (moment_so3_mat.trans))"
   ]
  },
  {
   "cell_type": "code",
   "execution_count": null,
   "id": "1742625d",
   "metadata": {},
   "outputs": [],
   "source": [
    "a = BilinearForm(fes)\n",
    "#angle = 0.5*pi\n",
    "# q_init_cf = (sqrt(1-x*x*cos(0.5*angle)*cos(0.5*angle)), 0, x*sin(0.5*angle), 0)\n",
    "q_init_cf = (1, 0, 0, 0)\n",
    "q_init_gf = GridFunction(fes2)\n",
    "q_init_gf.Set(q_init_cf)\n",
    "\n",
    "r_init_gf = GridFunction(fes1)\n",
    "# r_init_gf.Set((sin(x),cos(x),0))\n",
    "r_init_gf.Set((x,0,0))\n",
    "\n",
    "a += Variation( W(phi, r_init_gf, q, q_init_gf)* dx )\n",
    "#a += Variation( W(phi, q)* dx )\n",
    "\n",
    "#external forces\n",
    "load = Parameter(1.)\n",
    "dload = 1.\n",
    "\n",
    "#boundary forces\n",
    "#force_dir = (0.,1.,0.)\n",
    "#force_mod = 1.\n",
    "#for i in range(0,3):\n",
    "#    a += Variation( force_mod*force_dir[i]*load*phi[i]*ds(\"right\") )\n",
    "\n",
    "#external force densities\n",
    "#force_gf = GridFunction(fes1)\n",
    "#force_gf.Set((0.,10.*load*x, 0.))\n",
    "#force_gf.Set((0.,100.*x, 0.))\n",
    "#force_term = get_force_term(phi, r_init_gf, q, q_init_gf, force_gf)\n",
    "#a += Variation(force_term*dx)\n",
    "\n",
    "\n",
    "#external momentum densitites\n",
    "#moment = (0., 2*load*x, 0.)\n",
    "moment = (load*x, 0., 0.)\n",
    "moment_gf = GridFunction(fes1)\n",
    "moment_gf.Set(moment)\n",
    "moment_term = get_moment_term(q, q_init_gf, moment_gf)\n",
    "a += Variation( moment_term*dx )"
   ]
  },
  {
   "cell_type": "code",
   "execution_count": null,
   "id": "d4f86ce9",
   "metadata": {},
   "outputs": [],
   "source": [
    "print(load.Get())"
   ]
  },
  {
   "cell_type": "code",
   "execution_count": null,
   "id": "d8c5484d",
   "metadata": {},
   "outputs": [],
   "source": [
    "gfu = GridFunction(fes)\n",
    "gfu.components[1].Set( (1,0,0,0) )\n",
    "#gfu.components[1].Set( q_init_cf )\n",
    "#gfu.components[0].Set( (0,0,0) )\n",
    "gfu.components[0].Set( (x,0,0) )\n",
    "for i in range(5):\n",
    "    load.Set(load.Get()+dload)\n",
    "    print(\"load:\", load.Get())\n",
    "    NewtonMinimization (a, gfu, fes.FreeDofs())"
   ]
  },
  {
   "cell_type": "code",
   "execution_count": null,
   "id": "26ff6765",
   "metadata": {},
   "outputs": [],
   "source": [
    "n = 13  # drawing frames, independent of mesh\n",
    "pts = [j/n for j in range(n+1)]\n",
    "uvals = [gfu.components[0](mesh(p)) for p in pts]\n",
    "q1vals = [ (SO3CF(gfu.components[1])*CF((1,0,0)))(mesh(p)) for p in pts]\n",
    "q2vals = [ (SO3CF(gfu.components[1])*CF((0,1,0)))(mesh(p)) for p in pts]\n",
    "q3vals = [ (SO3CF(gfu.components[1])*CF((0,0,1)))(mesh(p)) for p in pts]\n",
    "\n",
    "# print (uvals)\n",
    "ll = 0.05\n",
    "lpts1 = []\n",
    "for p,u,q1 in zip(pts, uvals, q1vals):\n",
    "    lpts1 += [p+u[0], u[1], u[2], \\\n",
    "             p+u[0]+ll*q1[0], u[1]+ll*q1[1], u[2]+ll*q1[2]]\n",
    "lines1 = { \"type\": \"lines\", \"position\": lpts1, \"name\": \"my lines\", \"color\" : \"red\"}\n",
    "\n",
    "lpts2 = []\n",
    "for p,u,q2 in zip(pts, uvals, q2vals):\n",
    "    lpts2 += [p+u[0], u[1], u[2], \\\n",
    "             p+u[0]+ll*q2[0], u[1]+ll*q2[1], u[2]+ll*q2[2]]\n",
    "lines2 = { \"type\": \"lines\", \"position\": lpts2, \"name\": \"my lines\", \"color\" : \"green\"}\n",
    "\n",
    "lpts3 = []\n",
    "for p,u,q3 in zip(pts, uvals, q3vals):\n",
    "    lpts3 += [p+u[0], u[1], u[2], \\\n",
    "             p+u[0]+ll*q3[0], u[1]+ll*q3[1], u[2]+ll*q3[2]]\n",
    "lines3 = { \"type\": \"lines\", \"position\": lpts3, \"name\": \"my lines\", \"color\" : \"blue\"}"
   ]
  },
  {
   "cell_type": "code",
   "execution_count": null,
   "id": "d431f67d",
   "metadata": {},
   "outputs": [],
   "source": [
    "Draw (gfu.components[0], deformation=gfu.components[0], objects=[lines1, lines2, lines3]);"
   ]
  },
  {
   "cell_type": "code",
   "execution_count": null,
   "id": "67723465",
   "metadata": {},
   "outputs": [],
   "source": []
  },
  {
   "cell_type": "code",
   "execution_count": null,
   "id": "c2e4852b",
   "metadata": {},
   "outputs": [],
   "source": []
  },
  {
   "cell_type": "code",
   "execution_count": null,
   "id": "30f9f2a0",
   "metadata": {},
   "outputs": [],
   "source": []
  },
  {
   "cell_type": "code",
   "execution_count": null,
   "id": "22bc3f7b",
   "metadata": {},
   "outputs": [],
   "source": []
  }
 ],
 "metadata": {
  "kernelspec": {
   "display_name": "Python 3 (ipykernel)",
   "language": "python",
   "name": "python3"
  },
  "language_info": {
   "codemirror_mode": {
    "name": "ipython",
    "version": 3
   },
   "file_extension": ".py",
   "mimetype": "text/x-python",
   "name": "python",
   "nbconvert_exporter": "python",
   "pygments_lexer": "ipython3",
   "version": "3.10.12"
  }
 },
 "nbformat": 4,
 "nbformat_minor": 5
}
