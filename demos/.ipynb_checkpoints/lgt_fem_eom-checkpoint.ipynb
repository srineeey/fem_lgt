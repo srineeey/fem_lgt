{
 "cells": [
  {
   "cell_type": "code",
   "execution_count": 1,
   "id": "8018d203",
   "metadata": {
    "scrolled": false
   },
   "outputs": [
    {
     "ename": "ModuleNotFoundError",
     "evalue": "No module named 'ngsolve'",
     "output_type": "error",
     "traceback": [
      "\u001b[0;31m---------------------------------------------------------------------------\u001b[0m",
      "\u001b[0;31mModuleNotFoundError\u001b[0m                       Traceback (most recent call last)",
      "\u001b[0;32m/tmp/ipykernel_5743/3826310158.py\u001b[0m in \u001b[0;36m<module>\u001b[0;34m\u001b[0m\n\u001b[0;32m----> 1\u001b[0;31m \u001b[0;32mfrom\u001b[0m \u001b[0mngsolve\u001b[0m \u001b[0;32mimport\u001b[0m \u001b[0;34m*\u001b[0m\u001b[0;34m\u001b[0m\u001b[0;34m\u001b[0m\u001b[0m\n\u001b[0m\u001b[1;32m      2\u001b[0m \u001b[0;34m\u001b[0m\u001b[0m\n\u001b[1;32m      3\u001b[0m \u001b[0;32mfrom\u001b[0m \u001b[0mngsolve\u001b[0m\u001b[0;34m.\u001b[0m\u001b[0mmeshes\u001b[0m \u001b[0;32mimport\u001b[0m \u001b[0;34m*\u001b[0m\u001b[0;34m\u001b[0m\u001b[0;34m\u001b[0m\u001b[0m\n\u001b[1;32m      4\u001b[0m \u001b[0;31m#from ngsolve.solvers import *\u001b[0m\u001b[0;34m\u001b[0m\u001b[0;34m\u001b[0m\u001b[0m\n\u001b[1;32m      5\u001b[0m \u001b[0;32mfrom\u001b[0m \u001b[0mngsolve\u001b[0m\u001b[0;34m.\u001b[0m\u001b[0mwebgui\u001b[0m \u001b[0;32mimport\u001b[0m \u001b[0mDraw\u001b[0m\u001b[0;34m\u001b[0m\u001b[0;34m\u001b[0m\u001b[0m\n",
      "\u001b[0;31mModuleNotFoundError\u001b[0m: No module named 'ngsolve'"
     ]
    }
   ],
   "source": [
    "from ngsolve import *\n",
    "\n",
    "from ngsolve.meshes import *\n",
    "#from ngsolve.solvers import *\n",
    "from ngsolve.webgui import Draw\n",
    "from netgen.geom2d import unit_square\n",
    "\n",
    "import numpy as np\n",
    "#import matplotlib.pyplot as plt\n",
    "\n",
    "#from su2_yangmills import *\n",
    "from lgt import *"
   ]
  },
  {
   "cell_type": "code",
   "execution_count": 11,
   "id": "36783bd6",
   "metadata": {},
   "outputs": [
    {
     "data": {
      "application/vnd.jupyter.widget-view+json": {
       "model_id": "9368918361a440b7ab4bdfac2145fde0",
       "version_major": 2,
       "version_minor": 0
      },
      "text/plain": [
       "WebGuiWidget(layout=Layout(height='50vh', width='100%'), value={'gui_settings': {}, 'ngsolve_version': '6.2.22…"
      ]
     },
     "metadata": {},
     "output_type": "display_data"
    },
    {
     "data": {
      "text/plain": [
       "BaseWebGuiScene"
      ]
     },
     "execution_count": 11,
     "metadata": {},
     "output_type": "execute_result"
    }
   ],
   "source": [
    "ne=10\n",
    "#mesh = MakeStructured2DMesh(quads=True, nx=ne, ny=ne, periodic_x=True, periodic_y=True)\n",
    "#mesh = MakeStructured2DMesh(quads=True, nx=ne, ny=ne, periodic_x=False, periodic_y=False)\n",
    "mesh = MakeStructured2DMesh(quads=False, nx=ne, ny=ne, periodic_x=False, periodic_y=False)\n",
    "#mesh = Mesh(unit_square.GenerateMesh(maxh=0.1))\n",
    "Draw(mesh)"
   ]
  },
  {
   "cell_type": "code",
   "execution_count": 12,
   "id": "d39b33f9",
   "metadata": {},
   "outputs": [],
   "source": [
    "order=0\n",
    "fesC = L2(mesh, order=order)**3 # for su2 charge\n",
    "fesJ = HDiv(mesh, order=order, discontinuous=True)**3 # for su2 charge current\n",
    "\n",
    "# discrete connection one form sitting on borders\n",
    "#fesA = FacetFESpace(mesh, order=0)**3\n",
    "\n",
    "# parallel transport maps between neighbouring volumes, belonging to an oriented interface\n",
    "#TODO: orientation?\n",
    "fesU = FacetFESpace(mesh, order=0)**4\n",
    "\n",
    "# space of wilson loops centered around bones (= corners (2D) or edges (3D))\n",
    "fesW = H1(mesh, order=order)**4\n",
    "\n",
    "# space of action integrand\n",
    "fesS = H1(mesh, order=order)"
   ]
  },
  {
   "cell_type": "code",
   "execution_count": 13,
   "id": "36e8a96b",
   "metadata": {},
   "outputs": [
    {
     "data": {
      "application/vnd.jupyter.widget-view+json": {
       "model_id": "9d58562a535947e6befbc21c8d3a0032",
       "version_major": 2,
       "version_minor": 0
      },
      "text/plain": [
       "WebGuiWidget(layout=Layout(height='50vh', width='100%'), value={'gui_settings': {}, 'ngsolve_version': '6.2.22…"
      ]
     },
     "metadata": {},
     "output_type": "display_data"
    },
    {
     "data": {
      "text/plain": [
       "BaseWebGuiScene"
      ]
     },
     "execution_count": 13,
     "metadata": {},
     "output_type": "execute_result"
    }
   ],
   "source": [
    "gfU = GridFunction(fesU)\n",
    "\n",
    "#gfU.components[0].vec[:] = 1\n",
    "\n",
    "#phi  = 0.1*pi\n",
    "#gfU.components[0].vec[:] = cos(phi)\n",
    "#gfU.components[3].vec[:] = sin(phi)\n",
    "\n",
    "#phi_max = 0\n",
    "phi_max = 0.3*pi\n",
    "#phi_max = 0.5*pi\n",
    "phi_min = -phi_max\n",
    "phis = phi_min + (phi_max - phi_min)*np.random.rand(mesh.nedge)\n",
    "for e in range(mesh.nedge):\n",
    "    gfU.components[0].vec[e] = cos(phis[e])\n",
    "    gfU.components[3].vec[e] = sin(phis[e])\n",
    "    \n",
    "    \n",
    "gfW = GridFunction(fesW)\n",
    "calc_gfW(gfU, gfW, mesh)\n",
    "Draw(gfW[0], mesh)"
   ]
  },
  {
   "cell_type": "code",
   "execution_count": 14,
   "id": "dc35bfeb",
   "metadata": {},
   "outputs": [
    {
     "data": {
      "application/vnd.jupyter.widget-view+json": {
       "model_id": "34fd83841af54b6e9911749f2860dc6b",
       "version_major": 2,
       "version_minor": 0
      },
      "text/plain": [
       "WebGuiWidget(layout=Layout(height='50vh', width='100%'), value={'gui_settings': {}, 'ngsolve_version': '6.2.22…"
      ]
     },
     "metadata": {},
     "output_type": "display_data"
    },
    {
     "data": {
      "text/plain": [
       "BaseWebGuiScene"
      ]
     },
     "execution_count": 14,
     "metadata": {},
     "output_type": "execute_result"
    }
   ],
   "source": [
    "gfU = GridFunction(fesU)\n",
    "\n",
    "def calc_phi(edge):\n",
    "    \n",
    "    v0,v1 = edge.vertices\n",
    "    v0 = mesh.vertices[v0.nr]\n",
    "    v1 = mesh.vertices[v1.nr]\n",
    "    v0p = np.array(v0.point)\n",
    "    v1p = np.array(v1.point)\n",
    "    \n",
    "    ep = 0.5*(v0p + v1p)\n",
    "    le = np.linalg.norm(v1p - v0p)\n",
    "    edir = (v1p - v0p)/le\n",
    "    \n",
    "    phi_max = 0.3*pi\n",
    "    phi_min = 0\n",
    "    \n",
    "    def rvec(rp):\n",
    "        return np.array([rp[0] - 0.5, rp[1] - 0.5])/(np.linalg.norm(np.array([rp[0] - 0.5, rp[1] - 0.5]))+0.000001)\n",
    "    \n",
    "    phi = phi_min + edir.dot(rvec(ep))*(phi_max - phi_min)\n",
    "    \n",
    "    return phi\n",
    "\n",
    "    \n",
    "    if abs(ep[0] - 0.5) < 0.1:\n",
    "        return 0.3*pi*edir[0]\n",
    "    else:\n",
    "        return 0.\n",
    "        \n",
    "    #if np.linalg.norm(ep-np.array([0.5, 0.5])) < 0.2:\n",
    "    #    return 0.3*pi\n",
    "    #else:\n",
    "    #    return 0.\n",
    "\n",
    "#phi_max = 0\n",
    "phi_max = 0.3*pi\n",
    "#phi_max = 0.5*pi\n",
    "phi_min = -phi_max\n",
    "phis = phi_min + (phi_max - phi_min)*np.random.rand(mesh.nedge)\n",
    "for e in range(mesh.nedge):\n",
    "    edge = mesh.edges[e] \n",
    "    #print(mesh.edges[e])\n",
    "    \n",
    "    phie = calc_phi(edge)\n",
    "    \n",
    "    gfU.components[0].vec[e] = cos(phie)\n",
    "    gfU.components[3].vec[e] = sin(phie)\n",
    "    \n",
    "    \n",
    "gfW = GridFunction(fesW)\n",
    "calc_gfW(gfU, gfW, mesh)\n",
    "Draw(gfW[0], mesh)"
   ]
  },
  {
   "cell_type": "code",
   "execution_count": null,
   "id": "8a6cd8dd",
   "metadata": {
    "scrolled": true
   },
   "outputs": [],
   "source": []
  },
  {
   "cell_type": "code",
   "execution_count": 15,
   "id": "66554b79",
   "metadata": {},
   "outputs": [],
   "source": [
    "#TODO: visualize U\n",
    "fesUviz = HCurl(mesh, order=1)\n",
    "mviz = BilinearForm(fesUviz)\n",
    "u,v = fesUviz.TnT()\n",
    "mviz += u*v*dx(element_boundary=True)\n",
    "f = LinearForm(fesUviz)\n",
    "\n",
    "def tan(v):\n",
    "    n = specialcf.normal(2)\n",
    "    return v - (v*n)*n\n",
    "\n",
    "#f += gfU.components[0]*tan(v)*dx(element_boundary=True)\n",
    "f += gfU.components[0]*(v*specialcf.tangential(2))*dx(element_boundary=True)\n",
    "\n",
    "mviz.Assemble()\n",
    "f.Assemble()\n",
    "\n",
    "mvizinv = mviz.mat.Inverse(fesUviz.FreeDofs())\n",
    "\n",
    "\n",
    "gfUviz = GridFunction(fesUviz)\n",
    "gfUviz.vec.data = mvizinv*f.vec\n",
    "#Draw(gfUviz, mesh)"
   ]
  },
  {
   "cell_type": "code",
   "execution_count": 16,
   "id": "e91d14f2",
   "metadata": {
    "scrolled": false
   },
   "outputs": [
    {
     "name": "stdout",
     "output_type": "stream",
     "text": [
      "0.1\n",
      "0.3333333333333334\n",
      "0.0008333333333333335\n"
     ]
    }
   ],
   "source": [
    "feshc = HCurl(mesh, order=0)\n",
    "mhc = BilinearForm(feshc)\n",
    "uhc,vhc = feshc.TnT()\n",
    "mhc += InnerProduct(uhc,vhc)*dx\n",
    "mhc.Assemble()\n",
    "mhcmat = mhc.mat\n",
    "\n",
    "\n",
    "fesh1 = H1(mesh, order=1)\n",
    "mh1 = BilinearForm(fesh1)\n",
    "uh1,vh1 = fesh1.TnT()\n",
    "mh1 += InnerProduct(uh1,vh1)*dx\n",
    "mh1.Assemble()\n",
    "mh1mat = mh1.mat\n",
    "\n",
    "#dt = 0.1\n",
    "#dt = 0.5\n",
    "#t = 0.05\n",
    "dt = 1.\n",
    "\n",
    "a0 = dt\n",
    "ai = 1./ne\n",
    "\n",
    "a0i = a0*ai\n",
    "aij = ai*ai\n",
    "\n",
    "print(ai)\n",
    "\n",
    "M = mhcmat\n",
    "Mt = mh1mat\n",
    "\n",
    "Mee = M[0,0]\n",
    "Metet = Mt[0,0]\n",
    "\n",
    "print(Mee)\n",
    "print(Metet)"
   ]
  },
  {
   "cell_type": "code",
   "execution_count": 17,
   "id": "d504138c",
   "metadata": {
    "scrolled": false
   },
   "outputs": [],
   "source": [
    "\"\"\"EOM\"\"\"\n",
    "newgfU = GridFunction(fesU)\n",
    "oldgfU = GridFunction(fesU)\n",
    "\n",
    "mesh_oriented_vedges = []\n",
    "for v in mesh.vertices:\n",
    "    #print(v)\n",
    "    #print(type(v))\n",
    "    mesh_oriented_vedges.append(get_oriented_vedges_tan(v, mesh))\n",
    "\n",
    "def timestep(gfU, newgfU, oldgfU, mesh):\n",
    "\n",
    "    #iterate over all edges\n",
    "    for e in mesh.edges:\n",
    "        #print(e)\n",
    "        # TODO\n",
    "        # evaluate the new links vector part based on the old ones (in the edge-patch)\n",
    "        # caution: correct orientation for updates\n",
    "        # reconstruct new wilson loop (0-element) form vector part\n",
    "        # multiply conjugated old link to obtain new link\n",
    "\n",
    "        #edge = mesh.edges[edge]\n",
    "        v0, v1 = e.vertices\n",
    "        v0 = mesh.vertices[v0.nr]\n",
    "        v1 = mesh.vertices[v1.nr]\n",
    "        #print(v0)\n",
    "        #print(v1)\n",
    "\n",
    "        qU = np.array([gfU.components[i].vec[e.nr] for i in range(0,4)])\n",
    "        \n",
    "        # there are two spatial loops for each edge\n",
    "        # with opposite orientations\n",
    "        W_v0 = get_wilson_loop(gfU, v0, mesh, start_edge=e, vedges_list=mesh_oriented_vedges)\n",
    "        W_v1 = get_wilson_loop(gfU, v1, mesh, last_edge=e, vedges_list=mesh_oriented_vedges)\n",
    "        \n",
    "        # one old temporal loop for each edge\n",
    "        oldW_e = get_polyakov_loop(gfU, oldgfU, e, mesh, forward=True)\n",
    "\n",
    "        #TODO: check signs and orientation\n",
    "        #TODO: check mass matrix and dt factors\n",
    "        #mass matrix update\n",
    "        newW_evec = Mt[v0.nr,v0.nr]*vec_from_q(W_v0) - Mt[v1.nr,v1.nr]*vec_from_q(W_v1)\n",
    "        #TODO: dt factor?\n",
    "        #newW_evec = dt*newW_evec\n",
    "        newW_evec = newW_evec/dt\n",
    "        newW_evec += M[e.nr,e.nr]*vec_from_q(oldW_e)\n",
    "        newW_evec = (-1./M[e.nr,e.nr])*newW_evec\n",
    "        \n",
    "        if np.linalg.norm(newW_evec) > 1. :\n",
    "            raise ValueError(f\"update would lead to norm {np.linalg.norm(newW_evec)}\")\n",
    "\n",
    "        newW_e = np.array([np.sqrt(1 - newW_evec.dot(newW_evec)), *newW_evec])\n",
    "\n",
    "        #print(\"\\n\")\n",
    "        #print(\"updated\")\n",
    "        #print(old_qU)\n",
    "        #print(\"to\")\n",
    "        #print(new_qU)\n",
    "        \n",
    "        #TODO: multiply qU and newW_e\n",
    "        \n",
    "        newqU = qmul(qconj(newW_e), qU)\n",
    "\n",
    "        for i in range(0,4):\n",
    "            newgfU.components[i].vec.data[e.nr] = newqU[i]\n",
    "        #print(np.linalg.norm(new_qU))"
   ]
  },
  {
   "cell_type": "code",
   "execution_count": 18,
   "id": "46313a26",
   "metadata": {
    "scrolled": false
   },
   "outputs": [
    {
     "data": {
      "application/vnd.jupyter.widget-view+json": {
       "model_id": "38b7b33dd24a4c1595bcfd8e6a256bfe",
       "version_major": 2,
       "version_minor": 0
      },
      "text/plain": [
       "WebGuiWidget(layout=Layout(height='50vh', width='100%'), value={'gui_settings': {}, 'ngsolve_version': '6.2.22…"
      ]
     },
     "metadata": {},
     "output_type": "display_data"
    },
    {
     "name": "stdout",
     "output_type": "stream",
     "text": [
      " timestep:999"
     ]
    }
   ],
   "source": [
    "gfS = GridFunction(fesS)\n",
    "calc_wilson_action(gfW,gfS)\n",
    "\n",
    "#gfTrWscene = Draw(2*gfW[0], mesh)\n",
    "gfSscene = Draw(gfS, mesh)\n",
    "\n",
    "nt = 1000\n",
    "\n",
    "oldgfU.vec.data[:] = gfU.vec.data[:]\n",
    "\n",
    "for i in range(nt):\n",
    "    \n",
    "    timestep(gfU, newgfU, oldgfU, mesh)\n",
    "    \n",
    "    oldgfU.vec.data[:] = gfU.vec.data[:]\n",
    "    gfU.vec.data[:] = newgfU.vec[:]\n",
    "    \n",
    "    calc_gfW(gfU, gfW, mesh)\n",
    "    calc_wilson_action(gfW,gfS)\n",
    "    \n",
    "    \n",
    "    if i % 1 == 0:\n",
    "        #gfTrWscene.Redraw()\n",
    "        gfSscene.Redraw()\n",
    "        \n",
    "    print (\"\\r\", f\"timestep:{i}\", end=\"\")"
   ]
  },
  {
   "cell_type": "code",
   "execution_count": null,
   "id": "b6fd5a0c",
   "metadata": {},
   "outputs": [],
   "source": []
  },
  {
   "cell_type": "code",
   "execution_count": null,
   "id": "696ab4d8",
   "metadata": {},
   "outputs": [],
   "source": []
  },
  {
   "cell_type": "code",
   "execution_count": null,
   "id": "67d671a7",
   "metadata": {},
   "outputs": [],
   "source": []
  },
  {
   "cell_type": "code",
   "execution_count": null,
   "id": "0e742f76",
   "metadata": {},
   "outputs": [],
   "source": []
  }
 ],
 "metadata": {
  "kernelspec": {
   "display_name": "Python 3 (ipykernel)",
   "language": "python",
   "name": "python3"
  },
  "language_info": {
   "codemirror_mode": {
    "name": "ipython",
    "version": 3
   },
   "file_extension": ".py",
   "mimetype": "text/x-python",
   "name": "python",
   "nbconvert_exporter": "python",
   "pygments_lexer": "ipython3",
   "version": "3.10.6"
  }
 },
 "nbformat": 4,
 "nbformat_minor": 5
}
