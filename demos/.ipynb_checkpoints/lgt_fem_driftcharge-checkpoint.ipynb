{
 "cells": [
  {
   "cell_type": "code",
   "execution_count": 1,
   "id": "8018d203",
   "metadata": {
    "scrolled": false
   },
   "outputs": [],
   "source": [
    "from ngsolve import *\n",
    "\n",
    "from ngsolve.meshes import *\n",
    "#from ngsolve.solvers import *\n",
    "from ngsolve.webgui import Draw\n",
    "from netgen.geom2d import unit_square\n",
    "\n",
    "import numpy as np\n",
    "#import matplotlib.pyplot as plt\n",
    "\n",
    "#from su2_yangmills import *\n",
    "from lgt import *"
   ]
  },
  {
   "cell_type": "code",
   "execution_count": 2,
   "id": "36783bd6",
   "metadata": {},
   "outputs": [
    {
     "data": {
      "application/vnd.jupyter.widget-view+json": {
       "model_id": "da61c570f6ed459b9df631bca5a3325d",
       "version_major": 2,
       "version_minor": 0
      },
      "text/plain": [
       "WebGuiWidget(layout=Layout(height='50vh', width='100%'), value={'gui_settings': {}, 'ngsolve_version': '6.2.23…"
      ]
     },
     "metadata": {},
     "output_type": "display_data"
    },
    {
     "data": {
      "text/plain": [
       "BaseWebGuiScene"
      ]
     },
     "execution_count": 2,
     "metadata": {},
     "output_type": "execute_result"
    }
   ],
   "source": [
    "ne=20\n",
    "#mesh = MakeStructured2DMesh(quads=True, nx=ne, ny=ne, periodic_x=True, periodic_y=True)\n",
    "mesh = MakeStructured2DMesh(quads=True, nx=ne, ny=ne, periodic_x=False, periodic_y=False)\n",
    "#mesh = MakeStructured2DMesh(quads=False, nx=ne, ny=ne, periodic_x=False, periodic_y=False)\n",
    "#mesh = Mesh(unit_square.GenerateMesh(maxh=0.1))\n",
    "Draw(mesh)"
   ]
  },
  {
   "cell_type": "code",
   "execution_count": 3,
   "id": "d39b33f9",
   "metadata": {},
   "outputs": [],
   "source": [
    "order=1\n",
    "fesC = L2(mesh, order=order)**3 # for su2 charge\n",
    "#fesC = H1(mesh, order=order)**3 # for su2 charge\n",
    "\n",
    "# for gauge gluing\n",
    "fesChat = FacetFESpace(mesh, order=order)**3\n",
    "\n",
    "fesCChat = fesC*fesChat\n",
    "\n",
    "# parallel transport maps between neighbouring volumes, belonging to an oriented interface\n",
    "#TODO: orientation?\n",
    "fesU = FacetFESpace(mesh, order=0)**4"
   ]
  },
  {
   "cell_type": "code",
   "execution_count": 4,
   "id": "36e8a96b",
   "metadata": {},
   "outputs": [],
   "source": [
    "gfU = GridFunction(fesU)\n",
    "\n",
    "gfU.components[0].vec[:] = 1"
   ]
  },
  {
   "cell_type": "code",
   "execution_count": 5,
   "id": "6ff4409c",
   "metadata": {},
   "outputs": [
    {
     "data": {
      "application/vnd.jupyter.widget-view+json": {
       "model_id": "26a7e1b8fc00469e97a438096dd46fe0",
       "version_major": 2,
       "version_minor": 0
      },
      "text/plain": [
       "WebGuiWidget(layout=Layout(height='50vh', width='100%'), value={'gui_settings': {}, 'ngsolve_version': '6.2.23…"
      ]
     },
     "metadata": {},
     "output_type": "display_data"
    },
    {
     "data": {
      "text/plain": [
       "BaseWebGuiScene"
      ]
     },
     "execution_count": 5,
     "metadata": {},
     "output_type": "execute_result"
    }
   ],
   "source": [
    "cfwind =  CF( (y-0.5,-(x-0.5)) )\n",
    "\n",
    "Draw(cfwind, mesh)"
   ]
  },
  {
   "cell_type": "code",
   "execution_count": 6,
   "id": "5c44c88f",
   "metadata": {},
   "outputs": [
    {
     "data": {
      "application/vnd.jupyter.widget-view+json": {
       "model_id": "d2da6f66453847e5a610f3737143fd53",
       "version_major": 2,
       "version_minor": 0
      },
      "text/plain": [
       "WebGuiWidget(layout=Layout(height='50vh', width='100%'), value={'gui_settings': {}, 'ngsolve_version': '6.2.23…"
      ]
     },
     "metadata": {},
     "output_type": "display_data"
    },
    {
     "data": {
      "application/vnd.jupyter.widget-view+json": {
       "model_id": "c0e51237626a402f8123259dd07f4179",
       "version_major": 2,
       "version_minor": 0
      },
      "text/plain": [
       "WebGuiWidget(layout=Layout(height='50vh', width='100%'), value={'gui_settings': {}, 'ngsolve_version': '6.2.23…"
      ]
     },
     "metadata": {},
     "output_type": "display_data"
    },
    {
     "data": {
      "text/plain": [
       "BaseWebGuiScene"
      ]
     },
     "execution_count": 6,
     "metadata": {},
     "output_type": "execute_result"
    }
   ],
   "source": [
    "def gaussxy(mu, sigma2):\n",
    "    #return 1/sqrt(sigma2) * exp(-1/sigma2 *( (x-mu[0])*(x-mu[0]) + (y-mu[1])*(y-mu[1])))\n",
    "    return 1/sqrt(sigma2) * gaussx(mu[0], sigma2) * gaussy(mu[1], sigma2)\n",
    "\n",
    "def gaussx(mu, sigma2):\n",
    "    return 1/sqrt(sigma2) * exp(-1/sigma2 *( (x-mu)*(x-mu)))\n",
    "\n",
    "def gaussy(mu, sigma2):\n",
    "    return 1/sqrt(sigma2) * exp(-1/sigma2 *( (y-mu)*(y-mu)))\n",
    "\n",
    "mu= [0.5,0.3]\n",
    "sigma2 = 0.01\n",
    "\n",
    "def rho():\n",
    "    return 0.001*gaussxy(mu, sigma2) \n",
    "\n",
    "#rhoCF = CF( (y,2*x,0) )\n",
    "rhoCF = CF( (rho(), 0, 0) )\n",
    "\n",
    "gfrho = GridFunction(fesC)\n",
    "gfrho.Set( rhoCF )\n",
    "\n",
    "c = rhoCF\n",
    "gradc = CF( (c.Diff(x), c.Diff(y)) ).Reshape((2,3))\n",
    "\n",
    "\n",
    "#Draw(gradc[0,1], mesh)\n",
    "Draw(Norm(c), mesh)\n",
    "Draw(Norm(gfrho), mesh)"
   ]
  },
  {
   "cell_type": "code",
   "execution_count": null,
   "id": "a89f94eb",
   "metadata": {},
   "outputs": [],
   "source": []
  },
  {
   "cell_type": "code",
   "execution_count": 7,
   "id": "166b70b2",
   "metadata": {},
   "outputs": [],
   "source": [
    "#dt = 0.1\n",
    "#dt = 0.5\n",
    "dt = 0.0001\n",
    "#dt = 1.\n",
    "nt = 10000"
   ]
  },
  {
   "cell_type": "code",
   "execution_count": 8,
   "id": "e91d14f2",
   "metadata": {
    "scrolled": false
   },
   "outputs": [
    {
     "name": "stdout",
     "output_type": "stream",
     "text": [
      "0: 3\n",
      " 0: 3\n",
      "\n",
      "0: 3\n",
      " 0: 3\n",
      "\n",
      "catch in AssembleBilinearform 2: SparseMatrixTM::AddElementMatrix: illegal dnums\n"
     ]
    },
    {
     "ename": "NgException",
     "evalue": "SparseMatrixTM::AddElementMatrix: illegal dnumsin Assemble BilinearForm 'biform_from_py'\n",
     "output_type": "error",
     "traceback": [
      "\u001b[0;31m---------------------------------------------------------------------------\u001b[0m",
      "\u001b[0;31mNgException\u001b[0m                               Traceback (most recent call last)",
      "\u001b[0;32m/tmp/ipykernel_16639/4173370010.py\u001b[0m in \u001b[0;36m<module>\u001b[0;34m\u001b[0m\n\u001b[1;32m     46\u001b[0m \u001b[0mmstar\u001b[0m \u001b[0;34m+=\u001b[0m \u001b[0;34m-\u001b[0m\u001b[0mdt\u001b[0m\u001b[0;34m*\u001b[0m\u001b[0mInnerProduct\u001b[0m\u001b[0;34m(\u001b[0m \u001b[0mjumpcp\u001b[0m\u001b[0;34m,\u001b[0m \u001b[0mchat\u001b[0m \u001b[0;34m)\u001b[0m\u001b[0;34m*\u001b[0m\u001b[0mdx\u001b[0m\u001b[0;34m(\u001b[0m\u001b[0mskeleton\u001b[0m\u001b[0;34m=\u001b[0m\u001b[0;32mTrue\u001b[0m\u001b[0;34m)\u001b[0m\u001b[0;34m\u001b[0m\u001b[0;34m\u001b[0m\u001b[0m\n\u001b[1;32m     47\u001b[0m \u001b[0;34m\u001b[0m\u001b[0m\n\u001b[0;32m---> 48\u001b[0;31m \u001b[0mmstar\u001b[0m\u001b[0;34m.\u001b[0m\u001b[0mAssemble\u001b[0m\u001b[0;34m(\u001b[0m\u001b[0;34m)\u001b[0m\u001b[0;34m\u001b[0m\u001b[0;34m\u001b[0m\u001b[0m\n\u001b[0m\u001b[1;32m     49\u001b[0m \u001b[0mmstarmat\u001b[0m \u001b[0;34m=\u001b[0m \u001b[0mmstar\u001b[0m\u001b[0;34m.\u001b[0m\u001b[0mmat\u001b[0m\u001b[0;34m\u001b[0m\u001b[0;34m\u001b[0m\u001b[0m\n\u001b[1;32m     50\u001b[0m \u001b[0mmstarmatinv\u001b[0m \u001b[0;34m=\u001b[0m \u001b[0mmstarmat\u001b[0m\u001b[0;34m.\u001b[0m\u001b[0mInverse\u001b[0m\u001b[0;34m(\u001b[0m\u001b[0mfesCChat\u001b[0m\u001b[0;34m.\u001b[0m\u001b[0mFreeDofs\u001b[0m\u001b[0;34m(\u001b[0m\u001b[0;34m)\u001b[0m\u001b[0;34m)\u001b[0m\u001b[0;34m\u001b[0m\u001b[0;34m\u001b[0m\u001b[0m\n",
      "\u001b[0;31mNgException\u001b[0m: SparseMatrixTM::AddElementMatrix: illegal dnumsin Assemble BilinearForm 'biform_from_py'\n"
     ]
    }
   ],
   "source": [
    "#TODO: conv for FesCChat?\n",
    "conv = BilinearForm(trialspace=fesC, testspace=fesC, nonassemble=True)\n",
    "c,cp = fesC.TnT()\n",
    "\n",
    "\n",
    "\n",
    "#TODO:boundary term\n",
    "conv += InnerProduct(OuterProduct(cfwind, c), grad(cp))*dx\n",
    "\n",
    "#TODO: orientation of U vs skeleton!\n",
    "\n",
    "def jump(f):\n",
    "    return qmulCF(qmulCF(gfU, f.Other()), qconjCF(gfU)) - f\n",
    "\n",
    "jumpc = vec_from_q( qmulCF(qmulCF(gfU, q_from_vecCF(c.Other())), qconjCF(gfU)) - q_from_vecCF(c) )\n",
    "jumpcp = vec_from_q( qmulCF(qmulCF(gfU, q_from_vecCF(cp.Other())), qconjCF(gfU)) - q_from_vecCF(cp) )\n",
    "\n",
    "\n",
    "conv += 10*InnerProduct( jumpc, jumpcp )*dx(skeleton=True)\n",
    "\n",
    "\n",
    "#mc = BilinearForm(fesC)\n",
    "#c,cp = fesC.TnT()\n",
    "#mc += InnerProduct(c,cp)*dx\n",
    "#mc.Assemble()\n",
    "#mcmat = mc.mat\n",
    "#mcmatinv = mcmat.Inverse(fesC.FreeDofs())\n",
    "\n",
    "\n",
    "mstar = BilinearForm(fesCChat) \n",
    "c,chat = fesCChat.TrialFunction()\n",
    "cp,cphat = fesCChat.TestFunction()\n",
    "\n",
    "print(c.dims, chat.dims)\n",
    "print(cp.dims, cphat.dims)\n",
    "\n",
    "mstar += InnerProduct(c,cp)*dx\n",
    "#mstar += InnerProduct(chat,cphat)*dx(skeleton=True)\n",
    "\n",
    "\n",
    "# the actual constraint\n",
    "jumpc = vec_from_q( qmulCF(qmulCF(gfU, q_from_vecCF(c.Other())), qconjCF(gfU)) - q_from_vecCF(c) )\n",
    "mstar += -dt*InnerProduct( jumpc, cphat )*dx(skeleton=True)\n",
    "\n",
    "# additional term to make matrix symmetric\n",
    "jumpcp = vec_from_q( qmulCF(qmulCF(gfU, q_from_vecCF(cp.Other())), qconjCF(gfU)) - q_from_vecCF(cp) )\n",
    "mstar += -dt*InnerProduct( jumpcp, chat )*dx(skeleton=True)\n",
    "\n",
    "mstar.Assemble()\n",
    "mstarmat = mstar.mat\n",
    "mstarmatinv = mstarmat.Inverse(fesCChat.FreeDofs())\n",
    "\n",
    "#covdiv.Assemble()\n",
    "#convdivmat = covdiv.mat"
   ]
  },
  {
   "cell_type": "code",
   "execution_count": null,
   "id": "d504138c",
   "metadata": {
    "scrolled": false
   },
   "outputs": [],
   "source": [
    "\n",
    "\n",
    "tempC = gfrho.vec.CreateVector()\n",
    "newgfrho = GridFunction(fesC)\n",
    "\n",
    "def timestep_charge(gfC, newgfC):\n",
    "    newgfC.vec.data[:] = gfC.vec[:]\n",
    "    #tempC.data[:] = covdivmat* (gfJ.vec)\n",
    "    conv.Apply(gfC.vec, tempC)\n",
    "    #tempC = dt* mcmatinv*tempC\n",
    "    #newgfC.vec.data[:] -= dt*mcmatinv* (covdivmat*gfJ.vec)\n",
    "    newgfC.vec.data[:] -= dt*mcmatinv* tempC\n",
    "    #newgfC.vec.data[:] -= tempC.vec[:]\n",
    "    gfC.vec.data[:] = newgfC.vec[:]\n",
    "\n",
    "\n",
    "# TODO: create initial charge as GridFunction\n",
    "gfCChat = GridFunction(fesCChat)\n",
    "newgfCChat = GridFunction(fesCChat)\n",
    "tempCChat = newgfCChat.vec.CreateVector()\n",
    "\n",
    "def timestep_charge_lagrange(gfCChat, newgfCChat):\n",
    "    newgfCChat.vec.data[:] = gfCChat.vec[:]\n",
    "    # TODO: correct component indexing?\n",
    "    conv.Apply(gfCChat.components[0].vec, tempC)\n",
    "    tempCChat.components[0].vec.data[:] = tempC\n",
    "    tempCChat.components[1].vec.data[:] = gfCChat.components[1].vec[:]\n",
    "    newgfCChat.vec.data[:] -= dt*mstarmatinv* tempCChat\n",
    "    gfCChat.vec.data[:] = newgfCChat.vec[:]\n"
   ]
  },
  {
   "cell_type": "code",
   "execution_count": null,
   "id": "114655ff",
   "metadata": {},
   "outputs": [],
   "source": [
    "Integrate(Norm(gfrho), mesh)"
   ]
  },
  {
   "cell_type": "code",
   "execution_count": null,
   "id": "46313a26",
   "metadata": {
    "scrolled": false
   },
   "outputs": [],
   "source": [
    "gfCscene = Draw(Norm(gfrho), mesh)\n",
    "#gfCscene = Draw(gfC[0], mesh)\n",
    "\n",
    "for i in range(nt):\n",
    "    timestep_charge(gfrho, newgfrho)\n",
    "\n",
    "    \n",
    "    if i % 1 == 0:\n",
    "        gfCscene.Redraw()\n",
    "        \n",
    "    print (\"\\r\", f\"timestep:{i}\", end=\"\")"
   ]
  },
  {
   "cell_type": "code",
   "execution_count": null,
   "id": "b6fd5a0c",
   "metadata": {},
   "outputs": [],
   "source": [
    "Integrate(Norm(gfrho), mesh)"
   ]
  },
  {
   "cell_type": "code",
   "execution_count": null,
   "id": "696ab4d8",
   "metadata": {},
   "outputs": [],
   "source": []
  },
  {
   "cell_type": "code",
   "execution_count": null,
   "id": "67d671a7",
   "metadata": {},
   "outputs": [],
   "source": []
  },
  {
   "cell_type": "code",
   "execution_count": null,
   "id": "0e742f76",
   "metadata": {},
   "outputs": [],
   "source": []
  }
 ],
 "metadata": {
  "kernelspec": {
   "display_name": "Python 3 (ipykernel)",
   "language": "python",
   "name": "python3"
  },
  "language_info": {
   "codemirror_mode": {
    "name": "ipython",
    "version": 3
   },
   "file_extension": ".py",
   "mimetype": "text/x-python",
   "name": "python",
   "nbconvert_exporter": "python",
   "pygments_lexer": "ipython3",
   "version": "3.10.6"
  }
 },
 "nbformat": 4,
 "nbformat_minor": 5
}
