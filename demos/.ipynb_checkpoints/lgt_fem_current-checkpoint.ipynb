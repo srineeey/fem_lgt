{
 "cells": [
  {
   "cell_type": "code",
   "execution_count": null,
   "id": "8018d203",
   "metadata": {
    "scrolled": false
   },
   "outputs": [],
   "source": [
    "from ngsolve import *\n",
    "\n",
    "from ngsolve.meshes import *\n",
    "#from ngsolve.solvers import *\n",
    "from ngsolve.webgui import Draw\n",
    "from netgen.geom2d import unit_square\n",
    "\n",
    "import numpy as np\n",
    "#import matplotlib.pyplot as plt\n",
    "\n",
    "#from su2_yangmills import *\n",
    "from lgt import *"
   ]
  },
  {
   "cell_type": "code",
   "execution_count": null,
   "id": "36783bd6",
   "metadata": {},
   "outputs": [],
   "source": [
    "ne=20\n",
    "#mesh = MakeStructured2DMesh(quads=True, nx=ne, ny=ne, periodic_x=True, periodic_y=True)\n",
    "mesh = MakeStructured2DMesh(quads=True, nx=ne, ny=ne, periodic_x=False, periodic_y=False)\n",
    "#mesh = MakeStructured2DMesh(quads=False, nx=ne, ny=ne, periodic_x=False, periodic_y=False)\n",
    "#mesh = Mesh(unit_square.GenerateMesh(maxh=0.1))\n",
    "Draw(mesh)"
   ]
  },
  {
   "cell_type": "code",
   "execution_count": null,
   "id": "d39b33f9",
   "metadata": {},
   "outputs": [],
   "source": [
    "order=0\n",
    "fesC = L2(mesh, order=order)**3 # for su2 charge\n",
    "#TODO: discontinuous working?\n",
    "fesJ = HDiv(mesh, order=order, discontinuous=True)**3 # for su2 charge current\n",
    "#fesJ = HDiv(mesh, order=order)**3 # for su2 charge current\n",
    "\n",
    "# discrete connection one form sitting on borders\n",
    "#fesA = FacetFESpace(mesh, order=0)**3\n",
    "\n",
    "# parallel transport maps between neighbouring volumes, belonging to an oriented interface\n",
    "#TODO: orientation?\n",
    "fesU = FacetFESpace(mesh, order=0)**4\n",
    "\n",
    "# space of wilson loops centered around bones (= corners (2D) or edges (3D))\n",
    "# for visualization only!\n",
    "fesW = H1(mesh, order=order)**4\n",
    "\n",
    "# space of action integrand\n",
    "# for visualization only!\n",
    "fesS = H1(mesh, order=order)"
   ]
  },
  {
   "cell_type": "code",
   "execution_count": null,
   "id": "36e8a96b",
   "metadata": {},
   "outputs": [],
   "source": [
    "gfU = GridFunction(fesU)\n",
    "\n",
    "gfU.components[0].vec[:] = 1"
   ]
  },
  {
   "cell_type": "code",
   "execution_count": null,
   "id": "e91d14f2",
   "metadata": {
    "scrolled": false
   },
   "outputs": [],
   "source": [
    "feshc = HCurl(mesh, order=0)\n",
    "mhc = BilinearForm(feshc)\n",
    "uhc,vhc = feshc.TnT()\n",
    "mhc += InnerProduct(uhc,vhc)*dx\n",
    "mhc.Assemble()\n",
    "mhcmat = mhc.mat\n",
    "\n",
    "\n",
    "fesh1 = H1(mesh, order=1)\n",
    "mh1 = BilinearForm(fesh1)\n",
    "uh1,vh1 = fesh1.TnT()\n",
    "mh1 += InnerProduct(uh1,vh1)*dx\n",
    "mh1.Assemble()\n",
    "mh1mat = mh1.mat\n",
    "\n",
    "\n",
    "#TODO: include timestep for charge and current\n",
    "mc = BilinearForm(fesC)\n",
    "c,cp = fesC.TnT()\n",
    "mc += InnerProduct(c,cp)*dx\n",
    "mc.Assemble()\n",
    "mcmat = mc.mat\n",
    "mcmatinv = mcmat.Inverse(fesC.FreeDofs())\n",
    "\n",
    "n = specialcf.normal(mesh.dim)\n",
    "def qnormalg(aCF):\n",
    "    meshdim = 2\n",
    "    gdim=3\n",
    "    #return CF( (0, CF(tuple([InnerProduct( (aCF.Reshape((gdim,meshdim)))[i,:], n) for i in range(gdim) ])) ) )\n",
    "    return q_from_vecCF( CF(tuple([ InnerProduct((aCF.Reshape((gdim,meshdim)))[i,:], n) for i in range(gdim) ])) )\n",
    "\n",
    "covdiv = BilinearForm(trialspace=fesJ, testspace=fesC, nonassemble=True)\n",
    "#covdiv = BilinearForm(trialspace=fesJ, testspace=fesC)\n",
    "j,jp = fesJ.TnT()\n",
    "covdiv += InnerProduct(div(j), cp)*dx\n",
    "\n",
    "\n",
    "#TODO: assemble special jump term\n",
    "#TODO: element boundary or skeleton\n",
    "#TODO: prefactor 1/2?\n",
    "\n",
    "\n",
    "#TODO: orientation of U vs skeleton!\n",
    "\n",
    "#jump = vec_from_q( qnormalg(j.Other()) - qnormalg(j) )\n",
    "jump = vec_from_q( qmulCF(qmulCF(gfU, qnormalg(j.Other()) ), qconjCF(gfU)) - qnormalg(j) )\n",
    "jumpcp = vec_from_q( qmulCF(qmulCF(gfU, q_from_vecCF(cp.Other())), qconjCF(gfU)) - q_from_vecCF(cp) )\n",
    "\n",
    "#covdiv += InnerProduct( jump, cp )*dx(element_boundary=True)\n",
    "#covdiv += InnerProduct( jump, cp )*dx(skeleton=True)\n",
    "\n",
    "#covdiv += InnerProduct( jump, cp.Other() - cp )*dx(skeleton=True)\n",
    "covdiv += InnerProduct( jump, jumpcp )*dx(skeleton=True)\n",
    "\n",
    "#covdiv.Assemble()\n",
    "covdivmat = covdiv.mat"
   ]
  },
  {
   "cell_type": "code",
   "execution_count": null,
   "id": "d504138c",
   "metadata": {
    "scrolled": false
   },
   "outputs": [],
   "source": [
    "gfC = GridFunction(fesC)\n",
    "tempC = gfC.vec.CreateVector()\n",
    "newgfC = GridFunction(fesC)\n",
    "\n",
    "gfJ = GridFunction(fesJ)\n",
    "\n",
    "def timestep_charge(gfC, newgfC, gfJ):\n",
    "    newgfC.vec.data[:] = gfC.vec[:]\n",
    "    #tempC.data[:] = covdivmat* (gfJ.vec)\n",
    "    covdiv.Apply(gfJ.vec, tempC)\n",
    "    #tempC = dt* mcmatinv*tempC\n",
    "    #newgfC.vec.data[:] -= dt*mcmatinv* (covdivmat*gfJ.vec)\n",
    "    newgfC.vec.data[:] -= dt*mcmatinv* tempC\n",
    "    #newgfC.vec.data[:] -= tempC.vec[:]\n",
    "    gfC.vec.data[:] = newgfC.vec[:]\n"
   ]
  },
  {
   "cell_type": "code",
   "execution_count": null,
   "id": "eac87c69",
   "metadata": {},
   "outputs": [],
   "source": [
    "def gaussxy(mu, sigma2):\n",
    "    #return 1/sqrt(sigma2) * exp(-1/sigma2 *( (x-mu[0])*(x-mu[0]) + (y-mu[1])*(y-mu[1])))\n",
    "    return 1/sqrt(sigma2) * gaussx(mu[0], sigma2) * gaussy(mu[1], sigma2)\n",
    "\n",
    "def gaussx(mu, sigma2):\n",
    "    return 1/sqrt(sigma2) * exp(-1/sigma2 *( (x-mu)*(x-mu)))\n",
    "\n",
    "def gaussy(mu, sigma2):\n",
    "    return 1/sqrt(sigma2) * exp(-1/sigma2 *( (y-mu)*(y-mu)))\n",
    "\n",
    "mu= [0.5,0.2]\n",
    "sigma2 = 0.01\n",
    "\n",
    "def rho():\n",
    "    return 0.001*gaussxy(mu, sigma2) \n",
    "\n",
    "#gfC.Set( (x,x,x) )\n",
    "#gfC.Set( (rho(),0,0) )\n",
    "gfC.Set( (0,0,0) )\n",
    "\n",
    "\n",
    "print(len(gfJ.vec))\n",
    "\n",
    "Draw(gfC[0], mesh)\n",
    "\n",
    "gfJ.Set( ((x-0.5)*(x-0.5),0, 0,0, 0,0) )\n",
    "#gfJ.Set( (y-0.5,x-0.5, 0,0, 0,0) )\n",
    "#Draw(Norm(gfJ), mesh)\n",
    "Draw(gfJ[0], mesh)"
   ]
  },
  {
   "cell_type": "code",
   "execution_count": null,
   "id": "114655ff",
   "metadata": {},
   "outputs": [],
   "source": [
    "#dt = 0.1\n",
    "#dt = 0.5\n",
    "dt = 0.001\n",
    "#dt = 1.\n",
    "nt = 10000"
   ]
  },
  {
   "cell_type": "code",
   "execution_count": null,
   "id": "46313a26",
   "metadata": {
    "scrolled": true
   },
   "outputs": [],
   "source": [
    "#gfCscene = Draw(Norm(gfC), mesh)\n",
    "gfCscene = Draw(gfC[0], mesh)\n",
    "\n",
    "for i in range(nt):\n",
    "    timestep_charge(gfC, newgfC, gfJ)\n",
    "\n",
    "    \n",
    "    if i % 1 == 0:\n",
    "        gfCscene.Redraw()\n",
    "        \n",
    "    print (\"\\r\", f\"timestep:{i}\", end=\"\")"
   ]
  },
  {
   "cell_type": "code",
   "execution_count": null,
   "id": "b6fd5a0c",
   "metadata": {},
   "outputs": [],
   "source": []
  },
  {
   "cell_type": "code",
   "execution_count": null,
   "id": "696ab4d8",
   "metadata": {},
   "outputs": [],
   "source": []
  },
  {
   "cell_type": "code",
   "execution_count": null,
   "id": "67d671a7",
   "metadata": {},
   "outputs": [],
   "source": []
  },
  {
   "cell_type": "code",
   "execution_count": null,
   "id": "0e742f76",
   "metadata": {},
   "outputs": [],
   "source": []
  }
 ],
 "metadata": {
  "kernelspec": {
   "display_name": "Python 3 (ipykernel)",
   "language": "python",
   "name": "python3"
  },
  "language_info": {
   "codemirror_mode": {
    "name": "ipython",
    "version": 3
   },
   "file_extension": ".py",
   "mimetype": "text/x-python",
   "name": "python",
   "nbconvert_exporter": "python",
   "pygments_lexer": "ipython3",
   "version": "3.10.6"
  }
 },
 "nbformat": 4,
 "nbformat_minor": 5
}
